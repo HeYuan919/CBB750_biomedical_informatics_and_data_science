{
  "nbformat": 4,
  "nbformat_minor": 0,
  "metadata": {
    "colab": {
      "provenance": [],
      "authorship_tag": "ABX9TyPsvw11ar7lEPTmCVlOy5rl",
      "include_colab_link": true
    },
    "kernelspec": {
      "name": "python3",
      "display_name": "Python 3"
    },
    "language_info": {
      "name": "python"
    }
  },
  "cells": [
    {
      "cell_type": "markdown",
      "metadata": {
        "id": "view-in-github",
        "colab_type": "text"
      },
      "source": [
        "<a href=\"https://colab.research.google.com/github/TheLittleJimmy/CBB750/blob/main/Part2_Preprocessing.ipynb\" target=\"_parent\"><img src=\"https://colab.research.google.com/assets/colab-badge.svg\" alt=\"Open In Colab\"/></a>"
      ]
    },
    {
      "cell_type": "code",
      "source": [
        "from google.colab import drive\n",
        "drive.mount('/content/drive/')"
      ],
      "metadata": {
        "colab": {
          "base_uri": "https://localhost:8080/"
        },
        "id": "Aa3UjqqQUUhG",
        "outputId": "d5d2414b-1739-4d53-83aa-0beb7812fbac"
      },
      "execution_count": null,
      "outputs": [
        {
          "output_type": "stream",
          "name": "stdout",
          "text": [
            "Mounted at /content/drive/\n"
          ]
        }
      ]
    },
    {
      "cell_type": "code",
      "source": [
        "import pandas as pd\n",
        "import re"
      ],
      "metadata": {
        "id": "LMAS986rUVdl"
      },
      "execution_count": 5,
      "outputs": []
    },
    {
      "cell_type": "code",
      "source": [
        "data_path='/content/drive/MyDrive/BIS550_CBB750/project/Code by message type.xlsx'\n",
        "data_xl=pd.ExcelFile(data_path)\n",
        "categories=data_xl.sheet_names  # get all sheet names/categories"
      ],
      "metadata": {
        "id": "4RMUcdXgUVgH"
      },
      "execution_count": null,
      "outputs": []
    },
    {
      "cell_type": "code",
      "source": [
        "cat_msg={} # a dictionary that stores 'category name':dataframe\n",
        "for cat in categories:\n",
        "  cat_msg[cat]=pd.read_excel(data_xl,sheet_name=cat)"
      ],
      "metadata": {
        "id": "SQV6h29mUdw6"
      },
      "execution_count": null,
      "outputs": []
    },
    {
      "cell_type": "code",
      "source": [
        "cat_msg['Info Giving - Patient']['Quotation Content'][5]"
      ],
      "metadata": {
        "colab": {
          "base_uri": "https://localhost:8080/",
          "height": 90
        },
        "id": "TZhtOJeRVKe-",
        "outputId": "f5e9ac62-4319-4073-f14a-00bf240ef690"
      },
      "execution_count": null,
      "outputs": [
        {
          "output_type": "execute_result",
          "data": {
            "text/plain": [
              "'Dear Dr FYI- This is a follow up to my first appointment with you I just came across some old medical bills regarding the Novantrone treatments I received years ago They appear to have been administered monthly in 2002( I recall the treatments were over an 18-month span The oncologist at in Manchester CT who I was seeing was MD PhD 860-646-0670 The infusions were made up of: 4 Mitoxantrone hydrochloride 5 MG( J9293) 10 Dolasetron mesylate( J1260) and 3 Dexamethasone sodium phosphate( J1100) Sincerely\\u2029'"
            ],
            "application/vnd.google.colaboratory.intrinsic+json": {
              "type": "string"
            }
          },
          "metadata": {},
          "execution_count": 10
        }
      ]
    },
    {
      "cell_type": "code",
      "source": [
        "cat_msg['Info Giving - Auto']['Quotation Content'][0]"
      ],
      "metadata": {
        "colab": {
          "base_uri": "https://localhost:8080/",
          "height": 72
        },
        "id": "sV8DnatLnYSG",
        "outputId": "b542c9e3-0744-4c1e-890d-bbba3ce26110"
      },
      "execution_count": null,
      "outputs": [
        {
          "output_type": "execute_result",
          "data": {
            "text/plain": [
              "'Appointment Information: Visit Type: MyChart Video Visit Date: 5182020 Dept: at Smilow Trumbull Provider: Time: 1:00 PM Appt Status: Scheduled Appt Instructions: Please make sure that you have downloaded the MyChart App to your phone or tablet prior to the video visit During your video visit please make sure bluetooth is turned off on your device and you have closed out of other applications'"
            ],
            "application/vnd.google.colaboratory.intrinsic+json": {
              "type": "string"
            }
          },
          "metadata": {},
          "execution_count": 30
        }
      ]
    },
    {
      "cell_type": "code",
      "execution_count": 31,
      "metadata": {
        "id": "zTvPY0e_UM6V"
      },
      "outputs": [],
      "source": [
        "us_phone='(\\+?\\d{1,2}[-.\\s]?)?\\(?\\d{3}\\)?[-.\\s]?\\d{3}[-.\\s]?\\d{4}'\n",
        "date_dmy_en='(0?[1-9]|[12][0-9]|3[01])(?:st|nd|rd|th) (?:Jan|Feb|Mar|Apr|May|Jun|Jul|Aug|Sep|Oct|Nov|Dec|January|February|March|April|May|June|July|August|September|October|November|December) (1\\d{3}|[2-9]\\d{3})' # doesn't match 4th Feb 999\n",
        "#time_re='\\d{2}:\\d{2}\\s?(am)?(pm)?(AM)?(PM)?'\n",
        "#time_re='([01]?[0-9]|2[0-3]):([0-5][0-9])'\n"
      ]
    },
    {
      "cell_type": "code",
      "source": [
        "def test_re(test_msg,RE):\n",
        "  print(re.sub(RE,'<match>',test_msg))"
      ],
      "metadata": {
        "id": "D5eg0e7lM3nz"
      },
      "execution_count": 8,
      "outputs": []
    },
    {
      "cell_type": "code",
      "source": [
        "test_re(\"Today is 3 March 1999\",date_dmy_en)"
      ],
      "metadata": {
        "colab": {
          "base_uri": "https://localhost:8080/"
        },
        "id": "m2PTbaccNJ-K",
        "outputId": "259ddfe2-e32a-4d7a-dbc9-c4934c976ecb"
      },
      "execution_count": 32,
      "outputs": [
        {
          "output_type": "stream",
          "name": "stdout",
          "text": [
            "Today is 3 March 1999\n"
          ]
        }
      ]
    },
    {
      "cell_type": "code",
      "source": [
        "re_match_replace={'<phone number>':[us_phone],'<date>':[date_dmy_en]}"
      ],
      "metadata": {
        "id": "CANt8LEfVQEI"
      },
      "execution_count": 33,
      "outputs": []
    },
    {
      "cell_type": "code",
      "source": [
        "# msg: the text to process\n",
        "# re_match_replace: a dictionary of key-value pair in the format \"token to replace with\":[\"regular expression to match\"]\n",
        "def replace_with_token(msg,re_match_replace):\n",
        "  ori=msg\n",
        "  for token in re_match_replace:\n",
        "    for re_to_match in re_match_replace[token]:\n",
        "      msg=re.sub(re_to_match,token,msg)\n",
        "  return msg, ori!=msg"
      ],
      "metadata": {
        "id": "n5MfNQjlIpu-"
      },
      "execution_count": 37,
      "outputs": []
    },
    {
      "cell_type": "code",
      "source": [
        "replace_with_token('today is 3rd May 2019, this is my phone number 123-456-7890',re_match_replace)"
      ],
      "metadata": {
        "colab": {
          "base_uri": "https://localhost:8080/"
        },
        "id": "3nOoOQybVmrE",
        "outputId": "8813e98f-547b-41af-8e24-8930e55c880c"
      },
      "execution_count": 38,
      "outputs": [
        {
          "output_type": "execute_result",
          "data": {
            "text/plain": [
              "('today is <date>, this is my phone number <phone number>', True)"
            ]
          },
          "metadata": {},
          "execution_count": 38
        }
      ]
    }
  ]
}