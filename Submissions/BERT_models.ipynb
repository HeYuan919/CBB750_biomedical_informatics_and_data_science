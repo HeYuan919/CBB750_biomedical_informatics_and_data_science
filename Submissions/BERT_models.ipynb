{
  "nbformat": 4,
  "nbformat_minor": 0,
  "metadata": {
    "colab": {
      "provenance": [],
      "machine_shape": "hm"
    },
    "kernelspec": {
      "name": "python3",
      "display_name": "Python 3"
    },
    "language_info": {
      "name": "python"
    },
    "accelerator": "GPU",
    "gpuClass": "premium",
    "widgets": {
      "application/vnd.jupyter.widget-state+json": {
        "72e6e1a66cc944109f8e30a05997aa05": {
          "model_module": "@jupyter-widgets/controls",
          "model_name": "HBoxModel",
          "model_module_version": "1.5.0",
          "state": {
            "_dom_classes": [],
            "_model_module": "@jupyter-widgets/controls",
            "_model_module_version": "1.5.0",
            "_model_name": "HBoxModel",
            "_view_count": null,
            "_view_module": "@jupyter-widgets/controls",
            "_view_module_version": "1.5.0",
            "_view_name": "HBoxView",
            "box_style": "",
            "children": [
              "IPY_MODEL_47e82cda87964b70855690a569119193",
              "IPY_MODEL_0e8faf972b8d41c687bbd0f79dc64024",
              "IPY_MODEL_e43ce795ae2145768ce8ca49d922895f"
            ],
            "layout": "IPY_MODEL_fed43545920a4abe814ffef066b0a356"
          }
        },
        "47e82cda87964b70855690a569119193": {
          "model_module": "@jupyter-widgets/controls",
          "model_name": "HTMLModel",
          "model_module_version": "1.5.0",
          "state": {
            "_dom_classes": [],
            "_model_module": "@jupyter-widgets/controls",
            "_model_module_version": "1.5.0",
            "_model_name": "HTMLModel",
            "_view_count": null,
            "_view_module": "@jupyter-widgets/controls",
            "_view_module_version": "1.5.0",
            "_view_name": "HTMLView",
            "description": "",
            "description_tooltip": null,
            "layout": "IPY_MODEL_664bc0166a4a4a049314fe29b894555a",
            "placeholder": "​",
            "style": "IPY_MODEL_51734ed094ea4dd68bd1998aed8e5742",
            "value": "Downloading (…)lve/main/config.json: 100%"
          }
        },
        "0e8faf972b8d41c687bbd0f79dc64024": {
          "model_module": "@jupyter-widgets/controls",
          "model_name": "FloatProgressModel",
          "model_module_version": "1.5.0",
          "state": {
            "_dom_classes": [],
            "_model_module": "@jupyter-widgets/controls",
            "_model_module_version": "1.5.0",
            "_model_name": "FloatProgressModel",
            "_view_count": null,
            "_view_module": "@jupyter-widgets/controls",
            "_view_module_version": "1.5.0",
            "_view_name": "ProgressView",
            "bar_style": "success",
            "description": "",
            "description_tooltip": null,
            "layout": "IPY_MODEL_61dbdd116c6646ba9973c5e792469f06",
            "max": 385,
            "min": 0,
            "orientation": "horizontal",
            "style": "IPY_MODEL_551f5a1ec2d84cbf879696cba27d2269",
            "value": 385
          }
        },
        "e43ce795ae2145768ce8ca49d922895f": {
          "model_module": "@jupyter-widgets/controls",
          "model_name": "HTMLModel",
          "model_module_version": "1.5.0",
          "state": {
            "_dom_classes": [],
            "_model_module": "@jupyter-widgets/controls",
            "_model_module_version": "1.5.0",
            "_model_name": "HTMLModel",
            "_view_count": null,
            "_view_module": "@jupyter-widgets/controls",
            "_view_module_version": "1.5.0",
            "_view_name": "HTMLView",
            "description": "",
            "description_tooltip": null,
            "layout": "IPY_MODEL_e65505f2fdaf4815bdb78b9c4441de0f",
            "placeholder": "​",
            "style": "IPY_MODEL_78f7bef8856d483c90cef30fd11bde05",
            "value": " 385/385 [00:00&lt;00:00, 24.3kB/s]"
          }
        },
        "fed43545920a4abe814ffef066b0a356": {
          "model_module": "@jupyter-widgets/base",
          "model_name": "LayoutModel",
          "model_module_version": "1.2.0",
          "state": {
            "_model_module": "@jupyter-widgets/base",
            "_model_module_version": "1.2.0",
            "_model_name": "LayoutModel",
            "_view_count": null,
            "_view_module": "@jupyter-widgets/base",
            "_view_module_version": "1.2.0",
            "_view_name": "LayoutView",
            "align_content": null,
            "align_items": null,
            "align_self": null,
            "border": null,
            "bottom": null,
            "display": null,
            "flex": null,
            "flex_flow": null,
            "grid_area": null,
            "grid_auto_columns": null,
            "grid_auto_flow": null,
            "grid_auto_rows": null,
            "grid_column": null,
            "grid_gap": null,
            "grid_row": null,
            "grid_template_areas": null,
            "grid_template_columns": null,
            "grid_template_rows": null,
            "height": null,
            "justify_content": null,
            "justify_items": null,
            "left": null,
            "margin": null,
            "max_height": null,
            "max_width": null,
            "min_height": null,
            "min_width": null,
            "object_fit": null,
            "object_position": null,
            "order": null,
            "overflow": null,
            "overflow_x": null,
            "overflow_y": null,
            "padding": null,
            "right": null,
            "top": null,
            "visibility": null,
            "width": null
          }
        },
        "664bc0166a4a4a049314fe29b894555a": {
          "model_module": "@jupyter-widgets/base",
          "model_name": "LayoutModel",
          "model_module_version": "1.2.0",
          "state": {
            "_model_module": "@jupyter-widgets/base",
            "_model_module_version": "1.2.0",
            "_model_name": "LayoutModel",
            "_view_count": null,
            "_view_module": "@jupyter-widgets/base",
            "_view_module_version": "1.2.0",
            "_view_name": "LayoutView",
            "align_content": null,
            "align_items": null,
            "align_self": null,
            "border": null,
            "bottom": null,
            "display": null,
            "flex": null,
            "flex_flow": null,
            "grid_area": null,
            "grid_auto_columns": null,
            "grid_auto_flow": null,
            "grid_auto_rows": null,
            "grid_column": null,
            "grid_gap": null,
            "grid_row": null,
            "grid_template_areas": null,
            "grid_template_columns": null,
            "grid_template_rows": null,
            "height": null,
            "justify_content": null,
            "justify_items": null,
            "left": null,
            "margin": null,
            "max_height": null,
            "max_width": null,
            "min_height": null,
            "min_width": null,
            "object_fit": null,
            "object_position": null,
            "order": null,
            "overflow": null,
            "overflow_x": null,
            "overflow_y": null,
            "padding": null,
            "right": null,
            "top": null,
            "visibility": null,
            "width": null
          }
        },
        "51734ed094ea4dd68bd1998aed8e5742": {
          "model_module": "@jupyter-widgets/controls",
          "model_name": "DescriptionStyleModel",
          "model_module_version": "1.5.0",
          "state": {
            "_model_module": "@jupyter-widgets/controls",
            "_model_module_version": "1.5.0",
            "_model_name": "DescriptionStyleModel",
            "_view_count": null,
            "_view_module": "@jupyter-widgets/base",
            "_view_module_version": "1.2.0",
            "_view_name": "StyleView",
            "description_width": ""
          }
        },
        "61dbdd116c6646ba9973c5e792469f06": {
          "model_module": "@jupyter-widgets/base",
          "model_name": "LayoutModel",
          "model_module_version": "1.2.0",
          "state": {
            "_model_module": "@jupyter-widgets/base",
            "_model_module_version": "1.2.0",
            "_model_name": "LayoutModel",
            "_view_count": null,
            "_view_module": "@jupyter-widgets/base",
            "_view_module_version": "1.2.0",
            "_view_name": "LayoutView",
            "align_content": null,
            "align_items": null,
            "align_self": null,
            "border": null,
            "bottom": null,
            "display": null,
            "flex": null,
            "flex_flow": null,
            "grid_area": null,
            "grid_auto_columns": null,
            "grid_auto_flow": null,
            "grid_auto_rows": null,
            "grid_column": null,
            "grid_gap": null,
            "grid_row": null,
            "grid_template_areas": null,
            "grid_template_columns": null,
            "grid_template_rows": null,
            "height": null,
            "justify_content": null,
            "justify_items": null,
            "left": null,
            "margin": null,
            "max_height": null,
            "max_width": null,
            "min_height": null,
            "min_width": null,
            "object_fit": null,
            "object_position": null,
            "order": null,
            "overflow": null,
            "overflow_x": null,
            "overflow_y": null,
            "padding": null,
            "right": null,
            "top": null,
            "visibility": null,
            "width": null
          }
        },
        "551f5a1ec2d84cbf879696cba27d2269": {
          "model_module": "@jupyter-widgets/controls",
          "model_name": "ProgressStyleModel",
          "model_module_version": "1.5.0",
          "state": {
            "_model_module": "@jupyter-widgets/controls",
            "_model_module_version": "1.5.0",
            "_model_name": "ProgressStyleModel",
            "_view_count": null,
            "_view_module": "@jupyter-widgets/base",
            "_view_module_version": "1.2.0",
            "_view_name": "StyleView",
            "bar_color": null,
            "description_width": ""
          }
        },
        "e65505f2fdaf4815bdb78b9c4441de0f": {
          "model_module": "@jupyter-widgets/base",
          "model_name": "LayoutModel",
          "model_module_version": "1.2.0",
          "state": {
            "_model_module": "@jupyter-widgets/base",
            "_model_module_version": "1.2.0",
            "_model_name": "LayoutModel",
            "_view_count": null,
            "_view_module": "@jupyter-widgets/base",
            "_view_module_version": "1.2.0",
            "_view_name": "LayoutView",
            "align_content": null,
            "align_items": null,
            "align_self": null,
            "border": null,
            "bottom": null,
            "display": null,
            "flex": null,
            "flex_flow": null,
            "grid_area": null,
            "grid_auto_columns": null,
            "grid_auto_flow": null,
            "grid_auto_rows": null,
            "grid_column": null,
            "grid_gap": null,
            "grid_row": null,
            "grid_template_areas": null,
            "grid_template_columns": null,
            "grid_template_rows": null,
            "height": null,
            "justify_content": null,
            "justify_items": null,
            "left": null,
            "margin": null,
            "max_height": null,
            "max_width": null,
            "min_height": null,
            "min_width": null,
            "object_fit": null,
            "object_position": null,
            "order": null,
            "overflow": null,
            "overflow_x": null,
            "overflow_y": null,
            "padding": null,
            "right": null,
            "top": null,
            "visibility": null,
            "width": null
          }
        },
        "78f7bef8856d483c90cef30fd11bde05": {
          "model_module": "@jupyter-widgets/controls",
          "model_name": "DescriptionStyleModel",
          "model_module_version": "1.5.0",
          "state": {
            "_model_module": "@jupyter-widgets/controls",
            "_model_module_version": "1.5.0",
            "_model_name": "DescriptionStyleModel",
            "_view_count": null,
            "_view_module": "@jupyter-widgets/base",
            "_view_module_version": "1.2.0",
            "_view_name": "StyleView",
            "description_width": ""
          }
        },
        "9fda99d3c3d1421f967b12ad981b58da": {
          "model_module": "@jupyter-widgets/controls",
          "model_name": "HBoxModel",
          "model_module_version": "1.5.0",
          "state": {
            "_dom_classes": [],
            "_model_module": "@jupyter-widgets/controls",
            "_model_module_version": "1.5.0",
            "_model_name": "HBoxModel",
            "_view_count": null,
            "_view_module": "@jupyter-widgets/controls",
            "_view_module_version": "1.5.0",
            "_view_name": "HBoxView",
            "box_style": "",
            "children": [
              "IPY_MODEL_8db279e48fc14ad78a2d38abb9266767",
              "IPY_MODEL_3e01dc0bf3eb4417b30d185341f36de7",
              "IPY_MODEL_a143c9f5eb6b46028edab2f794db52fd"
            ],
            "layout": "IPY_MODEL_8d999e40d02549d99ab7ede63e9e82a9"
          }
        },
        "8db279e48fc14ad78a2d38abb9266767": {
          "model_module": "@jupyter-widgets/controls",
          "model_name": "HTMLModel",
          "model_module_version": "1.5.0",
          "state": {
            "_dom_classes": [],
            "_model_module": "@jupyter-widgets/controls",
            "_model_module_version": "1.5.0",
            "_model_name": "HTMLModel",
            "_view_count": null,
            "_view_module": "@jupyter-widgets/controls",
            "_view_module_version": "1.5.0",
            "_view_name": "HTMLView",
            "description": "",
            "description_tooltip": null,
            "layout": "IPY_MODEL_70fa826bfdbb40aba56702b4b6393a00",
            "placeholder": "​",
            "style": "IPY_MODEL_d7c919e2d769430d8b3059760c5e83ef",
            "value": "Downloading (…)solve/main/vocab.txt: 100%"
          }
        },
        "3e01dc0bf3eb4417b30d185341f36de7": {
          "model_module": "@jupyter-widgets/controls",
          "model_name": "FloatProgressModel",
          "model_module_version": "1.5.0",
          "state": {
            "_dom_classes": [],
            "_model_module": "@jupyter-widgets/controls",
            "_model_module_version": "1.5.0",
            "_model_name": "FloatProgressModel",
            "_view_count": null,
            "_view_module": "@jupyter-widgets/controls",
            "_view_module_version": "1.5.0",
            "_view_name": "ProgressView",
            "bar_style": "success",
            "description": "",
            "description_tooltip": null,
            "layout": "IPY_MODEL_f9035cb059414953abecc4cb4e1ec1b2",
            "max": 213450,
            "min": 0,
            "orientation": "horizontal",
            "style": "IPY_MODEL_5362b9ad603245b7b27cab896d311787",
            "value": 213450
          }
        },
        "a143c9f5eb6b46028edab2f794db52fd": {
          "model_module": "@jupyter-widgets/controls",
          "model_name": "HTMLModel",
          "model_module_version": "1.5.0",
          "state": {
            "_dom_classes": [],
            "_model_module": "@jupyter-widgets/controls",
            "_model_module_version": "1.5.0",
            "_model_name": "HTMLModel",
            "_view_count": null,
            "_view_module": "@jupyter-widgets/controls",
            "_view_module_version": "1.5.0",
            "_view_name": "HTMLView",
            "description": "",
            "description_tooltip": null,
            "layout": "IPY_MODEL_db48b571a568453993be8fc21f07209b",
            "placeholder": "​",
            "style": "IPY_MODEL_96280e2ff4204e56823cf9a1fb0a4de7",
            "value": " 213k/213k [00:00&lt;00:00, 4.50MB/s]"
          }
        },
        "8d999e40d02549d99ab7ede63e9e82a9": {
          "model_module": "@jupyter-widgets/base",
          "model_name": "LayoutModel",
          "model_module_version": "1.2.0",
          "state": {
            "_model_module": "@jupyter-widgets/base",
            "_model_module_version": "1.2.0",
            "_model_name": "LayoutModel",
            "_view_count": null,
            "_view_module": "@jupyter-widgets/base",
            "_view_module_version": "1.2.0",
            "_view_name": "LayoutView",
            "align_content": null,
            "align_items": null,
            "align_self": null,
            "border": null,
            "bottom": null,
            "display": null,
            "flex": null,
            "flex_flow": null,
            "grid_area": null,
            "grid_auto_columns": null,
            "grid_auto_flow": null,
            "grid_auto_rows": null,
            "grid_column": null,
            "grid_gap": null,
            "grid_row": null,
            "grid_template_areas": null,
            "grid_template_columns": null,
            "grid_template_rows": null,
            "height": null,
            "justify_content": null,
            "justify_items": null,
            "left": null,
            "margin": null,
            "max_height": null,
            "max_width": null,
            "min_height": null,
            "min_width": null,
            "object_fit": null,
            "object_position": null,
            "order": null,
            "overflow": null,
            "overflow_x": null,
            "overflow_y": null,
            "padding": null,
            "right": null,
            "top": null,
            "visibility": null,
            "width": null
          }
        },
        "70fa826bfdbb40aba56702b4b6393a00": {
          "model_module": "@jupyter-widgets/base",
          "model_name": "LayoutModel",
          "model_module_version": "1.2.0",
          "state": {
            "_model_module": "@jupyter-widgets/base",
            "_model_module_version": "1.2.0",
            "_model_name": "LayoutModel",
            "_view_count": null,
            "_view_module": "@jupyter-widgets/base",
            "_view_module_version": "1.2.0",
            "_view_name": "LayoutView",
            "align_content": null,
            "align_items": null,
            "align_self": null,
            "border": null,
            "bottom": null,
            "display": null,
            "flex": null,
            "flex_flow": null,
            "grid_area": null,
            "grid_auto_columns": null,
            "grid_auto_flow": null,
            "grid_auto_rows": null,
            "grid_column": null,
            "grid_gap": null,
            "grid_row": null,
            "grid_template_areas": null,
            "grid_template_columns": null,
            "grid_template_rows": null,
            "height": null,
            "justify_content": null,
            "justify_items": null,
            "left": null,
            "margin": null,
            "max_height": null,
            "max_width": null,
            "min_height": null,
            "min_width": null,
            "object_fit": null,
            "object_position": null,
            "order": null,
            "overflow": null,
            "overflow_x": null,
            "overflow_y": null,
            "padding": null,
            "right": null,
            "top": null,
            "visibility": null,
            "width": null
          }
        },
        "d7c919e2d769430d8b3059760c5e83ef": {
          "model_module": "@jupyter-widgets/controls",
          "model_name": "DescriptionStyleModel",
          "model_module_version": "1.5.0",
          "state": {
            "_model_module": "@jupyter-widgets/controls",
            "_model_module_version": "1.5.0",
            "_model_name": "DescriptionStyleModel",
            "_view_count": null,
            "_view_module": "@jupyter-widgets/base",
            "_view_module_version": "1.2.0",
            "_view_name": "StyleView",
            "description_width": ""
          }
        },
        "f9035cb059414953abecc4cb4e1ec1b2": {
          "model_module": "@jupyter-widgets/base",
          "model_name": "LayoutModel",
          "model_module_version": "1.2.0",
          "state": {
            "_model_module": "@jupyter-widgets/base",
            "_model_module_version": "1.2.0",
            "_model_name": "LayoutModel",
            "_view_count": null,
            "_view_module": "@jupyter-widgets/base",
            "_view_module_version": "1.2.0",
            "_view_name": "LayoutView",
            "align_content": null,
            "align_items": null,
            "align_self": null,
            "border": null,
            "bottom": null,
            "display": null,
            "flex": null,
            "flex_flow": null,
            "grid_area": null,
            "grid_auto_columns": null,
            "grid_auto_flow": null,
            "grid_auto_rows": null,
            "grid_column": null,
            "grid_gap": null,
            "grid_row": null,
            "grid_template_areas": null,
            "grid_template_columns": null,
            "grid_template_rows": null,
            "height": null,
            "justify_content": null,
            "justify_items": null,
            "left": null,
            "margin": null,
            "max_height": null,
            "max_width": null,
            "min_height": null,
            "min_width": null,
            "object_fit": null,
            "object_position": null,
            "order": null,
            "overflow": null,
            "overflow_x": null,
            "overflow_y": null,
            "padding": null,
            "right": null,
            "top": null,
            "visibility": null,
            "width": null
          }
        },
        "5362b9ad603245b7b27cab896d311787": {
          "model_module": "@jupyter-widgets/controls",
          "model_name": "ProgressStyleModel",
          "model_module_version": "1.5.0",
          "state": {
            "_model_module": "@jupyter-widgets/controls",
            "_model_module_version": "1.5.0",
            "_model_name": "ProgressStyleModel",
            "_view_count": null,
            "_view_module": "@jupyter-widgets/base",
            "_view_module_version": "1.2.0",
            "_view_name": "StyleView",
            "bar_color": null,
            "description_width": ""
          }
        },
        "db48b571a568453993be8fc21f07209b": {
          "model_module": "@jupyter-widgets/base",
          "model_name": "LayoutModel",
          "model_module_version": "1.2.0",
          "state": {
            "_model_module": "@jupyter-widgets/base",
            "_model_module_version": "1.2.0",
            "_model_name": "LayoutModel",
            "_view_count": null,
            "_view_module": "@jupyter-widgets/base",
            "_view_module_version": "1.2.0",
            "_view_name": "LayoutView",
            "align_content": null,
            "align_items": null,
            "align_self": null,
            "border": null,
            "bottom": null,
            "display": null,
            "flex": null,
            "flex_flow": null,
            "grid_area": null,
            "grid_auto_columns": null,
            "grid_auto_flow": null,
            "grid_auto_rows": null,
            "grid_column": null,
            "grid_gap": null,
            "grid_row": null,
            "grid_template_areas": null,
            "grid_template_columns": null,
            "grid_template_rows": null,
            "height": null,
            "justify_content": null,
            "justify_items": null,
            "left": null,
            "margin": null,
            "max_height": null,
            "max_width": null,
            "min_height": null,
            "min_width": null,
            "object_fit": null,
            "object_position": null,
            "order": null,
            "overflow": null,
            "overflow_x": null,
            "overflow_y": null,
            "padding": null,
            "right": null,
            "top": null,
            "visibility": null,
            "width": null
          }
        },
        "96280e2ff4204e56823cf9a1fb0a4de7": {
          "model_module": "@jupyter-widgets/controls",
          "model_name": "DescriptionStyleModel",
          "model_module_version": "1.5.0",
          "state": {
            "_model_module": "@jupyter-widgets/controls",
            "_model_module_version": "1.5.0",
            "_model_name": "DescriptionStyleModel",
            "_view_count": null,
            "_view_module": "@jupyter-widgets/base",
            "_view_module_version": "1.2.0",
            "_view_name": "StyleView",
            "description_width": ""
          }
        },
        "6452960270e54dd8bf6ab21031686d69": {
          "model_module": "@jupyter-widgets/controls",
          "model_name": "HBoxModel",
          "model_module_version": "1.5.0",
          "state": {
            "_dom_classes": [],
            "_model_module": "@jupyter-widgets/controls",
            "_model_module_version": "1.5.0",
            "_model_name": "HBoxModel",
            "_view_count": null,
            "_view_module": "@jupyter-widgets/controls",
            "_view_module_version": "1.5.0",
            "_view_name": "HBoxView",
            "box_style": "",
            "children": [
              "IPY_MODEL_25d24bf171d6454491ebbaf59790438f",
              "IPY_MODEL_72ce3ea86bda4bed890e5ef47eff22c4",
              "IPY_MODEL_79670035be19453ca5ac16fb0177c5ff"
            ],
            "layout": "IPY_MODEL_b3e61ca80850408dadba8e87d61446ea"
          }
        },
        "25d24bf171d6454491ebbaf59790438f": {
          "model_module": "@jupyter-widgets/controls",
          "model_name": "HTMLModel",
          "model_module_version": "1.5.0",
          "state": {
            "_dom_classes": [],
            "_model_module": "@jupyter-widgets/controls",
            "_model_module_version": "1.5.0",
            "_model_name": "HTMLModel",
            "_view_count": null,
            "_view_module": "@jupyter-widgets/controls",
            "_view_module_version": "1.5.0",
            "_view_name": "HTMLView",
            "description": "",
            "description_tooltip": null,
            "layout": "IPY_MODEL_bdabb71d62864252ac60adacc948def5",
            "placeholder": "​",
            "style": "IPY_MODEL_a703ebe5e0514883a1644c1862382723",
            "value": "Downloading pytorch_model.bin: 100%"
          }
        },
        "72ce3ea86bda4bed890e5ef47eff22c4": {
          "model_module": "@jupyter-widgets/controls",
          "model_name": "FloatProgressModel",
          "model_module_version": "1.5.0",
          "state": {
            "_dom_classes": [],
            "_model_module": "@jupyter-widgets/controls",
            "_model_module_version": "1.5.0",
            "_model_name": "FloatProgressModel",
            "_view_count": null,
            "_view_module": "@jupyter-widgets/controls",
            "_view_module_version": "1.5.0",
            "_view_name": "ProgressView",
            "bar_style": "success",
            "description": "",
            "description_tooltip": null,
            "layout": "IPY_MODEL_55291c25026047ae98e58e4bdbec2bed",
            "max": 435778770,
            "min": 0,
            "orientation": "horizontal",
            "style": "IPY_MODEL_5c18c33bc18d413395d00f65b7cb521c",
            "value": 435778770
          }
        },
        "79670035be19453ca5ac16fb0177c5ff": {
          "model_module": "@jupyter-widgets/controls",
          "model_name": "HTMLModel",
          "model_module_version": "1.5.0",
          "state": {
            "_dom_classes": [],
            "_model_module": "@jupyter-widgets/controls",
            "_model_module_version": "1.5.0",
            "_model_name": "HTMLModel",
            "_view_count": null,
            "_view_module": "@jupyter-widgets/controls",
            "_view_module_version": "1.5.0",
            "_view_name": "HTMLView",
            "description": "",
            "description_tooltip": null,
            "layout": "IPY_MODEL_60d16dc9999c4544a63bb5cb30afe07f",
            "placeholder": "​",
            "style": "IPY_MODEL_3b3bf98d8c0b4155a9e11435271056fa",
            "value": " 436M/436M [00:04&lt;00:00, 103MB/s]"
          }
        },
        "b3e61ca80850408dadba8e87d61446ea": {
          "model_module": "@jupyter-widgets/base",
          "model_name": "LayoutModel",
          "model_module_version": "1.2.0",
          "state": {
            "_model_module": "@jupyter-widgets/base",
            "_model_module_version": "1.2.0",
            "_model_name": "LayoutModel",
            "_view_count": null,
            "_view_module": "@jupyter-widgets/base",
            "_view_module_version": "1.2.0",
            "_view_name": "LayoutView",
            "align_content": null,
            "align_items": null,
            "align_self": null,
            "border": null,
            "bottom": null,
            "display": null,
            "flex": null,
            "flex_flow": null,
            "grid_area": null,
            "grid_auto_columns": null,
            "grid_auto_flow": null,
            "grid_auto_rows": null,
            "grid_column": null,
            "grid_gap": null,
            "grid_row": null,
            "grid_template_areas": null,
            "grid_template_columns": null,
            "grid_template_rows": null,
            "height": null,
            "justify_content": null,
            "justify_items": null,
            "left": null,
            "margin": null,
            "max_height": null,
            "max_width": null,
            "min_height": null,
            "min_width": null,
            "object_fit": null,
            "object_position": null,
            "order": null,
            "overflow": null,
            "overflow_x": null,
            "overflow_y": null,
            "padding": null,
            "right": null,
            "top": null,
            "visibility": null,
            "width": null
          }
        },
        "bdabb71d62864252ac60adacc948def5": {
          "model_module": "@jupyter-widgets/base",
          "model_name": "LayoutModel",
          "model_module_version": "1.2.0",
          "state": {
            "_model_module": "@jupyter-widgets/base",
            "_model_module_version": "1.2.0",
            "_model_name": "LayoutModel",
            "_view_count": null,
            "_view_module": "@jupyter-widgets/base",
            "_view_module_version": "1.2.0",
            "_view_name": "LayoutView",
            "align_content": null,
            "align_items": null,
            "align_self": null,
            "border": null,
            "bottom": null,
            "display": null,
            "flex": null,
            "flex_flow": null,
            "grid_area": null,
            "grid_auto_columns": null,
            "grid_auto_flow": null,
            "grid_auto_rows": null,
            "grid_column": null,
            "grid_gap": null,
            "grid_row": null,
            "grid_template_areas": null,
            "grid_template_columns": null,
            "grid_template_rows": null,
            "height": null,
            "justify_content": null,
            "justify_items": null,
            "left": null,
            "margin": null,
            "max_height": null,
            "max_width": null,
            "min_height": null,
            "min_width": null,
            "object_fit": null,
            "object_position": null,
            "order": null,
            "overflow": null,
            "overflow_x": null,
            "overflow_y": null,
            "padding": null,
            "right": null,
            "top": null,
            "visibility": null,
            "width": null
          }
        },
        "a703ebe5e0514883a1644c1862382723": {
          "model_module": "@jupyter-widgets/controls",
          "model_name": "DescriptionStyleModel",
          "model_module_version": "1.5.0",
          "state": {
            "_model_module": "@jupyter-widgets/controls",
            "_model_module_version": "1.5.0",
            "_model_name": "DescriptionStyleModel",
            "_view_count": null,
            "_view_module": "@jupyter-widgets/base",
            "_view_module_version": "1.2.0",
            "_view_name": "StyleView",
            "description_width": ""
          }
        },
        "55291c25026047ae98e58e4bdbec2bed": {
          "model_module": "@jupyter-widgets/base",
          "model_name": "LayoutModel",
          "model_module_version": "1.2.0",
          "state": {
            "_model_module": "@jupyter-widgets/base",
            "_model_module_version": "1.2.0",
            "_model_name": "LayoutModel",
            "_view_count": null,
            "_view_module": "@jupyter-widgets/base",
            "_view_module_version": "1.2.0",
            "_view_name": "LayoutView",
            "align_content": null,
            "align_items": null,
            "align_self": null,
            "border": null,
            "bottom": null,
            "display": null,
            "flex": null,
            "flex_flow": null,
            "grid_area": null,
            "grid_auto_columns": null,
            "grid_auto_flow": null,
            "grid_auto_rows": null,
            "grid_column": null,
            "grid_gap": null,
            "grid_row": null,
            "grid_template_areas": null,
            "grid_template_columns": null,
            "grid_template_rows": null,
            "height": null,
            "justify_content": null,
            "justify_items": null,
            "left": null,
            "margin": null,
            "max_height": null,
            "max_width": null,
            "min_height": null,
            "min_width": null,
            "object_fit": null,
            "object_position": null,
            "order": null,
            "overflow": null,
            "overflow_x": null,
            "overflow_y": null,
            "padding": null,
            "right": null,
            "top": null,
            "visibility": null,
            "width": null
          }
        },
        "5c18c33bc18d413395d00f65b7cb521c": {
          "model_module": "@jupyter-widgets/controls",
          "model_name": "ProgressStyleModel",
          "model_module_version": "1.5.0",
          "state": {
            "_model_module": "@jupyter-widgets/controls",
            "_model_module_version": "1.5.0",
            "_model_name": "ProgressStyleModel",
            "_view_count": null,
            "_view_module": "@jupyter-widgets/base",
            "_view_module_version": "1.2.0",
            "_view_name": "StyleView",
            "bar_color": null,
            "description_width": ""
          }
        },
        "60d16dc9999c4544a63bb5cb30afe07f": {
          "model_module": "@jupyter-widgets/base",
          "model_name": "LayoutModel",
          "model_module_version": "1.2.0",
          "state": {
            "_model_module": "@jupyter-widgets/base",
            "_model_module_version": "1.2.0",
            "_model_name": "LayoutModel",
            "_view_count": null,
            "_view_module": "@jupyter-widgets/base",
            "_view_module_version": "1.2.0",
            "_view_name": "LayoutView",
            "align_content": null,
            "align_items": null,
            "align_self": null,
            "border": null,
            "bottom": null,
            "display": null,
            "flex": null,
            "flex_flow": null,
            "grid_area": null,
            "grid_auto_columns": null,
            "grid_auto_flow": null,
            "grid_auto_rows": null,
            "grid_column": null,
            "grid_gap": null,
            "grid_row": null,
            "grid_template_areas": null,
            "grid_template_columns": null,
            "grid_template_rows": null,
            "height": null,
            "justify_content": null,
            "justify_items": null,
            "left": null,
            "margin": null,
            "max_height": null,
            "max_width": null,
            "min_height": null,
            "min_width": null,
            "object_fit": null,
            "object_position": null,
            "order": null,
            "overflow": null,
            "overflow_x": null,
            "overflow_y": null,
            "padding": null,
            "right": null,
            "top": null,
            "visibility": null,
            "width": null
          }
        },
        "3b3bf98d8c0b4155a9e11435271056fa": {
          "model_module": "@jupyter-widgets/controls",
          "model_name": "DescriptionStyleModel",
          "model_module_version": "1.5.0",
          "state": {
            "_model_module": "@jupyter-widgets/controls",
            "_model_module_version": "1.5.0",
            "_model_name": "DescriptionStyleModel",
            "_view_count": null,
            "_view_module": "@jupyter-widgets/base",
            "_view_module_version": "1.2.0",
            "_view_name": "StyleView",
            "description_width": ""
          }
        }
      }
    }
  },
  "cells": [
    {
      "cell_type": "markdown",
      "source": [
        "### Experiment Settings"
      ],
      "metadata": {
        "id": "vAIuPDnYgGqS"
      }
    },
    {
      "cell_type": "code",
      "source": [
        "epochs = 20\n",
        "max_len = 300"
      ],
      "metadata": {
        "id": "dBal155-TaAM"
      },
      "execution_count": 1,
      "outputs": []
    },
    {
      "cell_type": "code",
      "source": [
        "# Experiment_name\n",
        "experiment_name = 'basline_entire_dataset'\n",
        "\n",
        "# Naming: model\n",
        "model_path = '/content/drive/My Drive/CBB-750/Final Project/model/' + experiment_name + '.pt'\n",
        "print(model_path)\n",
        "\n",
        "# Naming: training history\n",
        "training_df_path = '/content/drive/My Drive/CBB-750/Final Project/history/' + experiment_name + '.csv'\n",
        "print(training_df_path)"
      ],
      "metadata": {
        "colab": {
          "base_uri": "https://localhost:8080/"
        },
        "id": "v5yea0rWgKe8",
        "outputId": "717575e9-7558-479d-daf3-44a08f5d06a4"
      },
      "execution_count": 2,
      "outputs": [
        {
          "output_type": "stream",
          "name": "stdout",
          "text": [
            "/content/drive/My Drive/CBB-750/Final Project/model/basline_entire_dataset.pt\n",
            "/content/drive/My Drive/CBB-750/Final Project/history/basline_entire_dataset.csv\n"
          ]
        }
      ]
    },
    {
      "cell_type": "markdown",
      "source": [
        "### GPU"
      ],
      "metadata": {
        "id": "GV9W56IQdUze"
      }
    },
    {
      "cell_type": "code",
      "execution_count": 3,
      "metadata": {
        "colab": {
          "base_uri": "https://localhost:8080/"
        },
        "id": "4iAhaxpMItsj",
        "outputId": "91fcf780-bd92-48b5-9b57-9f018f461dd2"
      },
      "outputs": [
        {
          "output_type": "stream",
          "name": "stdout",
          "text": [
            "Pytorch version is:  2.0.0+cu118\n",
            "You are using:  cuda\n"
          ]
        }
      ],
      "source": [
        "import torch\n",
        "import torch.nn as nn\n",
        "import torch.nn.functional as F\n",
        "import torch.optim as optim\n",
        "from torch import Tensor\n",
        "\n",
        "from typing import Tuple, List\n",
        "\n",
        "import random\n",
        "import math\n",
        "import os\n",
        "import time\n",
        "import json\n",
        "import numpy as np\n",
        "from collections import Counter\n",
        "\n",
        "# We'll set the random seeds for deterministic results.\n",
        "#SEED = 1\n",
        "\n",
        "#random.seed(SEED)\n",
        "#torch.manual_seed(SEED)\n",
        "#torch.backends.cudnn.enabled = False\n",
        "#torch.backends.cudnn.deterministic = True\n",
        "\n",
        "\n",
        "\n",
        "DEVICE = torch.device(\"cuda\" if torch.cuda.is_available() else \"cpu\")\n",
        "print(\"Pytorch version is: \", torch.__version__)\n",
        "print(\"You are using: \", DEVICE)"
      ]
    },
    {
      "cell_type": "code",
      "source": [
        "# mount Google Drive \n",
        "from google.colab import drive\n",
        "drive.mount('/content/drive')"
      ],
      "metadata": {
        "colab": {
          "base_uri": "https://localhost:8080/"
        },
        "id": "V9GGa0UJJG8h",
        "outputId": "c8e6b75e-0e44-4457-97af-b62627f14756"
      },
      "execution_count": 4,
      "outputs": [
        {
          "output_type": "stream",
          "name": "stdout",
          "text": [
            "Drive already mounted at /content/drive; to attempt to forcibly remount, call drive.mount(\"/content/drive\", force_remount=True).\n"
          ]
        }
      ]
    },
    {
      "cell_type": "markdown",
      "source": [
        "### Read Dataset"
      ],
      "metadata": {
        "id": "R_wwS-W_dYhH"
      }
    },
    {
      "cell_type": "code",
      "source": [
        "# load the file into a dataframe\n",
        "import pandas as pd\n",
        "\n",
        "IG_P = pd.read_excel('/content/drive/My Drive/CBB-750/Final Project/Dataset.xlsx', sheet_name='Info Giving - Patient')\n",
        "IG_C = pd.read_excel('/content/drive/My Drive/CBB-750/Final Project/Dataset.xlsx', sheet_name='Info Giving - Clinician')\n",
        "IG_A = pd.read_excel('/content/drive/My Drive/CBB-750/Final Project/Dataset.xlsx', sheet_name='Info Giving - Auto')\n",
        "\n",
        "IS_C = pd.read_excel('/content/drive/My Drive/CBB-750/Final Project/Dataset.xlsx', sheet_name='Info Seek - Clinician')\n",
        "IS_P = pd.read_excel('/content/drive/My Drive/CBB-750/Final Project/Dataset.xlsx', sheet_name='Info Seek - Patient')\n",
        "\n",
        "Emo_P = pd.read_excel('/content/drive/My Drive/CBB-750/Final Project/Dataset.xlsx', sheet_name='Emotion - Patient')\n",
        "Emo_C = pd.read_excel('/content/drive/My Drive/CBB-750/Final Project/Dataset.xlsx', sheet_name='Emotion - Clinician')\n",
        "\n",
        "P_C = pd.read_excel('/content/drive/My Drive/CBB-750/Final Project/Dataset.xlsx', sheet_name='Partnership - Clinician')\n",
        "P_P = pd.read_excel('/content/drive/My Drive/CBB-750/Final Project/Dataset.xlsx', sheet_name='Partnership - Patient')"
      ],
      "metadata": {
        "id": "jNVjqLWlJMUp"
      },
      "execution_count": 5,
      "outputs": []
    },
    {
      "cell_type": "code",
      "source": [
        "# Combine IG_P, IG_C, IG_A into one dataframe\n",
        "IG = pd.concat([IG_P, IG_C, IG_A], axis=0, ignore_index=True)\n",
        "IG\n",
        "# Combine IS_C, IS_P into one dataframe\n",
        "IS = pd.concat([IS_C, IS_P], axis=0, ignore_index=True)\n",
        "\n",
        "# Combine Emo_P, Emo_C into one dataframe\n",
        "Emo = pd.concat([Emo_P, Emo_C], axis=0, ignore_index=True)\n",
        "\n",
        "# Combine P_C, P_P into one dataframe\n",
        "P = pd.concat([P_C, P_P], axis=0, ignore_index=True)"
      ],
      "metadata": {
        "id": "ri9qUPakNWTJ"
      },
      "execution_count": 6,
      "outputs": []
    },
    {
      "cell_type": "code",
      "source": [
        "# Add labels to each dataframe\n",
        "IG['Label'] = 'Info Giving'\n",
        "IS['Label'] = 'Info Seeking'\n",
        "Emo['Label'] = 'Emotion'\n",
        "P['Label'] = 'Partnership'\n",
        "\n",
        "# Combine all dataframes into one dataframe\n",
        "df = pd.concat([IG, IS, Emo, P], axis=0, ignore_index=True)"
      ],
      "metadata": {
        "id": "0cTmleSpKGWS"
      },
      "execution_count": 7,
      "outputs": []
    },
    {
      "cell_type": "code",
      "source": [
        "# import package and torch\n",
        "!pip install --upgrade packaging --quiet\n",
        "!pip install torch --quiet\n",
        "import torch\n",
        "\n",
        "assert torch.cuda.is_available()\n",
        "\n",
        "# Tell torch to use GPU\n",
        "device = torch.device(\"cuda\")\n",
        "print('Running GPU: {}'.format(torch.cuda.get_device_name()))"
      ],
      "metadata": {
        "colab": {
          "base_uri": "https://localhost:8080/"
        },
        "id": "LTUrRlUeK17Q",
        "outputId": "de2ed449-9e8c-4cc8-a539-cec872db1127"
      },
      "execution_count": 8,
      "outputs": [
        {
          "output_type": "stream",
          "name": "stdout",
          "text": [
            "Running GPU: Tesla V100-SXM2-16GB\n"
          ]
        }
      ]
    },
    {
      "cell_type": "code",
      "source": [
        "possible_labels = df.Label.unique()\n",
        "\n",
        "label_dict = {}\n",
        "for index, possible_label in enumerate(possible_labels):\n",
        "    label_dict[possible_label] = index\n",
        "label_dict"
      ],
      "metadata": {
        "colab": {
          "base_uri": "https://localhost:8080/"
        },
        "id": "dDlHKDzgN0kT",
        "outputId": "692c1d08-e4ec-4a4f-e833-40606ef708e3"
      },
      "execution_count": 9,
      "outputs": [
        {
          "output_type": "execute_result",
          "data": {
            "text/plain": [
              "{'Info Giving': 0, 'Info Seeking': 1, 'Emotion': 2, 'Partnership': 3}"
            ]
          },
          "metadata": {},
          "execution_count": 9
        }
      ]
    },
    {
      "cell_type": "code",
      "source": [
        "df['label'] = df.Label.replace(label_dict)\n",
        "df['text'] = df['Quotation Content']"
      ],
      "metadata": {
        "id": "AtpJFcr0OLcf"
      },
      "execution_count": 10,
      "outputs": []
    },
    {
      "cell_type": "code",
      "source": [
        "import seaborn as sns\n",
        "sns.histplot(df['Label'])"
      ],
      "metadata": {
        "colab": {
          "base_uri": "https://localhost:8080/",
          "height": 466
        },
        "id": "yTGiLORnbpT0",
        "outputId": "e9fd3e80-2ae3-47fa-fee6-78842c39cb74"
      },
      "execution_count": 11,
      "outputs": [
        {
          "output_type": "execute_result",
          "data": {
            "text/plain": [
              "<Axes: xlabel='Label', ylabel='Count'>"
            ]
          },
          "metadata": {},
          "execution_count": 11
        },
        {
          "output_type": "display_data",
          "data": {
            "text/plain": [
              "<Figure size 640x480 with 1 Axes>"
            ],
            "image/png": "[encoded data removed]"
          },
          "metadata": {}
        }
      ]
    },
    {
      "cell_type": "markdown",
      "source": [
        "### Data Split"
      ],
      "metadata": {
        "id": "sT4Hryc0dOU9"
      }
    },
    {
      "cell_type": "code",
      "source": [
        "from sklearn.model_selection import train_test_split\n",
        "\n",
        "df_train, df_rem = train_test_split(df,\n",
        "                                    test_size=0.3,\n",
        "                                    random_state=1,\n",
        "                                    stratify=df['label'])\n",
        "\n",
        "df_val, df_test = train_test_split(df_rem, test_size=0.5, random_state=1,\n",
        "                                    stratify=df_rem['label'])\n"
      ],
      "metadata": {
        "id": "GR5qgAJsaBGa"
      },
      "execution_count": 12,
      "outputs": []
    },
    {
      "cell_type": "code",
      "source": [
        "for item in df_train, df_val, df_test:\n",
        "    print('Shape: {}'.format(item.shape))\n",
        "\n",
        "# Show df_train class distribution \n",
        "sns.histplot(df_train['Label'])   \n",
        "sns.histplot(df_val['Label'])\n",
        "sns.histplot(df_test['Label'])"
      ],
      "metadata": {
        "colab": {
          "base_uri": "https://localhost:8080/",
          "height": 518
        },
        "id": "qJ7-McZfeEGz",
        "outputId": "c75d70ad-eb9d-4366-fe37-92747763f0af"
      },
      "execution_count": 13,
      "outputs": [
        {
          "output_type": "stream",
          "name": "stdout",
          "text": [
            "Shape: (189, 6)\n",
            "Shape: (40, 6)\n",
            "Shape: (41, 6)\n"
          ]
        },
        {
          "output_type": "execute_result",
          "data": {
            "text/plain": [
              "<Axes: xlabel='Label', ylabel='Count'>"
            ]
          },
          "metadata": {},
          "execution_count": 13
        },
        {
          "output_type": "display_data",
          "data": {
            "text/plain": [
              "<Figure size 640x480 with 1 Axes>"
            ],
            "image/png": "[encoded data removed]"
          },
          "metadata": {}
        }
      ]
    },
    {
      "cell_type": "markdown",
      "source": [
        "### Tokenization"
      ],
      "metadata": {
        "id": "hkVZZ6M4eVZW"
      }
    },
    {
      "cell_type": "code",
      "source": [
        "!pip install transformers --quiet"
      ],
      "metadata": {
        "id": "w2mgUUm7LZQk"
      },
      "execution_count": 14,
      "outputs": []
    },
    {
      "cell_type": "code",
      "source": [
        "import transformers\n",
        "from transformers import BertTokenizer\n",
        "\n",
        "# Load BERT tokenizer\n",
        "model_name = 'bert-base-uncased'\n",
        "tokenizer = BertTokenizer.from_pretrained(model_name, \n",
        "                                          do_lower_case=True)"
      ],
      "metadata": {
        "id": "s9J6BxEveZnN"
      },
      "execution_count": 15,
      "outputs": []
    },
    {
      "cell_type": "code",
      "source": [
        "def get_encoded_dict(df):\n",
        "    input_ids = []\n",
        "    attention_mask = []\n",
        "\n",
        "    for text in df['Quotation Content']:\n",
        "        encoded = tokenizer.encode_plus(text,\n",
        "                                        add_special_tokens=True,\n",
        "                                        padding='max_length',\n",
        "                                        return_attention_mask=True,\n",
        "                                        max_length=max_len,\n",
        "                                        return_tensors='pt',\n",
        "                                        truncation=True)\n",
        "\n",
        "        input_ids.append(encoded['input_ids'])\n",
        "        attention_mask.append(encoded['attention_mask'])\n",
        "        \n",
        "    return input_ids, attention_mask"
      ],
      "metadata": {
        "id": "3rWggzcqe4dC"
      },
      "execution_count": 16,
      "outputs": []
    },
    {
      "cell_type": "code",
      "source": [
        "# Cat lists to tensors for TensorDataset\n",
        "def get_tensors(input_ids, attention_mask):\n",
        "    \n",
        "    input_ids = torch.cat(input_ids, dim=0)\n",
        "    attention_mask = torch.cat(attention_mask, dim=0)\n",
        "    \n",
        "    return input_ids, attention_mask"
      ],
      "metadata": {
        "id": "e_ewHQfue9Ov"
      },
      "execution_count": 17,
      "outputs": []
    },
    {
      "cell_type": "code",
      "source": [
        "# Import tools for Dataloader\n",
        "from torch.utils.data import TensorDataset,DataLoader,RandomSampler,SequentialSampler\n",
        "\n",
        "# Convert df to DataLoader\n",
        "def get_dataloader(df, batch_size=32):\n",
        "    temp_ids, temp_masks = get_encoded_dict(df)\n",
        "    \n",
        "    # Convert to tensors\n",
        "    temp_ids, temp_masks = get_tensors(temp_ids, temp_masks)\n",
        "    temp_labels = torch.tensor(df['label'].values)\n",
        "    \n",
        "    # Generate dataset\n",
        "    temp_dataset = TensorDataset(temp_ids,\n",
        "                                 temp_masks,\n",
        "                                 temp_labels)\n",
        "    \n",
        "    # Generate dataloader\n",
        "    temp_dataloader = DataLoader(temp_dataset,\n",
        "                                 batch_size=batch_size,\n",
        "                                 sampler=RandomSampler(temp_dataset))\n",
        "    \n",
        "    return temp_dataloader"
      ],
      "metadata": {
        "id": "d37A0qvJfFEb"
      },
      "execution_count": 18,
      "outputs": []
    },
    {
      "cell_type": "code",
      "source": [
        "# Get dataloader for all dataframes\n",
        "train_dataloader = get_dataloader(df_train)\n",
        "val_dataloader = get_dataloader(df_val)\n",
        "test_dataloader = get_dataloader(df_test)\n"
      ],
      "metadata": {
        "id": "83SFwZlGfI51"
      },
      "execution_count": 19,
      "outputs": []
    },
    {
      "cell_type": "markdown",
      "source": [
        "### Import BERT"
      ],
      "metadata": {
        "id": "GklnEiyPgZXL"
      }
    },
    {
      "cell_type": "code",
      "source": [
        "from transformers import BertForSequenceClassification, AdamW, BertForPreTraining\n",
        "\n",
        "model = BertForSequenceClassification.from_pretrained(model_name,\n",
        "                                                      num_labels=len(label_dict),\n",
        "                                                      output_attentions=False,\n",
        "                                                      output_hidden_states=False)\n",
        "\n",
        "# Tell mode to use CUDA\n",
        "model.cuda()"
      ],
      "metadata": {
        "colab": {
          "base_uri": "https://localhost:8080/"
        },
        "id": "zXH_XcUHfcuT",
        "outputId": "afcdc578-3310-468d-f04c-7c24aff3c6f9"
      },
      "execution_count": 20,
      "outputs": [
        {
          "output_type": "stream",
          "name": "stderr",
          "text": [
            "Some weights of the model checkpoint at bert-base-uncased were not used when initializing BertForSequenceClassification: ['cls.predictions.transform.dense.weight', 'cls.predictions.bias', 'cls.seq_relationship.bias', 'cls.predictions.transform.dense.bias', 'cls.seq_relationship.weight', 'cls.predictions.decoder.weight', 'cls.predictions.transform.LayerNorm.weight', 'cls.predictions.transform.LayerNorm.bias']\n",
            "- This IS expected if you are initializing BertForSequenceClassification from the checkpoint of a model trained on another task or with another architecture (e.g. initializing a BertForSequenceClassification model from a BertForPreTraining model).\n",
            "- This IS NOT expected if you are initializing BertForSequenceClassification from the checkpoint of a model that you expect to be exactly identical (initializing a BertForSequenceClassification model from a BertForSequenceClassification model).\n",
            "Some weights of BertForSequenceClassification were not initialized from the model checkpoint at bert-base-uncased and are newly initialized: ['classifier.bias', 'classifier.weight']\n",
            "You should probably TRAIN this model on a down-stream task to be able to use it for predictions and inference.\n"
          ]
        },
        {
          "output_type": "execute_result",
          "data": {
            "text/plain": [
              "BertForSequenceClassification(\n",
              "  (bert): BertModel(\n",
              "    (embeddings): BertEmbeddings(\n",
              "      (word_embeddings): Embedding(30522, 768, padding_idx=0)\n",
              "      (position_embeddings): Embedding(512, 768)\n",
              "      (token_type_embeddings): Embedding(2, 768)\n",
              "      (LayerNorm): LayerNorm((768,), eps=1e-12, elementwise_affine=True)\n",
              "      (dropout): Dropout(p=0.1, inplace=False)\n",
              "    )\n",
              "    (encoder): BertEncoder(\n",
              "      (layer): ModuleList(\n",
              "        (0-11): 12 x BertLayer(\n",
              "          (attention): BertAttention(\n",
              "            (self): BertSelfAttention(\n",
              "              (query): Linear(in_features=768, out_features=768, bias=True)\n",
              "              (key): Linear(in_features=768, out_features=768, bias=True)\n",
              "              (value): Linear(in_features=768, out_features=768, bias=True)\n",
              "              (dropout): Dropout(p=0.1, inplace=False)\n",
              "            )\n",
              "            (output): BertSelfOutput(\n",
              "              (dense): Linear(in_features=768, out_features=768, bias=True)\n",
              "              (LayerNorm): LayerNorm((768,), eps=1e-12, elementwise_affine=True)\n",
              "              (dropout): Dropout(p=0.1, inplace=False)\n",
              "            )\n",
              "          )\n",
              "          (intermediate): BertIntermediate(\n",
              "            (dense): Linear(in_features=768, out_features=3072, bias=True)\n",
              "            (intermediate_act_fn): GELUActivation()\n",
              "          )\n",
              "          (output): BertOutput(\n",
              "            (dense): Linear(in_features=3072, out_features=768, bias=True)\n",
              "            (LayerNorm): LayerNorm((768,), eps=1e-12, elementwise_affine=True)\n",
              "            (dropout): Dropout(p=0.1, inplace=False)\n",
              "          )\n",
              "        )\n",
              "      )\n",
              "    )\n",
              "    (pooler): BertPooler(\n",
              "      (dense): Linear(in_features=768, out_features=768, bias=True)\n",
              "      (activation): Tanh()\n",
              "    )\n",
              "  )\n",
              "  (dropout): Dropout(p=0.1, inplace=False)\n",
              "  (classifier): Linear(in_features=768, out_features=4, bias=True)\n",
              ")"
            ]
          },
          "metadata": {},
          "execution_count": 20
        }
      ]
    },
    {
      "cell_type": "code",
      "source": [
        "# Configuring optimizer\n",
        "optimizer = AdamW(model.parameters(),\n",
        "                  lr = 3e-5)"
      ],
      "metadata": {
        "colab": {
          "base_uri": "https://localhost:8080/"
        },
        "id": "Ydbp3BThg7v5",
        "outputId": "5d69c7cc-724b-42a2-a5a0-d0d5680f8322"
      },
      "execution_count": 21,
      "outputs": [
        {
          "output_type": "stream",
          "name": "stderr",
          "text": [
            "/usr/local/lib/python3.10/dist-packages/transformers/optimization.py:391: FutureWarning: This implementation of AdamW is deprecated and will be removed in a future version. Use the PyTorch implementation torch.optim.AdamW instead, or set `no_deprecation_warning=True` to disable this warning\n",
            "  warnings.warn(\n"
          ]
        }
      ]
    },
    {
      "cell_type": "code",
      "source": [
        "# Configuring scheduler\n",
        "from transformers import get_linear_schedule_with_warmup\n",
        "\n",
        "# Total steps: number of batchers * epochs\n",
        "total_steps = len(train_dataloader) * epochs\n",
        "\n",
        "# Set up the scheduler\n",
        "scheduler = get_linear_schedule_with_warmup(optimizer,\n",
        "                                            num_warmup_steps=10,\n",
        "                                            num_training_steps=total_steps)"
      ],
      "metadata": {
        "id": "XRt4vkG4g9h4"
      },
      "execution_count": 22,
      "outputs": []
    },
    {
      "cell_type": "markdown",
      "source": [
        "### Training"
      ],
      "metadata": {
        "id": "sai3WlK6hCQ9"
      }
    },
    {
      "cell_type": "code",
      "source": [
        "# Import materics\n",
        "from sklearn.metrics import accuracy_score, confusion_matrix, classification_report\n",
        "\n",
        "import time"
      ],
      "metadata": {
        "id": "IrsrmlLtg_JC"
      },
      "execution_count": 23,
      "outputs": []
    },
    {
      "cell_type": "code",
      "source": [
        "import numpy as np\n",
        "# Reset history lists\n",
        "training_stats = []\n",
        "\n",
        "for epoch_i in range(epochs):\n",
        "    \n",
        "    # timer_start\n",
        "    epoch_t0 = time.time()\n",
        "    \n",
        "    print('【EPOCH: {}/ {}】'.format(epoch_i+1, epochs))\n",
        "    print('Trainig Phase')\n",
        "    \n",
        "    # Set training mode\n",
        "    model.train()\n",
        "    \n",
        "    # Reset training loss\n",
        "    total_training_loss = 0\n",
        "    \n",
        "    # Batch and forward\n",
        "    for batch in train_dataloader:\n",
        "        b_input_ids = batch[0].to(device)\n",
        "        b_masks = batch[1].to(device)\n",
        "        b_labels = batch[2].to(device)\n",
        "    \n",
        "        # Reset gradients before \n",
        "        model.zero_grad()\n",
        "        \n",
        "        # Forward pass\n",
        "        res = model(b_input_ids,\n",
        "                    token_type_ids=None,\n",
        "                    attention_mask=b_masks,\n",
        "                    return_dict=True,\n",
        "                    labels=b_labels)\n",
        "        \n",
        "        loss = res.loss\n",
        "        logits = res.logits\n",
        "        \n",
        "        # sumup training loss\n",
        "        total_training_loss += loss.item()\n",
        "        \n",
        "        # backpropagation\n",
        "        loss.backward()\n",
        "        \n",
        "        # Clip the norm of the gradients to 1.0.\n",
        "        # This is to help prevent the \"exploding gradients\" problem.\n",
        "        torch.nn.utils.clip_grad_norm_(model.parameters(), 1.0)\n",
        "        \n",
        "        # update optimizer and scheduler\n",
        "        optimizer.step()\n",
        "        scheduler.step()\n",
        "        \n",
        "    # averrage loss\n",
        "    avg_train_loss = total_training_loss/len(train_dataloader)\n",
        "    print(\"  Average training loss: {0:.4f}\".format(avg_train_loss))\n",
        "    \n",
        "    \n",
        "    # validation\n",
        "    print('Validation Phase')\n",
        "    \n",
        "    # Reset validation loss\n",
        "    total_val_loss = 0\n",
        "    \n",
        "    # Set up lists\n",
        "    ls_val_logits = []\n",
        "    ls_val_labels = []\n",
        "\n",
        "    # Get batchs from val_dataloader\n",
        "    for batch in val_dataloader:\n",
        "        b_input_ids = batch[0].to(device)\n",
        "        b_masks = batch[1].to(device)\n",
        "        b_labels = batch[2].to(device)\n",
        "\n",
        "        # No need to calculate gradients\n",
        "        with torch.no_grad():\n",
        "\n",
        "            res = model(b_input_ids,\n",
        "                        token_type_ids=None,\n",
        "                        attention_mask=b_masks,\n",
        "                        labels=b_labels,\n",
        "                        return_dict=True)\n",
        "\n",
        "        val_loss = res.loss\n",
        "        val_logits = res.logits\n",
        "        total_val_loss += val_loss.item()\n",
        "\n",
        "        # Convert logitis to numpy format\n",
        "        val_logits = np.argmax(val_logits.cpu().detach().numpy(), axis=1)\n",
        "        val_labels = b_labels.cpu().detach().numpy()\n",
        "\n",
        "        # Append data to the lists\n",
        "        for logit in val_logits:\n",
        "            ls_val_logits.append(logit)\n",
        "\n",
        "        for label in val_labels:\n",
        "            ls_val_labels.append(label)\n",
        "    \n",
        "    # Get accuracy score and val_loss\n",
        "    acc = accuracy_score(ls_val_logits, ls_val_labels)\n",
        "    avg_val_loss = total_val_loss/len(val_dataloader)\n",
        "    \n",
        "    # Print out validation performance\n",
        "    print('  Average validation loss: {:.4f}'.format(avg_val_loss))\n",
        "    print('  Validation accruacy: {:.4f}'.format(acc))\n",
        "    \n",
        "    \n",
        "    # timer_end\n",
        "    epoch_time_spent = time.time() - epoch_t0\n",
        "    print('  Time spent on the epoch: {:.2f}'.format(epoch_time_spent))\n",
        "    print('\\n')\n",
        "    \n",
        "    # Recording training stats\n",
        "    training_stats.append(\n",
        "        {\n",
        "            'Epoch': epoch_i+1,\n",
        "            'train_loss': avg_train_loss,\n",
        "            'val_loss': avg_val_loss,\n",
        "            'val_acc': acc,\n",
        "            'time_spent': epoch_time_spent\n",
        "        })"
      ],
      "metadata": {
        "colab": {
          "base_uri": "https://localhost:8080/"
        },
        "id": "j8Yb3JCAQOlu",
        "outputId": "cb7adab9-e2dc-49d9-8ca8-7411f5e0ed99"
      },
      "execution_count": 24,
      "outputs": [
        {
          "output_type": "stream",
          "name": "stdout",
          "text": [
            "【EPOCH: 1/ 20】\n",
            "Trainig Phase\n",
            "  Average training loss: 1.5694\n",
            "Validation Phase\n",
            "  Average validation loss: 1.3337\n",
            "  Validation accruacy: 0.3250\n",
            "  Time spent on the epoch: 3.71\n",
            "\n",
            "\n",
            "【EPOCH: 2/ 20】\n",
            "Trainig Phase\n",
            "  Average training loss: 1.2470\n",
            "Validation Phase\n",
            "  Average validation loss: 1.2382\n",
            "  Validation accruacy: 0.5750\n",
            "  Time spent on the epoch: 3.11\n",
            "\n",
            "\n",
            "【EPOCH: 3/ 20】\n",
            "Trainig Phase\n",
            "  Average training loss: 1.1231\n",
            "Validation Phase\n",
            "  Average validation loss: 1.0140\n",
            "  Validation accruacy: 0.6000\n",
            "  Time spent on the epoch: 3.07\n",
            "\n",
            "\n",
            "【EPOCH: 4/ 20】\n",
            "Trainig Phase\n",
            "  Average training loss: 1.0888\n",
            "Validation Phase\n",
            "  Average validation loss: 1.0286\n",
            "  Validation accruacy: 0.6000\n",
            "  Time spent on the epoch: 3.06\n",
            "\n",
            "\n",
            "【EPOCH: 5/ 20】\n",
            "Trainig Phase\n",
            "  Average training loss: 1.0344\n",
            "Validation Phase\n",
            "  Average validation loss: 1.0773\n",
            "  Validation accruacy: 0.6000\n",
            "  Time spent on the epoch: 3.05\n",
            "\n",
            "\n",
            "【EPOCH: 6/ 20】\n",
            "Trainig Phase\n",
            "  Average training loss: 0.9891\n",
            "Validation Phase\n",
            "  Average validation loss: 1.0047\n",
            "  Validation accruacy: 0.6000\n",
            "  Time spent on the epoch: 3.04\n",
            "\n",
            "\n",
            "【EPOCH: 7/ 20】\n",
            "Trainig Phase\n",
            "  Average training loss: 0.9394\n",
            "Validation Phase\n",
            "  Average validation loss: 0.9680\n",
            "  Validation accruacy: 0.6000\n",
            "  Time spent on the epoch: 3.05\n",
            "\n",
            "\n",
            "【EPOCH: 8/ 20】\n",
            "Trainig Phase\n",
            "  Average training loss: 0.8983\n",
            "Validation Phase\n",
            "  Average validation loss: 1.1436\n",
            "  Validation accruacy: 0.5750\n",
            "  Time spent on the epoch: 3.04\n",
            "\n",
            "\n",
            "【EPOCH: 9/ 20】\n",
            "Trainig Phase\n",
            "  Average training loss: 0.8665\n",
            "Validation Phase\n",
            "  Average validation loss: 1.0753\n",
            "  Validation accruacy: 0.5250\n",
            "  Time spent on the epoch: 3.06\n",
            "\n",
            "\n",
            "【EPOCH: 10/ 20】\n",
            "Trainig Phase\n",
            "  Average training loss: 0.8321\n",
            "Validation Phase\n",
            "  Average validation loss: 1.1376\n",
            "  Validation accruacy: 0.5500\n",
            "  Time spent on the epoch: 3.04\n",
            "\n",
            "\n",
            "【EPOCH: 11/ 20】\n",
            "Trainig Phase\n",
            "  Average training loss: 0.7925\n",
            "Validation Phase\n",
            "  Average validation loss: 0.9225\n",
            "  Validation accruacy: 0.6000\n",
            "  Time spent on the epoch: 3.04\n",
            "\n",
            "\n",
            "【EPOCH: 12/ 20】\n",
            "Trainig Phase\n",
            "  Average training loss: 0.7362\n",
            "Validation Phase\n",
            "  Average validation loss: 1.0844\n",
            "  Validation accruacy: 0.5750\n",
            "  Time spent on the epoch: 3.04\n",
            "\n",
            "\n",
            "【EPOCH: 13/ 20】\n",
            "Trainig Phase\n",
            "  Average training loss: 0.7255\n",
            "Validation Phase\n",
            "  Average validation loss: 1.0548\n",
            "  Validation accruacy: 0.5500\n",
            "  Time spent on the epoch: 3.05\n",
            "\n",
            "\n",
            "【EPOCH: 14/ 20】\n",
            "Trainig Phase\n",
            "  Average training loss: 0.7142\n",
            "Validation Phase\n",
            "  Average validation loss: 1.2330\n",
            "  Validation accruacy: 0.6000\n",
            "  Time spent on the epoch: 3.05\n",
            "\n",
            "\n",
            "【EPOCH: 15/ 20】\n",
            "Trainig Phase\n",
            "  Average training loss: 0.6990\n",
            "Validation Phase\n",
            "  Average validation loss: 1.1342\n",
            "  Validation accruacy: 0.5250\n",
            "  Time spent on the epoch: 3.04\n",
            "\n",
            "\n",
            "【EPOCH: 16/ 20】\n",
            "Trainig Phase\n",
            "  Average training loss: 0.6748\n",
            "Validation Phase\n",
            "  Average validation loss: 0.9457\n",
            "  Validation accruacy: 0.5250\n",
            "  Time spent on the epoch: 3.04\n",
            "\n",
            "\n",
            "【EPOCH: 17/ 20】\n",
            "Trainig Phase\n",
            "  Average training loss: 0.6725\n",
            "Validation Phase\n",
            "  Average validation loss: 1.1282\n",
            "  Validation accruacy: 0.5500\n",
            "  Time spent on the epoch: 3.05\n",
            "\n",
            "\n",
            "【EPOCH: 18/ 20】\n",
            "Trainig Phase\n",
            "  Average training loss: 0.6671\n",
            "Validation Phase\n",
            "  Average validation loss: 1.3347\n",
            "  Validation accruacy: 0.5000\n",
            "  Time spent on the epoch: 3.07\n",
            "\n",
            "\n",
            "【EPOCH: 19/ 20】\n",
            "Trainig Phase\n",
            "  Average training loss: 0.6519\n",
            "Validation Phase\n",
            "  Average validation loss: 1.4993\n",
            "  Validation accruacy: 0.5750\n",
            "  Time spent on the epoch: 3.05\n",
            "\n",
            "\n",
            "【EPOCH: 20/ 20】\n",
            "Trainig Phase\n",
            "  Average training loss: 0.6413\n",
            "Validation Phase\n",
            "  Average validation loss: 1.1401\n",
            "  Validation accruacy: 0.5000\n",
            "  Time spent on the epoch: 3.09\n",
            "\n",
            "\n"
          ]
        }
      ]
    },
    {
      "cell_type": "markdown",
      "source": [
        "### Training performance"
      ],
      "metadata": {
        "id": "BxwuwLu3hVd6"
      }
    },
    {
      "cell_type": "code",
      "source": [
        "train_loss = []\n",
        "val_loss = []\n",
        "val_acc = []\n",
        "time_spent = []\n",
        "\n",
        "for i in range(len(training_stats)):\n",
        "    train_loss.append(training_stats[i]['train_loss'])\n",
        "    val_loss.append(training_stats[i]['val_loss'])\n",
        "    val_acc.append(training_stats[i]['val_acc'])\n",
        "    time_spent.append(training_stats[i]['time_spent'])"
      ],
      "metadata": {
        "id": "8VkWT0rphVAq"
      },
      "execution_count": 25,
      "outputs": []
    },
    {
      "cell_type": "code",
      "source": [
        "# Print time spent\n",
        "print('Time spent on training {} epochs: {:.0f}'.format(epochs, np.sum(time_spent)/60) + ' minutes')\n",
        "\n",
        "# Plotting\n",
        "import matplotlib.pyplot as plt\n",
        "\n",
        "plt.figure(figsize=(10,3))\n",
        "\n",
        "plt.subplot(1,2,1)\n",
        "plt.plot(train_loss)\n",
        "plt.plot(val_loss)\n",
        "plt.title('loss')\n",
        "\n",
        "plt.subplot(1,2,2)\n",
        "plt.plot(val_acc, color='red', linestyle='--')\n",
        "plt.ylim(0.2, 0.7)\n",
        "plt.title('accuracy')"
      ],
      "metadata": {
        "colab": {
          "base_uri": "https://localhost:8080/",
          "height": 349
        },
        "id": "01e0r935hZ7D",
        "outputId": "038d7091-1bd6-4a2e-8a03-13b84f380d46"
      },
      "execution_count": 46,
      "outputs": [
        {
          "output_type": "stream",
          "name": "stdout",
          "text": [
            "Time spent on training 20 epochs: 1 minutes\n"
          ]
        },
        {
          "output_type": "execute_result",
          "data": {
            "text/plain": [
              "Text(0.5, 1.0, 'accuracy')"
            ]
          },
          "metadata": {},
          "execution_count": 46
        },
        {
          "output_type": "display_data",
          "data": {
            "text/plain": [
              "<Figure size 1000x300 with 2 Axes>"
            ],
            "image/png": "[encoded data removed]"
          },
          "metadata": {}
        }
      ]
    },
    {
      "cell_type": "code",
      "source": [
        "torch.save(model.state_dict(), model_path)"
      ],
      "metadata": {
        "id": "tHg6mXLAhhY6"
      },
      "execution_count": 27,
      "outputs": []
    },
    {
      "cell_type": "markdown",
      "source": [
        "### Perform on the test data"
      ],
      "metadata": {
        "id": "rVvGpgTjiHlW"
      }
    },
    {
      "cell_type": "code",
      "source": [
        "# Prepare df_test for prediction\n",
        "t_input_ids, t_attention_mask = get_encoded_dict(df_test)\n",
        "t_input_ids, t_attention_mask = get_tensors(t_input_ids, t_attention_mask)\n",
        "\n",
        "# Prepare dataset and dataloader\n",
        "test_dataset = TensorDataset(t_input_ids, t_attention_mask)\n",
        "test_dataloader = DataLoader(test_dataset,\n",
        "                             batch_size=32,\n",
        "                             sampler=SequentialSampler(test_dataset))\n",
        "\n",
        "# Show dataloader length\n",
        "print('Number of batches in the dataloader: {}'.format(len(test_dataloader)))"
      ],
      "metadata": {
        "colab": {
          "base_uri": "https://localhost:8080/"
        },
        "id": "vX251h7EQyxP",
        "outputId": "e72d2827-a084-401d-abe0-01354cfc5122"
      },
      "execution_count": 28,
      "outputs": [
        {
          "output_type": "stream",
          "name": "stdout",
          "text": [
            "Number of batches in the dataloader: 2\n"
          ]
        }
      ]
    },
    {
      "cell_type": "code",
      "source": [
        "# Setup lists for predictions and labels\n",
        "ls_test_pred = []\n",
        "\n",
        "# Get batchs from test_dataloader\n",
        "for batch in test_dataloader:\n",
        "    b_input_ids = batch[0].to(device)\n",
        "    b_masks = batch[1].to(device)\n",
        "    \n",
        "    with torch.no_grad():\n",
        "\n",
        "        res = model(b_input_ids,\n",
        "                    attention_mask=b_masks,\n",
        "                    return_dict=True)\n",
        "\n",
        "        test_logits = res.logits\n",
        "        test_logits = np.argmax(test_logits.cpu().detach().numpy(), axis=1)\n",
        "        \n",
        "        for pred in test_logits:\n",
        "            ls_test_pred.append(pred)"
      ],
      "metadata": {
        "id": "VdopUv0pQ7SA"
      },
      "execution_count": 29,
      "outputs": []
    },
    {
      "cell_type": "code",
      "source": [
        "# Set up list of test labels\n",
        "ls_test_labels = df_test['Label'].values\n",
        "rev_subs = { v:k for k,v in label_dict.items()}\n",
        "ls_test_pred = [rev_subs.get(item,item)  for item in ls_test_pred]\n",
        "# Get accuracy score and val_loss\n",
        "acc = accuracy_score(ls_test_pred, ls_test_labels)\n",
        "print('Prediction accuracy: {:.4f}'.format(acc))"
      ],
      "metadata": {
        "colab": {
          "base_uri": "https://localhost:8080/"
        },
        "id": "cUru9t0HiIg9",
        "outputId": "bf70265e-099d-4e2c-a067-90f903a2a0bb"
      },
      "execution_count": 30,
      "outputs": [
        {
          "output_type": "stream",
          "name": "stdout",
          "text": [
            "Prediction accuracy: 0.5366\n"
          ]
        }
      ]
    },
    {
      "cell_type": "code",
      "source": [
        "label_dict.keys()"
      ],
      "metadata": {
        "colab": {
          "base_uri": "https://localhost:8080/"
        },
        "id": "F1lJo2O_M-7j",
        "outputId": "0ca9c028-10aa-4478-827f-a1c651306296"
      },
      "execution_count": 31,
      "outputs": [
        {
          "output_type": "execute_result",
          "data": {
            "text/plain": [
              "dict_keys(['Info Giving', 'Info Seeking', 'Emotion', 'Partnership'])"
            ]
          },
          "metadata": {},
          "execution_count": 31
        }
      ]
    },
    {
      "cell_type": "code",
      "source": [
        "# Confusion matrix\n",
        "cm = confusion_matrix(ls_test_labels, ls_test_pred)\n",
        "labels = [\"Emotion\",\"Info Giving\",\"Info Seeking\",\"Partnership\"]\n",
        "\n",
        "fig = plt.figure(figsize=(8,8))\n",
        "ax= fig.add_subplot(1,1,1)\n",
        "sns.heatmap(cm, annot=True, cmap=\"Greens\",ax = ax,fmt='g'); #annot=True to annotate cells\n",
        "\n",
        "# labels, title and ticks\n",
        "ax.set_xlabel('Predicted labels');ax.set_ylabel('True labels'); \n",
        "ax.set_title('Confusion Matrix'); \n",
        "ax.xaxis.set_ticklabels(labels); ax.yaxis.set_ticklabels(labels);\n",
        "plt.setp(ax.get_yticklabels(), rotation=30, horizontalalignment='right')\n",
        "plt.setp(ax.get_xticklabels(), rotation=30, horizontalalignment='right')     \n",
        "plt.show()\n",
        "print(classification_report(list(ls_test_labels),list(ls_test_pred),labels=list(labels)))"
      ],
      "metadata": {
        "colab": {
          "base_uri": "https://localhost:8080/",
          "height": 1000
        },
        "id": "lOlkxFEuRQN_",
        "outputId": "5265dedc-8f5a-42ba-f1a2-51b517d288d6"
      },
      "execution_count": 32,
      "outputs": [
        {
          "output_type": "display_data",
          "data": {
            "text/plain": [
              "<Figure size 800x800 with 2 Axes>"
            ],
            "image/png": "[encoded data removed]"
          },
          "metadata": {}
        },
        {
          "output_type": "stream",
          "name": "stdout",
          "text": [
            "              precision    recall  f1-score   support\n",
            "\n",
            "     Emotion       0.00      0.00      0.00         5\n",
            " Info Giving       0.65      0.83      0.73        24\n",
            "Info Seeking       0.25      0.22      0.24         9\n",
            " Partnership       0.00      0.00      0.00         3\n",
            "\n",
            "    accuracy                           0.54        41\n",
            "   macro avg       0.22      0.26      0.24        41\n",
            "weighted avg       0.43      0.54      0.48        41\n",
            "\n"
          ]
        },
        {
          "output_type": "stream",
          "name": "stderr",
          "text": [
            "/usr/local/lib/python3.10/dist-packages/sklearn/metrics/_classification.py:1344: UndefinedMetricWarning: Precision and F-score are ill-defined and being set to 0.0 in labels with no predicted samples. Use `zero_division` parameter to control this behavior.\n",
            "  _warn_prf(average, modifier, msg_start, len(result))\n",
            "/usr/local/lib/python3.10/dist-packages/sklearn/metrics/_classification.py:1344: UndefinedMetricWarning: Precision and F-score are ill-defined and being set to 0.0 in labels with no predicted samples. Use `zero_division` parameter to control this behavior.\n",
            "  _warn_prf(average, modifier, msg_start, len(result))\n",
            "/usr/local/lib/python3.10/dist-packages/sklearn/metrics/_classification.py:1344: UndefinedMetricWarning: Precision and F-score are ill-defined and being set to 0.0 in labels with no predicted samples. Use `zero_division` parameter to control this behavior.\n",
            "  _warn_prf(average, modifier, msg_start, len(result))\n"
          ]
        }
      ]
    },
    {
      "cell_type": "markdown",
      "source": [
        "### ClinicalBERT"
      ],
      "metadata": {
        "id": "zQTKrSPrcPld"
      }
    },
    {
      "cell_type": "code",
      "source": [
        "!pip install pytorch-pretrained-bert\n",
        "\n",
        "from transformers import AutoTokenizer, AutoModel\n"
      ],
      "metadata": {
        "id": "l5pgKq3tcO-U",
        "colab": {
          "base_uri": "https://localhost:8080/"
        },
        "outputId": "1046f27a-5d21-4372-a01e-af05a1186123"
      },
      "execution_count": 33,
      "outputs": [
        {
          "output_type": "stream",
          "name": "stdout",
          "text": [
            "Looking in indexes: https://pypi.org/simple, https://us-python.pkg.dev/colab-wheels/public/simple/\n",
            "Collecting pytorch-pretrained-bert\n",
            "  Downloading pytorch_pretrained_bert-0.6.2-py3-none-any.whl (123 kB)\n",
            "\u001b[2K     \u001b[90m━━━━━━━━━━━━━━━━━━━━━━━━━━━━━━━━━━━━━━━\u001b[0m \u001b[32m123.8/123.8 kB\u001b[0m \u001b[31m4.2 MB/s\u001b[0m eta \u001b[36m0:00:00\u001b[0m\n",
            "\u001b[?25hRequirement already satisfied: torch>=0.4.1 in /usr/local/lib/python3.10/dist-packages (from pytorch-pretrained-bert) (2.0.0+cu118)\n",
            "Requirement already satisfied: numpy in /usr/local/lib/python3.10/dist-packages (from pytorch-pretrained-bert) (1.22.4)\n",
            "Collecting boto3 (from pytorch-pretrained-bert)\n",
            "  Downloading boto3-1.26.124-py3-none-any.whl (135 kB)\n",
            "\u001b[2K     \u001b[90m━━━━━━━━━━━━━━━━━━━━━━━━━━━━━━━━━━━━━━━\u001b[0m \u001b[32m135.6/135.6 kB\u001b[0m \u001b[31m8.7 MB/s\u001b[0m eta \u001b[36m0:00:00\u001b[0m\n",
            "\u001b[?25hRequirement already satisfied: requests in /usr/local/lib/python3.10/dist-packages (from pytorch-pretrained-bert) (2.27.1)\n",
            "Requirement already satisfied: tqdm in /usr/local/lib/python3.10/dist-packages (from pytorch-pretrained-bert) (4.65.0)\n",
            "Requirement already satisfied: regex in /usr/local/lib/python3.10/dist-packages (from pytorch-pretrained-bert) (2022.10.31)\n",
            "Requirement already satisfied: filelock in /usr/local/lib/python3.10/dist-packages (from torch>=0.4.1->pytorch-pretrained-bert) (3.12.0)\n",
            "Requirement already satisfied: typing-extensions in /usr/local/lib/python3.10/dist-packages (from torch>=0.4.1->pytorch-pretrained-bert) (4.5.0)\n",
            "Requirement already satisfied: sympy in /usr/local/lib/python3.10/dist-packages (from torch>=0.4.1->pytorch-pretrained-bert) (1.11.1)\n",
            "Requirement already satisfied: networkx in /usr/local/lib/python3.10/dist-packages (from torch>=0.4.1->pytorch-pretrained-bert) (3.1)\n",
            "Requirement already satisfied: jinja2 in /usr/local/lib/python3.10/dist-packages (from torch>=0.4.1->pytorch-pretrained-bert) (3.1.2)\n",
            "Requirement already satisfied: triton==2.0.0 in /usr/local/lib/python3.10/dist-packages (from torch>=0.4.1->pytorch-pretrained-bert) (2.0.0)\n",
            "Requirement already satisfied: cmake in /usr/local/lib/python3.10/dist-packages (from triton==2.0.0->torch>=0.4.1->pytorch-pretrained-bert) (3.25.2)\n",
            "Requirement already satisfied: lit in /usr/local/lib/python3.10/dist-packages (from triton==2.0.0->torch>=0.4.1->pytorch-pretrained-bert) (16.0.2)\n",
            "Collecting botocore<1.30.0,>=1.29.124 (from boto3->pytorch-pretrained-bert)\n",
            "  Downloading botocore-1.29.124-py3-none-any.whl (10.7 MB)\n",
            "\u001b[2K     \u001b[90m━━━━━━━━━━━━━━━━━━━━━━━━━━━━━━━━━━━━━━━━\u001b[0m \u001b[32m10.7/10.7 MB\u001b[0m \u001b[31m97.5 MB/s\u001b[0m eta \u001b[36m0:00:00\u001b[0m\n",
            "\u001b[?25hCollecting jmespath<2.0.0,>=0.7.1 (from boto3->pytorch-pretrained-bert)\n",
            "  Downloading jmespath-1.0.1-py3-none-any.whl (20 kB)\n",
            "Collecting s3transfer<0.7.0,>=0.6.0 (from boto3->pytorch-pretrained-bert)\n",
            "  Downloading s3transfer-0.6.0-py3-none-any.whl (79 kB)\n",
            "\u001b[2K     \u001b[90m━━━━━━━━━━━━━━━━━━━━━━━━━━━━━━━━━━━━━━━━\u001b[0m \u001b[32m79.6/79.6 kB\u001b[0m \u001b[31m11.9 MB/s\u001b[0m eta \u001b[36m0:00:00\u001b[0m\n",
            "\u001b[?25hRequirement already satisfied: urllib3<1.27,>=1.21.1 in /usr/local/lib/python3.10/dist-packages (from requests->pytorch-pretrained-bert) (1.26.15)\n",
            "Requirement already satisfied: certifi>=2017.4.17 in /usr/local/lib/python3.10/dist-packages (from requests->pytorch-pretrained-bert) (2022.12.7)\n",
            "Requirement already satisfied: charset-normalizer~=2.0.0 in /usr/local/lib/python3.10/dist-packages (from requests->pytorch-pretrained-bert) (2.0.12)\n",
            "Requirement already satisfied: idna<4,>=2.5 in /usr/local/lib/python3.10/dist-packages (from requests->pytorch-pretrained-bert) (3.4)\n",
            "Requirement already satisfied: python-dateutil<3.0.0,>=2.1 in /usr/local/lib/python3.10/dist-packages (from botocore<1.30.0,>=1.29.124->boto3->pytorch-pretrained-bert) (2.8.2)\n",
            "Requirement already satisfied: MarkupSafe>=2.0 in /usr/local/lib/python3.10/dist-packages (from jinja2->torch>=0.4.1->pytorch-pretrained-bert) (2.1.2)\n",
            "Requirement already satisfied: mpmath>=0.19 in /usr/local/lib/python3.10/dist-packages (from sympy->torch>=0.4.1->pytorch-pretrained-bert) (1.3.0)\n",
            "Requirement already satisfied: six>=1.5 in /usr/local/lib/python3.10/dist-packages (from python-dateutil<3.0.0,>=2.1->botocore<1.30.0,>=1.29.124->boto3->pytorch-pretrained-bert) (1.16.0)\n",
            "Installing collected packages: jmespath, botocore, s3transfer, boto3, pytorch-pretrained-bert\n",
            "Successfully installed boto3-1.26.124 botocore-1.29.124 jmespath-1.0.1 pytorch-pretrained-bert-0.6.2 s3transfer-0.6.0\n"
          ]
        }
      ]
    },
    {
      "cell_type": "code",
      "source": [
        "\n",
        "tokenizer = AutoTokenizer.from_pretrained(\"emilyalsentzer/Bio_ClinicalBERT\")\n",
        "model = AutoModel.from_pretrained(\"emilyalsentzer/Bio_ClinicalBERT\")\n",
        "model = BertForSequenceClassification.from_pretrained(model_name,\n",
        "                                                      num_labels=len(label_dict),\n",
        "                                                      output_attentions=False,\n",
        "                                                      output_hidden_states=False)\n",
        "\n",
        "# Tell mode to use CUDA\n",
        "model.cuda()"
      ],
      "metadata": {
        "colab": {
          "base_uri": "https://localhost:8080/",
          "height": 1000,
          "referenced_widgets": [
            "72e6e1a66cc944109f8e30a05997aa05",
            "47e82cda87964b70855690a569119193",
            "0e8faf972b8d41c687bbd0f79dc64024",
            "e43ce795ae2145768ce8ca49d922895f",
            "fed43545920a4abe814ffef066b0a356",
            "664bc0166a4a4a049314fe29b894555a",
            "51734ed094ea4dd68bd1998aed8e5742",
            "61dbdd116c6646ba9973c5e792469f06",
            "551f5a1ec2d84cbf879696cba27d2269",
            "e65505f2fdaf4815bdb78b9c4441de0f",
            "78f7bef8856d483c90cef30fd11bde05",
            "9fda99d3c3d1421f967b12ad981b58da",
            "8db279e48fc14ad78a2d38abb9266767",
            "3e01dc0bf3eb4417b30d185341f36de7",
            "a143c9f5eb6b46028edab2f794db52fd",
            "8d999e40d02549d99ab7ede63e9e82a9",
            "70fa826bfdbb40aba56702b4b6393a00",
            "d7c919e2d769430d8b3059760c5e83ef",
            "f9035cb059414953abecc4cb4e1ec1b2",
            "5362b9ad603245b7b27cab896d311787",
            "db48b571a568453993be8fc21f07209b",
            "96280e2ff4204e56823cf9a1fb0a4de7",
            "6452960270e54dd8bf6ab21031686d69",
            "25d24bf171d6454491ebbaf59790438f",
            "72ce3ea86bda4bed890e5ef47eff22c4",
            "79670035be19453ca5ac16fb0177c5ff",
            "b3e61ca80850408dadba8e87d61446ea",
            "bdabb71d62864252ac60adacc948def5",
            "a703ebe5e0514883a1644c1862382723",
            "55291c25026047ae98e58e4bdbec2bed",
            "5c18c33bc18d413395d00f65b7cb521c",
            "60d16dc9999c4544a63bb5cb30afe07f",
            "3b3bf98d8c0b4155a9e11435271056fa"
          ]
        },
        "id": "rTaDk8daKSv8",
        "outputId": "be46fc9a-9842-4194-c316-ba307c4ed0cd"
      },
      "execution_count": 34,
      "outputs": [
        {
          "output_type": "display_data",
          "data": {
            "text/plain": [
              "Downloading (…)lve/main/config.json:   0%|          | 0.00/385 [00:00<?, ?B/s]"
            ],
            "application/vnd.jupyter.widget-view+json": {
              "version_major": 2,
              "version_minor": 0,
              "model_id": "72e6e1a66cc944109f8e30a05997aa05"
            }
          },
          "metadata": {}
        },
        {
          "output_type": "display_data",
          "data": {
            "text/plain": [
              "Downloading (…)solve/main/vocab.txt:   0%|          | 0.00/213k [00:00<?, ?B/s]"
            ],
            "application/vnd.jupyter.widget-view+json": {
              "version_major": 2,
              "version_minor": 0,
              "model_id": "9fda99d3c3d1421f967b12ad981b58da"
            }
          },
          "metadata": {}
        },
        {
          "output_type": "display_data",
          "data": {
            "text/plain": [
              "Downloading pytorch_model.bin:   0%|          | 0.00/436M [00:00<?, ?B/s]"
            ],
            "application/vnd.jupyter.widget-view+json": {
              "version_major": 2,
              "version_minor": 0,
              "model_id": "6452960270e54dd8bf6ab21031686d69"
            }
          },
          "metadata": {}
        },
        {
          "output_type": "stream",
          "name": "stderr",
          "text": [
            "Some weights of the model checkpoint at emilyalsentzer/Bio_ClinicalBERT were not used when initializing BertModel: ['cls.predictions.transform.dense.weight', 'cls.predictions.bias', 'cls.seq_relationship.bias', 'cls.predictions.transform.dense.bias', 'cls.seq_relationship.weight', 'cls.predictions.decoder.weight', 'cls.predictions.transform.LayerNorm.weight', 'cls.predictions.transform.LayerNorm.bias']\n",
            "- This IS expected if you are initializing BertModel from the checkpoint of a model trained on another task or with another architecture (e.g. initializing a BertForSequenceClassification model from a BertForPreTraining model).\n",
            "- This IS NOT expected if you are initializing BertModel from the checkpoint of a model that you expect to be exactly identical (initializing a BertForSequenceClassification model from a BertForSequenceClassification model).\n",
            "Some weights of the model checkpoint at bert-base-uncased were not used when initializing BertForSequenceClassification: ['cls.predictions.transform.dense.weight', 'cls.predictions.bias', 'cls.seq_relationship.bias', 'cls.predictions.transform.dense.bias', 'cls.seq_relationship.weight', 'cls.predictions.decoder.weight', 'cls.predictions.transform.LayerNorm.weight', 'cls.predictions.transform.LayerNorm.bias']\n",
            "- This IS expected if you are initializing BertForSequenceClassification from the checkpoint of a model trained on another task or with another architecture (e.g. initializing a BertForSequenceClassification model from a BertForPreTraining model).\n",
            "- This IS NOT expected if you are initializing BertForSequenceClassification from the checkpoint of a model that you expect to be exactly identical (initializing a BertForSequenceClassification model from a BertForSequenceClassification model).\n",
            "Some weights of BertForSequenceClassification were not initialized from the model checkpoint at bert-base-uncased and are newly initialized: ['classifier.bias', 'classifier.weight']\n",
            "You should probably TRAIN this model on a down-stream task to be able to use it for predictions and inference.\n"
          ]
        },
        {
          "output_type": "execute_result",
          "data": {
            "text/plain": [
              "BertForSequenceClassification(\n",
              "  (bert): BertModel(\n",
              "    (embeddings): BertEmbeddings(\n",
              "      (word_embeddings): Embedding(30522, 768, padding_idx=0)\n",
              "      (position_embeddings): Embedding(512, 768)\n",
              "      (token_type_embeddings): Embedding(2, 768)\n",
              "      (LayerNorm): LayerNorm((768,), eps=1e-12, elementwise_affine=True)\n",
              "      (dropout): Dropout(p=0.1, inplace=False)\n",
              "    )\n",
              "    (encoder): BertEncoder(\n",
              "      (layer): ModuleList(\n",
              "        (0-11): 12 x BertLayer(\n",
              "          (attention): BertAttention(\n",
              "            (self): BertSelfAttention(\n",
              "              (query): Linear(in_features=768, out_features=768, bias=True)\n",
              "              (key): Linear(in_features=768, out_features=768, bias=True)\n",
              "              (value): Linear(in_features=768, out_features=768, bias=True)\n",
              "              (dropout): Dropout(p=0.1, inplace=False)\n",
              "            )\n",
              "            (output): BertSelfOutput(\n",
              "              (dense): Linear(in_features=768, out_features=768, bias=True)\n",
              "              (LayerNorm): LayerNorm((768,), eps=1e-12, elementwise_affine=True)\n",
              "              (dropout): Dropout(p=0.1, inplace=False)\n",
              "            )\n",
              "          )\n",
              "          (intermediate): BertIntermediate(\n",
              "            (dense): Linear(in_features=768, out_features=3072, bias=True)\n",
              "            (intermediate_act_fn): GELUActivation()\n",
              "          )\n",
              "          (output): BertOutput(\n",
              "            (dense): Linear(in_features=3072, out_features=768, bias=True)\n",
              "            (LayerNorm): LayerNorm((768,), eps=1e-12, elementwise_affine=True)\n",
              "            (dropout): Dropout(p=0.1, inplace=False)\n",
              "          )\n",
              "        )\n",
              "      )\n",
              "    )\n",
              "    (pooler): BertPooler(\n",
              "      (dense): Linear(in_features=768, out_features=768, bias=True)\n",
              "      (activation): Tanh()\n",
              "    )\n",
              "  )\n",
              "  (dropout): Dropout(p=0.1, inplace=False)\n",
              "  (classifier): Linear(in_features=768, out_features=4, bias=True)\n",
              ")"
            ]
          },
          "metadata": {},
          "execution_count": 34
        }
      ]
    },
    {
      "cell_type": "markdown",
      "source": [
        "### Tokenization"
      ],
      "metadata": {
        "id": "fyjU6AyRKdVe"
      }
    },
    {
      "cell_type": "code",
      "source": [
        "!pip install transformers --quiet"
      ],
      "metadata": {
        "id": "ijP0YgyVKdVf"
      },
      "execution_count": 35,
      "outputs": []
    },
    {
      "cell_type": "code",
      "source": [
        "import transformers\n",
        "from transformers import BertTokenizer\n",
        "\n",
        "# Load BERT tokenizer\n",
        "tokenizer = AutoTokenizer.from_pretrained(\"emilyalsentzer/Bio_ClinicalBERT\")"
      ],
      "metadata": {
        "id": "oPD6Ru1iKdVf"
      },
      "execution_count": 36,
      "outputs": []
    },
    {
      "cell_type": "code",
      "source": [
        "def get_encoded_dict(df):\n",
        "    input_ids = []\n",
        "    attention_mask = []\n",
        "\n",
        "    for text in df['Quotation Content']:\n",
        "        encoded = tokenizer.encode_plus(text,\n",
        "                                        add_special_tokens=True,\n",
        "                                        padding='max_length',\n",
        "                                        return_attention_mask=True,\n",
        "                                        max_length=max_len,\n",
        "                                        return_tensors='pt',\n",
        "                                        truncation=True)\n",
        "\n",
        "        input_ids.append(encoded['input_ids'])\n",
        "        attention_mask.append(encoded['attention_mask'])\n",
        "        \n",
        "    return input_ids, attention_mask"
      ],
      "metadata": {
        "id": "fZMEDa6zKdVf"
      },
      "execution_count": 37,
      "outputs": []
    },
    {
      "cell_type": "code",
      "source": [
        "# Cat lists to tensors for TensorDataset\n",
        "def get_tensors(input_ids, attention_mask):\n",
        "    \n",
        "    input_ids = torch.cat(input_ids, dim=0)\n",
        "    attention_mask = torch.cat(attention_mask, dim=0)\n",
        "    \n",
        "    return input_ids, attention_mask"
      ],
      "metadata": {
        "id": "nnYeMDStKdVf"
      },
      "execution_count": 38,
      "outputs": []
    },
    {
      "cell_type": "code",
      "source": [
        "# Import tools for Dataloader\n",
        "from torch.utils.data import TensorDataset,DataLoader,RandomSampler,SequentialSampler\n",
        "\n",
        "# Convert df to DataLoader\n",
        "def get_dataloader(df, batch_size=32):\n",
        "    temp_ids, temp_masks = get_encoded_dict(df)\n",
        "    \n",
        "    # Convert to tensors\n",
        "    temp_ids, temp_masks = get_tensors(temp_ids, temp_masks)\n",
        "    temp_labels = torch.tensor(df['label'].values)\n",
        "    \n",
        "    # Generate dataset\n",
        "    temp_dataset = TensorDataset(temp_ids,\n",
        "                                 temp_masks,\n",
        "                                 temp_labels)\n",
        "    \n",
        "    # Generate dataloader\n",
        "    temp_dataloader = DataLoader(temp_dataset,\n",
        "                                 batch_size=batch_size,\n",
        "                                 sampler=RandomSampler(temp_dataset))\n",
        "    \n",
        "    return temp_dataloader"
      ],
      "metadata": {
        "id": "eZSB-XRLKdVf"
      },
      "execution_count": 39,
      "outputs": []
    },
    {
      "cell_type": "code",
      "source": [
        "# Get dataloader for all dataframes\n",
        "train_dataloader = get_dataloader(df_train)\n",
        "val_dataloader = get_dataloader(df_val)\n",
        "test_dataloader = get_dataloader(df_test)\n"
      ],
      "metadata": {
        "id": "YVnRLpNbKdVf"
      },
      "execution_count": 40,
      "outputs": []
    },
    {
      "cell_type": "markdown",
      "source": [
        "### Import BERT"
      ],
      "metadata": {
        "id": "oQD_Ys2SKdVg"
      }
    },
    {
      "cell_type": "code",
      "source": [
        "from transformers import BertForSequenceClassification, AdamW\n",
        "\n",
        "model = BertForSequenceClassification.from_pretrained(\"emilyalsentzer/Bio_ClinicalBERT\", num_labels=len(label_dict),\n",
        "                                                      output_attentions=False,\n",
        "                                                      output_hidden_states=False)\n",
        "\n",
        "\n",
        "\n",
        "# Tell mode to use CUDA\n",
        "model.cuda()"
      ],
      "metadata": {
        "colab": {
          "base_uri": "https://localhost:8080/"
        },
        "outputId": "25c00c6a-5184-4412-80f4-91b5824cf363",
        "id": "vvME_zcbKdVg"
      },
      "execution_count": 41,
      "outputs": [
        {
          "output_type": "stream",
          "name": "stderr",
          "text": [
            "Some weights of the model checkpoint at emilyalsentzer/Bio_ClinicalBERT were not used when initializing BertForSequenceClassification: ['cls.predictions.transform.dense.weight', 'cls.predictions.bias', 'cls.seq_relationship.bias', 'cls.predictions.transform.dense.bias', 'cls.seq_relationship.weight', 'cls.predictions.decoder.weight', 'cls.predictions.transform.LayerNorm.weight', 'cls.predictions.transform.LayerNorm.bias']\n",
            "- This IS expected if you are initializing BertForSequenceClassification from the checkpoint of a model trained on another task or with another architecture (e.g. initializing a BertForSequenceClassification model from a BertForPreTraining model).\n",
            "- This IS NOT expected if you are initializing BertForSequenceClassification from the checkpoint of a model that you expect to be exactly identical (initializing a BertForSequenceClassification model from a BertForSequenceClassification model).\n",
            "Some weights of BertForSequenceClassification were not initialized from the model checkpoint at emilyalsentzer/Bio_ClinicalBERT and are newly initialized: ['classifier.bias', 'classifier.weight']\n",
            "You should probably TRAIN this model on a down-stream task to be able to use it for predictions and inference.\n"
          ]
        },
        {
          "output_type": "execute_result",
          "data": {
            "text/plain": [
              "BertForSequenceClassification(\n",
              "  (bert): BertModel(\n",
              "    (embeddings): BertEmbeddings(\n",
              "      (word_embeddings): Embedding(28996, 768, padding_idx=0)\n",
              "      (position_embeddings): Embedding(512, 768)\n",
              "      (token_type_embeddings): Embedding(2, 768)\n",
              "      (LayerNorm): LayerNorm((768,), eps=1e-12, elementwise_affine=True)\n",
              "      (dropout): Dropout(p=0.1, inplace=False)\n",
              "    )\n",
              "    (encoder): BertEncoder(\n",
              "      (layer): ModuleList(\n",
              "        (0-11): 12 x BertLayer(\n",
              "          (attention): BertAttention(\n",
              "            (self): BertSelfAttention(\n",
              "              (query): Linear(in_features=768, out_features=768, bias=True)\n",
              "              (key): Linear(in_features=768, out_features=768, bias=True)\n",
              "              (value): Linear(in_features=768, out_features=768, bias=True)\n",
              "              (dropout): Dropout(p=0.1, inplace=False)\n",
              "            )\n",
              "            (output): BertSelfOutput(\n",
              "              (dense): Linear(in_features=768, out_features=768, bias=True)\n",
              "              (LayerNorm): LayerNorm((768,), eps=1e-12, elementwise_affine=True)\n",
              "              (dropout): Dropout(p=0.1, inplace=False)\n",
              "            )\n",
              "          )\n",
              "          (intermediate): BertIntermediate(\n",
              "            (dense): Linear(in_features=768, out_features=3072, bias=True)\n",
              "            (intermediate_act_fn): GELUActivation()\n",
              "          )\n",
              "          (output): BertOutput(\n",
              "            (dense): Linear(in_features=3072, out_features=768, bias=True)\n",
              "            (LayerNorm): LayerNorm((768,), eps=1e-12, elementwise_affine=True)\n",
              "            (dropout): Dropout(p=0.1, inplace=False)\n",
              "          )\n",
              "        )\n",
              "      )\n",
              "    )\n",
              "    (pooler): BertPooler(\n",
              "      (dense): Linear(in_features=768, out_features=768, bias=True)\n",
              "      (activation): Tanh()\n",
              "    )\n",
              "  )\n",
              "  (dropout): Dropout(p=0.1, inplace=False)\n",
              "  (classifier): Linear(in_features=768, out_features=4, bias=True)\n",
              ")"
            ]
          },
          "metadata": {},
          "execution_count": 41
        }
      ]
    },
    {
      "cell_type": "code",
      "source": [
        "# Configuring optimizer\n",
        "optimizer = AdamW(model.parameters(),\n",
        "                  lr = 3e-5)"
      ],
      "metadata": {
        "colab": {
          "base_uri": "https://localhost:8080/"
        },
        "outputId": "a6010ce0-290e-4aaa-b430-cfbf4ef6b776",
        "id": "L24kW9GtKdVg"
      },
      "execution_count": 42,
      "outputs": [
        {
          "output_type": "stream",
          "name": "stderr",
          "text": [
            "/usr/local/lib/python3.10/dist-packages/transformers/optimization.py:391: FutureWarning: This implementation of AdamW is deprecated and will be removed in a future version. Use the PyTorch implementation torch.optim.AdamW instead, or set `no_deprecation_warning=True` to disable this warning\n",
            "  warnings.warn(\n"
          ]
        }
      ]
    },
    {
      "cell_type": "code",
      "source": [
        "# Configuring scheduler\n",
        "from transformers import get_linear_schedule_with_warmup\n",
        "\n",
        "# Total steps: number of batchers * epochs\n",
        "total_steps = len(train_dataloader) * epochs\n",
        "\n",
        "# Set up the scheduler\n",
        "scheduler = get_linear_schedule_with_warmup(optimizer,\n",
        "                                            num_warmup_steps=10,\n",
        "                                            num_training_steps=total_steps)"
      ],
      "metadata": {
        "id": "pde90jObKdVg"
      },
      "execution_count": 43,
      "outputs": []
    },
    {
      "cell_type": "markdown",
      "source": [
        "### Training"
      ],
      "metadata": {
        "id": "Dg_K0kEbKdVg"
      }
    },
    {
      "cell_type": "code",
      "source": [
        "# Import materics\n",
        "from sklearn.metrics import accuracy_score, confusion_matrix, classification_report\n",
        "\n",
        "import time"
      ],
      "metadata": {
        "id": "iZZAg-qNKdVh"
      },
      "execution_count": 44,
      "outputs": []
    },
    {
      "cell_type": "code",
      "source": [
        "import numpy as np\n",
        "# Reset history lists\n",
        "training_stats = []\n",
        "\n",
        "for epoch_i in range(epochs):\n",
        "    \n",
        "    # timer_start\n",
        "    epoch_t0 = time.time()\n",
        "    \n",
        "    print('【EPOCH: {}/ {}】'.format(epoch_i+1, epochs))\n",
        "    print('Trainig Phase')\n",
        "    \n",
        "    # Set training mode\n",
        "    model.train()\n",
        "    \n",
        "    # Reset training loss\n",
        "    total_training_loss = 0\n",
        "    \n",
        "    # Batch and forward\n",
        "    for batch in train_dataloader:\n",
        "        b_input_ids = batch[0].to(device)\n",
        "        b_masks = batch[1].to(device)\n",
        "        b_labels = batch[2].to(device)\n",
        "    \n",
        "        # Reset gradients before \n",
        "        model.zero_grad()\n",
        "        \n",
        "        # Forward pass\n",
        "        res = model(b_input_ids,\n",
        "                    token_type_ids=None,\n",
        "                    attention_mask=b_masks,\n",
        "                    return_dict=True)\n",
        "        \n",
        "        loss = res.loss\n",
        "        logits = res.logits\n",
        "        \n",
        "        # sumup training loss\n",
        "        total_training_loss += loss.item()\n",
        "        \n",
        "        # backpropagation\n",
        "        loss.backward()\n",
        "        \n",
        "        # Clip the norm of the gradients to 1.0.\n",
        "        # This is to help prevent the \"exploding gradients\" problem.\n",
        "        torch.nn.utils.clip_grad_norm_(model.parameters(), 1.0)\n",
        "        \n",
        "        # update optimizer and scheduler\n",
        "        optimizer.step()\n",
        "        scheduler.step()\n",
        "        \n",
        "    # averrage loss\n",
        "    avg_train_loss = total_training_loss/len(train_dataloader)\n",
        "    print(\"  Average training loss: {0:.4f}\".format(avg_train_loss))\n",
        "    \n",
        "    \n",
        "    # validation\n",
        "    print('Validation Phase')\n",
        "    \n",
        "    # Reset validation loss\n",
        "    total_val_loss = 0\n",
        "    \n",
        "    # Set up lists\n",
        "    ls_val_logits = []\n",
        "    ls_val_labels = []\n",
        "\n",
        "    # Get batchs from val_dataloader\n",
        "    for batch in val_dataloader:\n",
        "        b_input_ids = batch[0].to(device)\n",
        "        b_masks = batch[1].to(device)\n",
        "        b_labels = batch[2].to(device)\n",
        "\n",
        "        # No need to calculate gradients\n",
        "        with torch.no_grad():\n",
        "\n",
        "            res = model(b_input_ids,\n",
        "                        token_type_ids=None,\n",
        "                        attention_mask=b_masks,\n",
        "                        labels=b_labels,\n",
        "                        return_dict=True)\n",
        "\n",
        "        val_loss = res.loss\n",
        "        val_logits = res.logits\n",
        "        total_val_loss += val_loss.item()\n",
        "\n",
        "        # Convert logitis to numpy format\n",
        "        val_logits = np.argmax(val_logits.cpu().detach().numpy(), axis=1)\n",
        "        val_labels = b_labels.cpu().detach().numpy()\n",
        "\n",
        "        # Append data to the lists\n",
        "        for logit in val_logits:\n",
        "            ls_val_logits.append(logit)\n",
        "\n",
        "        for label in val_labels:\n",
        "            ls_val_labels.append(label)\n",
        "    \n",
        "    # Get accuracy score and val_loss\n",
        "    acc = accuracy_score(ls_val_logits, ls_val_labels)\n",
        "    avg_val_loss = total_val_loss/len(val_dataloader)\n",
        "    \n",
        "    # Print out validation performance\n",
        "    print('  Average validation loss: {:.4f}'.format(avg_val_loss))\n",
        "    print('  Validation accruacy: {:.4f}'.format(acc))\n",
        "    \n",
        "    \n",
        "    # timer_end\n",
        "    epoch_time_spent = time.time() - epoch_t0\n",
        "    print('  Time spent on the epoch: {:.2f}'.format(epoch_time_spent))\n",
        "    print('\\n')\n",
        "    \n",
        "    # Recording training stats\n",
        "    training_stats.append(\n",
        "        {\n",
        "            'Epoch': epoch_i+1,\n",
        "            'train_loss': avg_train_loss,\n",
        "            'val_loss': avg_val_loss,\n",
        "            'val_acc': acc,\n",
        "            'time_spent': epoch_time_spent\n",
        "        })"
      ],
      "metadata": {
        "colab": {
          "base_uri": "https://localhost:8080/",
          "height": 271
        },
        "id": "bxeyfjrNRE3L",
        "outputId": "e2766655-5183-4c7e-b1b3-5c746d091ce9"
      },
      "execution_count": 45,
      "outputs": [
        {
          "output_type": "stream",
          "name": "stdout",
          "text": [
            "【EPOCH: 1/ 20】\n",
            "Trainig Phase\n"
          ]
        },
        {
          "output_type": "error",
          "ename": "AttributeError",
          "evalue": "ignored",
          "traceback": [
            "\u001b[0;31m---------------------------------------------------------------------------\u001b[0m",
            "\u001b[0;31mAttributeError\u001b[0m                            Traceback (most recent call last)",
            "\u001b[0;32m<ipython-input-45-fc6b12d33dbd>\u001b[0m in \u001b[0;36m<cell line: 5>\u001b[0;34m()\u001b[0m\n\u001b[1;32m     36\u001b[0m \u001b[0;34m\u001b[0m\u001b[0m\n\u001b[1;32m     37\u001b[0m         \u001b[0;31m# sumup training loss\u001b[0m\u001b[0;34m\u001b[0m\u001b[0;34m\u001b[0m\u001b[0m\n\u001b[0;32m---> 38\u001b[0;31m         \u001b[0mtotal_training_loss\u001b[0m \u001b[0;34m+=\u001b[0m \u001b[0mloss\u001b[0m\u001b[0;34m.\u001b[0m\u001b[0mitem\u001b[0m\u001b[0;34m(\u001b[0m\u001b[0;34m)\u001b[0m\u001b[0;34m\u001b[0m\u001b[0;34m\u001b[0m\u001b[0m\n\u001b[0m\u001b[1;32m     39\u001b[0m \u001b[0;34m\u001b[0m\u001b[0m\n\u001b[1;32m     40\u001b[0m         \u001b[0;31m# backpropagation\u001b[0m\u001b[0;34m\u001b[0m\u001b[0;34m\u001b[0m\u001b[0m\n",
            "\u001b[0;31mAttributeError\u001b[0m: 'NoneType' object has no attribute 'item'"
          ]
        }
      ]
    },
    {
      "cell_type": "markdown",
      "source": [
        "### Training performance"
      ],
      "metadata": {
        "id": "kXxDD7AbKdVh"
      }
    },
    {
      "cell_type": "code",
      "source": [
        "train_loss = []\n",
        "val_loss = []\n",
        "val_acc = []\n",
        "time_spent = []\n",
        "\n",
        "for i in range(len(training_stats)):\n",
        "    train_loss.append(training_stats[i]['train_loss'])\n",
        "    val_loss.append(training_stats[i]['val_loss'])\n",
        "    val_acc.append(training_stats[i]['val_acc'])\n",
        "    time_spent.append(training_stats[i]['time_spent'])"
      ],
      "metadata": {
        "id": "6gAli3hTKdVh"
      },
      "execution_count": null,
      "outputs": []
    },
    {
      "cell_type": "code",
      "source": [
        "# Print time spent\n",
        "print('Time spent on training {} epochs: {:.0f}'.format(epochs, np.sum(time_spent)/60) + ' minutes')\n",
        "\n",
        "# Plotting\n",
        "import matplotlib.pyplot as plt\n",
        "\n",
        "plt.figure(figsize=(10,3))\n",
        "\n",
        "plt.subplot(1,2,1)\n",
        "plt.plot(train_loss)\n",
        "plt.plot(val_loss)\n",
        "plt.title('loss')\n",
        "\n",
        "plt.subplot(1,2,2)\n",
        "plt.plot(val_acc, color='red', linestyle='--')\n",
        "plt.title('accuracy')"
      ],
      "metadata": {
        "id": "AbAwSXyMKdVh"
      },
      "execution_count": null,
      "outputs": []
    },
    {
      "cell_type": "code",
      "source": [
        "torch.save(model.state_dict(), model_path)"
      ],
      "metadata": {
        "id": "ZfLkWPyoKdVi"
      },
      "execution_count": null,
      "outputs": []
    },
    {
      "cell_type": "markdown",
      "source": [
        "### Perform on the test data"
      ],
      "metadata": {
        "id": "8g5matQYKdVi"
      }
    },
    {
      "cell_type": "code",
      "source": [
        "# Prepare df_test for prediction\n",
        "t_input_ids, t_attention_mask = get_encoded_dict(df_test)\n",
        "t_input_ids, t_attention_mask = get_tensors(t_input_ids, t_attention_mask)\n",
        "\n",
        "# Prepare dataset and dataloader\n",
        "test_dataset = TensorDataset(t_input_ids, t_attention_mask)\n",
        "test_dataloader = DataLoader(test_dataset,\n",
        "                             batch_size=32,\n",
        "                             sampler=SequentialSampler(test_dataset))\n",
        "\n",
        "# Show dataloader length\n",
        "print('Number of batches in the dataloader: {}'.format(len(test_dataloader)))"
      ],
      "metadata": {
        "id": "2vYy2oWpKdVi"
      },
      "execution_count": null,
      "outputs": []
    },
    {
      "cell_type": "code",
      "source": [
        "# Setup lists for predictions and labels\n",
        "ls_test_pred = []\n",
        "\n",
        "# Get batchs from test_dataloader\n",
        "for batch in test_dataloader:\n",
        "    b_input_ids = batch[0].to(device)\n",
        "    b_masks = batch[1].to(device)\n",
        "    \n",
        "    with torch.no_grad():\n",
        "\n",
        "        res = model(b_input_ids,\n",
        "                    attention_mask=b_masks,\n",
        "                    return_dict=True)\n",
        "\n",
        "        test_logits = res.logits\n",
        "        test_logits = np.argmax(test_logits.cpu().detach().numpy(), axis=1)\n",
        "        \n",
        "        for pred in test_logits:\n",
        "            ls_test_pred.append(pred)"
      ],
      "metadata": {
        "id": "rcs5qOeFKdVi"
      },
      "execution_count": null,
      "outputs": []
    },
    {
      "cell_type": "code",
      "source": [
        "# Set up list of test labels\n",
        "ls_test_labels = df_test['Label'].values\n",
        "rev_subs = { v:k for k,v in label_dict.items()}\n",
        "ls_test_pred = [rev_subs.get(item,item)  for item in ls_test_pred]\n",
        "# Get accuracy score and val_loss\n",
        "acc = accuracy_score(ls_test_pred, ls_test_labels)\n",
        "print('Prediction accuracy: {:.4f}'.format(acc))"
      ],
      "metadata": {
        "id": "V2uznZ27KdVi"
      },
      "execution_count": null,
      "outputs": []
    },
    {
      "cell_type": "code",
      "source": [
        "label_dict.keys()"
      ],
      "metadata": {
        "id": "1FN_Qe2iKdVj"
      },
      "execution_count": null,
      "outputs": []
    },
    {
      "cell_type": "code",
      "source": [
        "# Confusion matrix\n",
        "cm = confusion_matrix(ls_test_labels, ls_test_pred)\n",
        "labels = label_dict.keys()\n",
        "\n",
        "fig = plt.figure(figsize=(8,8))\n",
        "ax= fig.add_subplot(1,1,1)\n",
        "sns.heatmap(cm, annot=True, cmap=\"Greens\",ax = ax,fmt='g'); #annot=True to annotate cells\n",
        "\n",
        "# labels, title and ticks\n",
        "ax.set_xlabel('Predicted labels');ax.set_ylabel('True labels'); \n",
        "ax.set_title('Confusion Matrix'); \n",
        "ax.xaxis.set_ticklabels(labels); ax.yaxis.set_ticklabels(labels);\n",
        "plt.setp(ax.get_yticklabels(), rotation=30, horizontalalignment='right')\n",
        "plt.setp(ax.get_xticklabels(), rotation=30, horizontalalignment='right')     \n",
        "plt.show()\n",
        "print(classification_report(list(ls_test_labels),list(ls_test_pred),labels=list(labels)))"
      ],
      "metadata": {
        "id": "kr3M4l3rKdVj"
      },
      "execution_count": null,
      "outputs": []
    },
    {
      "cell_type": "markdown",
      "source": [
        "### Clinical Bert\n",
        "\n",
        "\n"
      ],
      "metadata": {
        "id": "KmFaMWG7Kjnx"
      }
    },
    {
      "cell_type": "markdown",
      "source": [
        "### Experiment Settings"
      ],
      "metadata": {
        "id": "pYmDHmm3Foww"
      }
    },
    {
      "cell_type": "code",
      "source": [
        "epochs = 20\n",
        "max_len = 300"
      ],
      "metadata": {
        "id": "gX2xT60ZFoww"
      },
      "execution_count": null,
      "outputs": []
    },
    {
      "cell_type": "code",
      "source": [
        "# Experiment_name\n",
        "experiment_name = 'basline_entire_dataset'\n",
        "\n",
        "# Naming: model\n",
        "model_path = '/content/drive/My Drive/CBB-750/Final Project/model/' + experiment_name + '.pt'\n",
        "print(model_path)\n",
        "\n",
        "# Naming: training history\n",
        "training_df_path = '/content/drive/My Drive/CBB-750/Final Project/history/' + experiment_name + '.csv'\n",
        "print(training_df_path)"
      ],
      "metadata": {
        "colab": {
          "base_uri": "https://localhost:8080/"
        },
        "outputId": "9a5462b5-7a1e-4d60-87a2-0440c910b191",
        "id": "fC-Ibb34Foww"
      },
      "execution_count": null,
      "outputs": [
        {
          "output_type": "stream",
          "name": "stdout",
          "text": [
            "/content/drive/My Drive/CBB-750/Final Project/model/basline_entire_dataset.pt\n",
            "/content/drive/My Drive/CBB-750/Final Project/history/basline_entire_dataset.csv\n"
          ]
        }
      ]
    },
    {
      "cell_type": "markdown",
      "source": [
        "### GPU"
      ],
      "metadata": {
        "id": "zLchiBw7Fowx"
      }
    },
    {
      "cell_type": "code",
      "execution_count": null,
      "metadata": {
        "colab": {
          "base_uri": "https://localhost:8080/"
        },
        "outputId": "7f003c98-75b2-41de-cee2-efd29f2f9165",
        "id": "MBXN-5cSFowx"
      },
      "outputs": [
        {
          "output_type": "stream",
          "name": "stdout",
          "text": [
            "Pytorch version is:  2.0.0+cu118\n",
            "You are using:  cuda\n"
          ]
        }
      ],
      "source": [
        "import torch\n",
        "import torch.nn as nn\n",
        "import torch.nn.functional as F\n",
        "import torch.optim as optim\n",
        "from torch import Tensor\n",
        "\n",
        "from typing import Tuple, List\n",
        "\n",
        "import random\n",
        "import math\n",
        "import os\n",
        "import time\n",
        "import json\n",
        "import numpy as np\n",
        "from collections import Counter\n",
        "\n",
        "# We'll set the random seeds for deterministic results.\n",
        "#SEED = 1\n",
        "\n",
        "#random.seed(SEED)\n",
        "#torch.manual_seed(SEED)\n",
        "#torch.backends.cudnn.enabled = False\n",
        "#torch.backends.cudnn.deterministic = True\n",
        "\n",
        "\n",
        "\n",
        "DEVICE = torch.device(\"cuda\" if torch.cuda.is_available() else \"cpu\")\n",
        "print(\"Pytorch version is: \", torch.__version__)\n",
        "print(\"You are using: \", DEVICE)"
      ]
    },
    {
      "cell_type": "code",
      "source": [
        "# mount Google Drive \n",
        "from google.colab import drive\n",
        "drive.mount('/content/drive')"
      ],
      "metadata": {
        "colab": {
          "base_uri": "https://localhost:8080/"
        },
        "outputId": "81b59b8c-28a2-4d73-bd4f-114ed262e8ca",
        "id": "4xVrciN8Fowx"
      },
      "execution_count": null,
      "outputs": [
        {
          "output_type": "stream",
          "name": "stdout",
          "text": [
            "Drive already mounted at /content/drive; to attempt to forcibly remount, call drive.mount(\"/content/drive\", force_remount=True).\n"
          ]
        }
      ]
    },
    {
      "cell_type": "markdown",
      "source": [
        "### Read Dataset"
      ],
      "metadata": {
        "id": "f9HFgTqrFowx"
      }
    },
    {
      "cell_type": "code",
      "source": [
        "import pandas as pd\n",
        "\n",
        "df = pd.read_csv('/content/drive/My Drive/CBB-750/Final Project/augmented_data.csv')\n",
        "df_gpt = pd.read_csv('/content/drive/My Drive/CBB-750/Final Project/GPTMessageLabelCode.csv')\n",
        "df_gpt['Quotation Content'] = df_gpt['Message']\n",
        "df = pd.concat([df, df_gpt], ignore_index=True)\n",
        "# Combine all dataframes into one dataframe"
      ],
      "metadata": {
        "id": "uaI7z0flFowx"
      },
      "execution_count": null,
      "outputs": []
    },
    {
      "cell_type": "code",
      "source": [
        "df_combined"
      ],
      "metadata": {
        "colab": {
          "base_uri": "https://localhost:8080/",
          "height": 166
        },
        "id": "dPl9KSRUKlVE",
        "outputId": "0b9073d2-d9f6-4005-f6c6-3057b6ee3004"
      },
      "execution_count": null,
      "outputs": [
        {
          "output_type": "error",
          "ename": "NameError",
          "evalue": "ignored",
          "traceback": [
            "\u001b[0;31m---------------------------------------------------------------------------\u001b[0m",
            "\u001b[0;31mNameError\u001b[0m                                 Traceback (most recent call last)",
            "\u001b[0;32m<ipython-input-6-81475876ee65>\u001b[0m in \u001b[0;36m<cell line: 1>\u001b[0;34m()\u001b[0m\n\u001b[0;32m----> 1\u001b[0;31m \u001b[0mdf_combined\u001b[0m\u001b[0;34m\u001b[0m\u001b[0;34m\u001b[0m\u001b[0m\n\u001b[0m",
            "\u001b[0;31mNameError\u001b[0m: name 'df_combined' is not defined"
          ]
        }
      ]
    },
    {
      "cell_type": "code",
      "source": [
        "#df = df[df['Label']!=\"SDM\"]\n",
        "#df_1 = df[df['Label']==\"Info Giving\"]\n",
        "#from random import randint\n",
        "#x = [randint(0, 158) for p in range(0, 98)]\n",
        "#df = df.drop(x)"
      ],
      "metadata": {
        "id": "JbCwkJ-22eDC"
      },
      "execution_count": null,
      "outputs": []
    },
    {
      "cell_type": "code",
      "source": [
        "# import package and torch\n",
        "!pip install --upgrade packaging --quiet\n",
        "!pip install torch --quiet\n",
        "import torch\n",
        "\n",
        "assert torch.cuda.is_available()\n",
        "\n",
        "# Tell torch to use GPU\n",
        "device = torch.device(\"cuda\")\n",
        "print('Running GPU: {}'.format(torch.cuda.get_device_name()))"
      ],
      "metadata": {
        "colab": {
          "base_uri": "https://localhost:8080/"
        },
        "outputId": "3c518636-14da-4fe8-b235-44324f7cf0d9",
        "id": "gRDdz-RVFowy"
      },
      "execution_count": null,
      "outputs": [
        {
          "output_type": "stream",
          "name": "stdout",
          "text": [
            "Running GPU: NVIDIA A100-SXM4-40GB\n"
          ]
        }
      ]
    },
    {
      "cell_type": "code",
      "source": [
        "possible_labels = df.Label.unique()\n",
        "\n",
        "label_dict = {}\n",
        "for index, possible_label in enumerate(possible_labels):\n",
        "    label_dict[possible_label] = index\n",
        "label_dict"
      ],
      "metadata": {
        "colab": {
          "base_uri": "https://localhost:8080/"
        },
        "outputId": "4bb66fde-368e-4c48-9ff5-824f18cf7e40",
        "id": "XxGBOZT-Fowy"
      },
      "execution_count": null,
      "outputs": [
        {
          "output_type": "execute_result",
          "data": {
            "text/plain": [
              "{'Info Giving': 0, 'Info Seeking': 1, 'Emotion': 2, 'Partnership': 3, 'SDM': 4}"
            ]
          },
          "metadata": {},
          "execution_count": 8
        }
      ]
    },
    {
      "cell_type": "code",
      "source": [
        "df['label'] = df.Label.replace(label_dict)\n",
        "df['text'] = df['Quotation Content']"
      ],
      "metadata": {
        "id": "4OsgxvemFowy"
      },
      "execution_count": null,
      "outputs": []
    },
    {
      "cell_type": "code",
      "source": [
        "import seaborn as sns\n",
        "sns.histplot(df['Label'])"
      ],
      "metadata": {
        "colab": {
          "base_uri": "https://localhost:8080/",
          "height": 466
        },
        "outputId": "50b662a1-1b74-4fb5-fe54-f31736b9a951",
        "id": "W_m433r1Fowy"
      },
      "execution_count": null,
      "outputs": [
        {
          "output_type": "execute_result",
          "data": {
            "text/plain": [
              "<Axes: xlabel='Label', ylabel='Count'>"
            ]
          },
          "metadata": {},
          "execution_count": 10
        },
        {
          "output_type": "display_data",
          "data": {
            "text/plain": [
              "<Figure size 640x480 with 1 Axes>"
            ],
            "image/png": "[encoded data removed]"
          },
          "metadata": {}
        }
      ]
    },
    {
      "cell_type": "markdown",
      "source": [
        "### Data Split"
      ],
      "metadata": {
        "id": "yA0yq69gFowy"
      }
    },
    {
      "cell_type": "code",
      "source": [
        "from sklearn.model_selection import train_test_split\n",
        "\n",
        "df_train, df_rem = train_test_split(df,\n",
        "                                    test_size=0.3,\n",
        "                                    random_state=1,\n",
        "                                    stratify=df['label'])\n",
        "\n",
        "df_val, df_test = train_test_split(df_rem, test_size=0.5, random_state=1,\n",
        "                                    stratify=df_rem['label'])\n"
      ],
      "metadata": {
        "id": "bnQgt6BxFowy"
      },
      "execution_count": null,
      "outputs": []
    },
    {
      "cell_type": "code",
      "source": [
        "for item in df_train, df_val, df_test:\n",
        "    print('Shape: {}'.format(item.shape))\n",
        "\n",
        "# Show df_train class distribution \n",
        "sns.histplot(df_train['Label'])   \n",
        "sns.histplot(df_val['Label'])\n",
        "sns.histplot(df_test['Label'])"
      ],
      "metadata": {
        "colab": {
          "base_uri": "https://localhost:8080/",
          "height": 518
        },
        "outputId": "515b2d3b-6a99-4bf6-defd-6041db748f0b",
        "id": "c8B3Pq8RFowy"
      },
      "execution_count": null,
      "outputs": [
        {
          "output_type": "stream",
          "name": "stdout",
          "text": [
            "Shape: (399, 7)\n",
            "Shape: (86, 7)\n",
            "Shape: (86, 7)\n"
          ]
        },
        {
          "output_type": "execute_result",
          "data": {
            "text/plain": [
              "<Axes: xlabel='Label', ylabel='Count'>"
            ]
          },
          "metadata": {},
          "execution_count": 41
        },
        {
          "output_type": "display_data",
          "data": {
            "text/plain": [
              "<Figure size 640x480 with 1 Axes>"
            ],
            "image/png": "[encoded data removed]"
          },
          "metadata": {}
        }
      ]
    },
    {
      "cell_type": "markdown",
      "source": [
        "### Tokenization"
      ],
      "metadata": {
        "id": "3g19ZN5IFowy"
      }
    },
    {
      "cell_type": "code",
      "source": [
        "!pip install transformers --quiet"
      ],
      "metadata": {
        "id": "X1WXhjuYFowy"
      },
      "execution_count": null,
      "outputs": []
    },
    {
      "cell_type": "code",
      "source": [
        "import transformers\n",
        "from transformers import BertTokenizer\n",
        "\n",
        "# Load BERT tokenizer\n",
        "model_name = 'bert-base-uncased'\n",
        "tokenizer = BertTokenizer.from_pretrained(model_name, \n",
        "                                          do_lower_case=True)"
      ],
      "metadata": {
        "id": "ZWdD9La9Fowz"
      },
      "execution_count": null,
      "outputs": []
    },
    {
      "cell_type": "code",
      "source": [
        "def get_encoded_dict(df):\n",
        "    input_ids = []\n",
        "    attention_mask = []\n",
        "\n",
        "    for text in df['Quotation Content']:\n",
        "        encoded = tokenizer.encode_plus(text,\n",
        "                                        add_special_tokens=True,\n",
        "                                        padding='max_length',\n",
        "                                        return_attention_mask=True,\n",
        "                                        max_length=max_len,\n",
        "                                        return_tensors='pt',\n",
        "                                        truncation=True)\n",
        "\n",
        "        input_ids.append(encoded['input_ids'])\n",
        "        attention_mask.append(encoded['attention_mask'])\n",
        "        \n",
        "    return input_ids, attention_mask"
      ],
      "metadata": {
        "id": "jEZw__a6Fowz"
      },
      "execution_count": null,
      "outputs": []
    },
    {
      "cell_type": "code",
      "source": [
        "# Cat lists to tensors for TensorDataset\n",
        "def get_tensors(input_ids, attention_mask):\n",
        "    \n",
        "    input_ids = torch.cat(input_ids, dim=0)\n",
        "    attention_mask = torch.cat(attention_mask, dim=0)\n",
        "    \n",
        "    return input_ids, attention_mask"
      ],
      "metadata": {
        "id": "oKBszI9VFowz"
      },
      "execution_count": null,
      "outputs": []
    },
    {
      "cell_type": "code",
      "source": [
        "# Import tools for Dataloader\n",
        "from torch.utils.data import TensorDataset,DataLoader,RandomSampler,SequentialSampler\n",
        "\n",
        "# Convert df to DataLoader\n",
        "def get_dataloader(df, batch_size=32):\n",
        "    temp_ids, temp_masks = get_encoded_dict(df)\n",
        "    \n",
        "    # Convert to tensors\n",
        "    temp_ids, temp_masks = get_tensors(temp_ids, temp_masks)\n",
        "    temp_labels = torch.tensor(df['label'].values)\n",
        "    \n",
        "    # Generate dataset\n",
        "    temp_dataset = TensorDataset(temp_ids,\n",
        "                                 temp_masks,\n",
        "                                 temp_labels)\n",
        "    \n",
        "    # Generate dataloader\n",
        "    temp_dataloader = DataLoader(temp_dataset,\n",
        "                                 batch_size=batch_size,\n",
        "                                 sampler=RandomSampler(temp_dataset))\n",
        "    \n",
        "    return temp_dataloader"
      ],
      "metadata": {
        "id": "_bbsOgXVFowz"
      },
      "execution_count": null,
      "outputs": []
    },
    {
      "cell_type": "code",
      "source": [
        "# Get dataloader for all dataframes\n",
        "train_dataloader = get_dataloader(df_train)\n",
        "val_dataloader = get_dataloader(df_val)\n",
        "test_dataloader = get_dataloader(df_test)\n"
      ],
      "metadata": {
        "id": "uk3UukaRFowz"
      },
      "execution_count": null,
      "outputs": []
    },
    {
      "cell_type": "markdown",
      "source": [
        "### Import BERT"
      ],
      "metadata": {
        "id": "-CyYH0E7Fowz"
      }
    },
    {
      "cell_type": "code",
      "source": [
        "from transformers import BertForSequenceClassification, AdamW, BertForPreTraining\n",
        "\n",
        "model = BertForSequenceClassification.from_pretrained(model_name,\n",
        "                                                      num_labels=len(label_dict),\n",
        "                                                      output_attentions=False,\n",
        "                                                      output_hidden_states=False)\n",
        "\n",
        "# Tell mode to use CUDA\n",
        "model.cuda()"
      ],
      "metadata": {
        "colab": {
          "base_uri": "https://localhost:8080/"
        },
        "outputId": "e0404bad-c8b9-4d75-e7a3-0e51b5258e9b",
        "id": "Ud_CcC-1Fowz"
      },
      "execution_count": null,
      "outputs": [
        {
          "output_type": "stream",
          "name": "stderr",
          "text": [
            "Some weights of the model checkpoint at bert-base-uncased were not used when initializing BertForSequenceClassification: ['cls.seq_relationship.weight', 'cls.predictions.transform.dense.weight', 'cls.predictions.transform.LayerNorm.bias', 'cls.predictions.transform.dense.bias', 'cls.predictions.decoder.weight', 'cls.seq_relationship.bias', 'cls.predictions.transform.LayerNorm.weight', 'cls.predictions.bias']\n",
            "- This IS expected if you are initializing BertForSequenceClassification from the checkpoint of a model trained on another task or with another architecture (e.g. initializing a BertForSequenceClassification model from a BertForPreTraining model).\n",
            "- This IS NOT expected if you are initializing BertForSequenceClassification from the checkpoint of a model that you expect to be exactly identical (initializing a BertForSequenceClassification model from a BertForSequenceClassification model).\n",
            "Some weights of BertForSequenceClassification were not initialized from the model checkpoint at bert-base-uncased and are newly initialized: ['classifier.weight', 'classifier.bias']\n",
            "You should probably TRAIN this model on a down-stream task to be able to use it for predictions and inference.\n"
          ]
        },
        {
          "output_type": "execute_result",
          "data": {
            "text/plain": [
              "BertForSequenceClassification(\n",
              "  (bert): BertModel(\n",
              "    (embeddings): BertEmbeddings(\n",
              "      (word_embeddings): Embedding(30522, 768, padding_idx=0)\n",
              "      (position_embeddings): Embedding(512, 768)\n",
              "      (token_type_embeddings): Embedding(2, 768)\n",
              "      (LayerNorm): LayerNorm((768,), eps=1e-12, elementwise_affine=True)\n",
              "      (dropout): Dropout(p=0.1, inplace=False)\n",
              "    )\n",
              "    (encoder): BertEncoder(\n",
              "      (layer): ModuleList(\n",
              "        (0-11): 12 x BertLayer(\n",
              "          (attention): BertAttention(\n",
              "            (self): BertSelfAttention(\n",
              "              (query): Linear(in_features=768, out_features=768, bias=True)\n",
              "              (key): Linear(in_features=768, out_features=768, bias=True)\n",
              "              (value): Linear(in_features=768, out_features=768, bias=True)\n",
              "              (dropout): Dropout(p=0.1, inplace=False)\n",
              "            )\n",
              "            (output): BertSelfOutput(\n",
              "              (dense): Linear(in_features=768, out_features=768, bias=True)\n",
              "              (LayerNorm): LayerNorm((768,), eps=1e-12, elementwise_affine=True)\n",
              "              (dropout): Dropout(p=0.1, inplace=False)\n",
              "            )\n",
              "          )\n",
              "          (intermediate): BertIntermediate(\n",
              "            (dense): Linear(in_features=768, out_features=3072, bias=True)\n",
              "            (intermediate_act_fn): GELUActivation()\n",
              "          )\n",
              "          (output): BertOutput(\n",
              "            (dense): Linear(in_features=3072, out_features=768, bias=True)\n",
              "            (LayerNorm): LayerNorm((768,), eps=1e-12, elementwise_affine=True)\n",
              "            (dropout): Dropout(p=0.1, inplace=False)\n",
              "          )\n",
              "        )\n",
              "      )\n",
              "    )\n",
              "    (pooler): BertPooler(\n",
              "      (dense): Linear(in_features=768, out_features=768, bias=True)\n",
              "      (activation): Tanh()\n",
              "    )\n",
              "  )\n",
              "  (dropout): Dropout(p=0.1, inplace=False)\n",
              "  (classifier): Linear(in_features=768, out_features=5, bias=True)\n",
              ")"
            ]
          },
          "metadata": {},
          "execution_count": 48
        }
      ]
    },
    {
      "cell_type": "code",
      "source": [
        "# Configuring optimizer\n",
        "optimizer = AdamW(model.parameters(),\n",
        "                  lr = 3e-5)"
      ],
      "metadata": {
        "colab": {
          "base_uri": "https://localhost:8080/"
        },
        "outputId": "871ce8f9-0507-4472-bbc7-d008f08bb87b",
        "id": "3QB6CTSTFowz"
      },
      "execution_count": null,
      "outputs": [
        {
          "output_type": "stream",
          "name": "stderr",
          "text": [
            "/usr/local/lib/python3.10/dist-packages/transformers/optimization.py:391: FutureWarning: This implementation of AdamW is deprecated and will be removed in a future version. Use the PyTorch implementation torch.optim.AdamW instead, or set `no_deprecation_warning=True` to disable this warning\n",
            "  warnings.warn(\n"
          ]
        }
      ]
    },
    {
      "cell_type": "code",
      "source": [
        "# Configuring scheduler\n",
        "from transformers import get_linear_schedule_with_warmup\n",
        "\n",
        "# Total steps: number of batchers * epochs\n",
        "total_steps = len(train_dataloader) * epochs\n",
        "\n",
        "# Set up the scheduler\n",
        "scheduler = get_linear_schedule_with_warmup(optimizer,\n",
        "                                            num_warmup_steps=10,\n",
        "                                            num_training_steps=total_steps)"
      ],
      "metadata": {
        "id": "DMCHis8OFowz"
      },
      "execution_count": null,
      "outputs": []
    },
    {
      "cell_type": "markdown",
      "source": [
        "### Training"
      ],
      "metadata": {
        "id": "6VjdvaKhFow0"
      }
    },
    {
      "cell_type": "code",
      "source": [
        "# Import materics\n",
        "from sklearn.metrics import accuracy_score, confusion_matrix, classification_report\n",
        "\n",
        "import time"
      ],
      "metadata": {
        "id": "DgfPb1U-Fow0"
      },
      "execution_count": null,
      "outputs": []
    },
    {
      "cell_type": "code",
      "source": [
        "import numpy as np\n",
        "# Reset history lists\n",
        "training_stats = []\n",
        "\n",
        "for epoch_i in range(epochs):\n",
        "    \n",
        "    # timer_start\n",
        "    epoch_t0 = time.time()\n",
        "    \n",
        "    print('【EPOCH: {}/ {}】'.format(epoch_i+1, epochs))\n",
        "    print('Trainig Phase')\n",
        "    \n",
        "    # Set training mode\n",
        "    model.train()\n",
        "    \n",
        "    # Reset training loss\n",
        "    total_training_loss = 0\n",
        "    \n",
        "    # Batch and forward\n",
        "    for batch in train_dataloader:\n",
        "        b_input_ids = batch[0].to(device)\n",
        "        b_masks = batch[1].to(device)\n",
        "        b_labels = batch[2].to(device)\n",
        "    \n",
        "        # Reset gradients before \n",
        "        model.zero_grad()\n",
        "        \n",
        "        # Forward pass\n",
        "        res = model(b_input_ids,\n",
        "                    token_type_ids=None,\n",
        "                    attention_mask=b_masks,\n",
        "                    return_dict=True,\n",
        "                    labels=b_labels)\n",
        "        \n",
        "        loss = res.loss\n",
        "        logits = res.logits\n",
        "        \n",
        "        # sumup training loss\n",
        "        total_training_loss += loss.item()\n",
        "        \n",
        "        # backpropagation\n",
        "        loss.backward()\n",
        "        \n",
        "        # Clip the norm of the gradients to 1.0.\n",
        "        # This is to help prevent the \"exploding gradients\" problem.\n",
        "        torch.nn.utils.clip_grad_norm_(model.parameters(), 1.0)\n",
        "        \n",
        "        # update optimizer and scheduler\n",
        "        optimizer.step()\n",
        "        scheduler.step()\n",
        "        \n",
        "    # averrage loss\n",
        "    avg_train_loss = total_training_loss/len(train_dataloader)\n",
        "    print(\"  Average training loss: {0:.4f}\".format(avg_train_loss))\n",
        "    \n",
        "    \n",
        "    # validation\n",
        "    print('Validation Phase')\n",
        "    \n",
        "    # Reset validation loss\n",
        "    total_val_loss = 0\n",
        "    \n",
        "    # Set up lists\n",
        "    ls_val_logits = []\n",
        "    ls_val_labels = []\n",
        "\n",
        "    # Get batchs from val_dataloader\n",
        "    for batch in val_dataloader:\n",
        "        b_input_ids = batch[0].to(device)\n",
        "        b_masks = batch[1].to(device)\n",
        "        b_labels = batch[2].to(device)\n",
        "\n",
        "        with torch.no_grad():\n",
        "\n",
        "            res = model(b_input_ids,\n",
        "                        token_type_ids=None,\n",
        "                        attention_mask=b_masks,\n",
        "                        labels=b_labels,\n",
        "                        return_dict=True)\n",
        "\n",
        "        val_loss = res.loss\n",
        "        val_logits = res.logits\n",
        "        total_val_loss += val_loss.item()\n",
        "\n",
        "        # Convert logitis to numpy format\n",
        "        val_logits = np.argmax(val_logits.cpu().detach().numpy(), axis=1)\n",
        "        val_labels = b_labels.cpu().detach().numpy()\n",
        "\n",
        "        # Append data to the lists\n",
        "        for logit in val_logits:\n",
        "            ls_val_logits.append(logit)\n",
        "\n",
        "        for label in val_labels:\n",
        "            ls_val_labels.append(label)\n",
        "    \n",
        "    # Get accuracy score and val_loss\n",
        "    acc = accuracy_score(ls_val_logits, ls_val_labels)\n",
        "    avg_val_loss = total_val_loss/len(val_dataloader)\n",
        "    \n",
        "    # Print out validation performance\n",
        "    print('  Average validation loss: {:.4f}'.format(avg_val_loss))\n",
        "    print('  Validation accruacy: {:.4f}'.format(acc))\n",
        "    \n",
        "    \n",
        "    # timer_end\n",
        "    epoch_time_spent = time.time() - epoch_t0\n",
        "    print('  Time spent on the epoch: {:.2f}'.format(epoch_time_spent))\n",
        "    print('\\n')\n",
        "    \n",
        "    # Recording training stats\n",
        "    training_stats.append(\n",
        "        {\n",
        "            'Epoch': epoch_i+1,\n",
        "            'train_loss': avg_train_loss,\n",
        "            'val_loss': avg_val_loss,\n",
        "            'val_acc': acc,\n",
        "            'time_spent': epoch_time_spent\n",
        "        })"
      ],
      "metadata": {
        "colab": {
          "base_uri": "https://localhost:8080/"
        },
        "outputId": "35663fb8-1d1c-42bc-977e-4bc64d69e33a",
        "id": "qbOKP-lFFow0"
      },
      "execution_count": null,
      "outputs": [
        {
          "output_type": "stream",
          "name": "stdout",
          "text": [
            "【EPOCH: 1/ 20】\n",
            "Trainig Phase\n",
            "  Average training loss: 1.5292\n",
            "Validation Phase\n",
            "  Average validation loss: 1.4596\n",
            "  Validation accruacy: 0.3837\n",
            "  Time spent on the epoch: 5.24\n",
            "\n",
            "\n",
            "【EPOCH: 2/ 20】\n",
            "Trainig Phase\n",
            "  Average training loss: 1.3487\n",
            "Validation Phase\n",
            "  Average validation loss: 1.3159\n",
            "  Validation accruacy: 0.4535\n",
            "  Time spent on the epoch: 5.21\n",
            "\n",
            "\n",
            "【EPOCH: 3/ 20】\n",
            "Trainig Phase\n",
            "  Average training loss: 1.1309\n",
            "Validation Phase\n",
            "  Average validation loss: 1.1725\n",
            "  Validation accruacy: 0.4884\n",
            "  Time spent on the epoch: 5.20\n",
            "\n",
            "\n",
            "【EPOCH: 4/ 20】\n",
            "Trainig Phase\n",
            "  Average training loss: 0.9266\n",
            "Validation Phase\n",
            "  Average validation loss: 1.1371\n",
            "  Validation accruacy: 0.5465\n",
            "  Time spent on the epoch: 5.19\n",
            "\n",
            "\n",
            "【EPOCH: 5/ 20】\n",
            "Trainig Phase\n",
            "  Average training loss: 0.7525\n",
            "Validation Phase\n",
            "  Average validation loss: 1.0100\n",
            "  Validation accruacy: 0.5930\n",
            "  Time spent on the epoch: 5.20\n",
            "\n",
            "\n",
            "【EPOCH: 6/ 20】\n",
            "Trainig Phase\n",
            "  Average training loss: 0.6411\n",
            "Validation Phase\n",
            "  Average validation loss: 0.9144\n",
            "  Validation accruacy: 0.6163\n",
            "  Time spent on the epoch: 5.18\n",
            "\n",
            "\n",
            "【EPOCH: 7/ 20】\n",
            "Trainig Phase\n",
            "  Average training loss: 0.5311\n",
            "Validation Phase\n",
            "  Average validation loss: 0.8877\n",
            "  Validation accruacy: 0.6512\n",
            "  Time spent on the epoch: 5.19\n",
            "\n",
            "\n",
            "【EPOCH: 8/ 20】\n",
            "Trainig Phase\n",
            "  Average training loss: 0.4743\n",
            "Validation Phase\n",
            "  Average validation loss: 0.9226\n",
            "  Validation accruacy: 0.6163\n",
            "  Time spent on the epoch: 5.19\n",
            "\n",
            "\n",
            "【EPOCH: 9/ 20】\n",
            "Trainig Phase\n",
            "  Average training loss: 0.3824\n",
            "Validation Phase\n",
            "  Average validation loss: 0.8559\n",
            "  Validation accruacy: 0.6860\n",
            "  Time spent on the epoch: 5.18\n",
            "\n",
            "\n",
            "【EPOCH: 10/ 20】\n",
            "Trainig Phase\n",
            "  Average training loss: 0.3166\n",
            "Validation Phase\n",
            "  Average validation loss: 0.8101\n",
            "  Validation accruacy: 0.6860\n",
            "  Time spent on the epoch: 5.18\n",
            "\n",
            "\n",
            "【EPOCH: 11/ 20】\n",
            "Trainig Phase\n",
            "  Average training loss: 0.2769\n",
            "Validation Phase\n",
            "  Average validation loss: 0.6778\n",
            "  Validation accruacy: 0.7209\n",
            "  Time spent on the epoch: 5.19\n",
            "\n",
            "\n",
            "【EPOCH: 12/ 20】\n",
            "Trainig Phase\n",
            "  Average training loss: 0.2643\n",
            "Validation Phase\n",
            "  Average validation loss: 0.7627\n",
            "  Validation accruacy: 0.7209\n",
            "  Time spent on the epoch: 5.18\n",
            "\n",
            "\n",
            "【EPOCH: 13/ 20】\n",
            "Trainig Phase\n",
            "  Average training loss: 0.2322\n",
            "Validation Phase\n",
            "  Average validation loss: 0.7847\n",
            "  Validation accruacy: 0.6860\n",
            "  Time spent on the epoch: 5.20\n",
            "\n",
            "\n",
            "【EPOCH: 14/ 20】\n",
            "Trainig Phase\n",
            "  Average training loss: 0.2165\n",
            "Validation Phase\n",
            "  Average validation loss: 0.8251\n",
            "  Validation accruacy: 0.7209\n",
            "  Time spent on the epoch: 5.19\n",
            "\n",
            "\n",
            "【EPOCH: 15/ 20】\n",
            "Trainig Phase\n",
            "  Average training loss: 0.2230\n",
            "Validation Phase\n",
            "  Average validation loss: 0.7750\n",
            "  Validation accruacy: 0.7209\n",
            "  Time spent on the epoch: 5.20\n",
            "\n",
            "\n",
            "【EPOCH: 16/ 20】\n",
            "Trainig Phase\n",
            "  Average training loss: 0.1923\n",
            "Validation Phase\n",
            "  Average validation loss: 0.7939\n",
            "  Validation accruacy: 0.7209\n",
            "  Time spent on the epoch: 5.20\n",
            "\n",
            "\n",
            "【EPOCH: 17/ 20】\n",
            "Trainig Phase\n",
            "  Average training loss: 0.1845\n",
            "Validation Phase\n",
            "  Average validation loss: 0.7959\n",
            "  Validation accruacy: 0.7093\n",
            "  Time spent on the epoch: 5.18\n",
            "\n",
            "\n",
            "【EPOCH: 18/ 20】\n",
            "Trainig Phase\n",
            "  Average training loss: 0.1836\n",
            "Validation Phase\n",
            "  Average validation loss: 0.8372\n",
            "  Validation accruacy: 0.7558\n",
            "  Time spent on the epoch: 5.19\n",
            "\n",
            "\n",
            "【EPOCH: 19/ 20】\n",
            "Trainig Phase\n",
            "  Average training loss: 0.1587\n",
            "Validation Phase\n",
            "  Average validation loss: 0.7538\n",
            "  Validation accruacy: 0.7209\n",
            "  Time spent on the epoch: 5.19\n",
            "\n",
            "\n",
            "【EPOCH: 20/ 20】\n",
            "Trainig Phase\n",
            "  Average training loss: 0.1604\n",
            "Validation Phase\n",
            "  Average validation loss: 0.7592\n",
            "  Validation accruacy: 0.7209\n",
            "  Time spent on the epoch: 5.19\n",
            "\n",
            "\n"
          ]
        }
      ]
    },
    {
      "cell_type": "markdown",
      "source": [
        "### Training performance"
      ],
      "metadata": {
        "id": "Il2T6hnWFow0"
      }
    },
    {
      "cell_type": "code",
      "source": [
        "train_loss = []\n",
        "val_loss = []\n",
        "val_acc = []\n",
        "time_spent = []\n",
        "\n",
        "for i in range(len(training_stats)):\n",
        "    train_loss.append(training_stats[i]['train_loss'])\n",
        "    val_loss.append(training_stats[i]['val_loss'])\n",
        "    val_acc.append(training_stats[i]['val_acc'])\n",
        "    time_spent.append(training_stats[i]['time_spent'])"
      ],
      "metadata": {
        "id": "9tqxoLSwFow0"
      },
      "execution_count": null,
      "outputs": []
    },
    {
      "cell_type": "code",
      "source": [
        "# Print time spent\n",
        "print('Time spent on training {} epochs: {:.0f}'.format(epochs, np.sum(time_spent)/60) + ' minutes')\n",
        "\n",
        "# Plotting\n",
        "import matplotlib.pyplot as plt\n",
        "\n",
        "plt.figure(figsize=(10,3))\n",
        "\n",
        "plt.subplot(1,2,1)\n",
        "plt.plot(train_loss)\n",
        "plt.plot(val_loss)\n",
        "plt.title('loss')\n",
        "\n",
        "plt.subplot(1,2,2)\n",
        "plt.plot(val_acc, color='red', linestyle='--')\n",
        "plt.ylim(0.25,0.8)\n",
        "plt.title('accuracy')"
      ],
      "metadata": {
        "colab": {
          "base_uri": "https://localhost:8080/",
          "height": 349
        },
        "outputId": "49cc2e28-f2b5-420e-c2d4-b1a0c786348d",
        "id": "hmZQJ0urFow0"
      },
      "execution_count": null,
      "outputs": [
        {
          "output_type": "stream",
          "name": "stdout",
          "text": [
            "Time spent on training 20 epochs: 2 minutes\n"
          ]
        },
        {
          "output_type": "execute_result",
          "data": {
            "text/plain": [
              "Text(0.5, 1.0, 'accuracy')"
            ]
          },
          "metadata": {},
          "execution_count": 54
        },
        {
          "output_type": "display_data",
          "data": {
            "text/plain": [
              "<Figure size 1000x300 with 2 Axes>"
            ],
            "image/png": "[encoded data removed]"
          },
          "metadata": {}
        }
      ]
    },
    {
      "cell_type": "code",
      "source": [
        "torch.save(model.state_dict(), model_path)"
      ],
      "metadata": {
        "id": "EpSWLdL4Fow0"
      },
      "execution_count": null,
      "outputs": []
    },
    {
      "cell_type": "markdown",
      "source": [
        "### Perform on the test data"
      ],
      "metadata": {
        "id": "NffzZ3eLFow0"
      }
    },
    {
      "cell_type": "code",
      "source": [
        "# Prepare df_test for prediction\n",
        "t_input_ids, t_attention_mask = get_encoded_dict(df_test)\n",
        "t_input_ids, t_attention_mask = get_tensors(t_input_ids, t_attention_mask)\n",
        "\n",
        "# Prepare dataset and dataloader\n",
        "test_dataset = TensorDataset(t_input_ids, t_attention_mask)\n",
        "test_dataloader = DataLoader(test_dataset,\n",
        "                             batch_size=32,\n",
        "                             sampler=SequentialSampler(test_dataset))\n",
        "\n",
        "# Show dataloader length\n",
        "print('Number of batches in the dataloader: {}'.format(len(test_dataloader)))"
      ],
      "metadata": {
        "colab": {
          "base_uri": "https://localhost:8080/"
        },
        "outputId": "02326386-7b5d-4a6f-87b3-d5c3213ed89d",
        "id": "zaU_rFf7Fow0"
      },
      "execution_count": null,
      "outputs": [
        {
          "output_type": "stream",
          "name": "stdout",
          "text": [
            "Number of batches in the dataloader: 3\n"
          ]
        }
      ]
    },
    {
      "cell_type": "code",
      "source": [
        "# Setup lists for predictions and labels\n",
        "ls_test_pred = []\n",
        "\n",
        "# Get batchs from test_dataloader\n",
        "for batch in test_dataloader:\n",
        "    b_input_ids = batch[0].to(device)\n",
        "    b_masks = batch[1].to(device)\n",
        "    \n",
        "    with torch.no_grad():\n",
        "\n",
        "        res = model(b_input_ids,\n",
        "                    attention_mask=b_masks,\n",
        "                    return_dict=True)\n",
        "\n",
        "        test_logits = res.logits\n",
        "        test_logits = np.argmax(test_logits.cpu().detach().numpy(), axis=1)\n",
        "        \n",
        "        for pred in test_logits:\n",
        "            ls_test_pred.append(pred)"
      ],
      "metadata": {
        "id": "J-rhULNwFow1"
      },
      "execution_count": null,
      "outputs": []
    },
    {
      "cell_type": "code",
      "source": [
        "# Set up list of test labels\n",
        "ls_test_labels = df_test['Label'].values\n",
        "rev_subs = { v:k for k,v in label_dict.items()}\n",
        "ls_test_pred = [rev_subs.get(item,item)  for item in ls_test_pred]\n",
        "# Get accuracy score and val_loss\n",
        "acc = accuracy_score(ls_test_pred, ls_test_labels)\n",
        "print('Prediction accuracy: {:.4f}'.format(acc))"
      ],
      "metadata": {
        "colab": {
          "base_uri": "https://localhost:8080/"
        },
        "outputId": "e159092d-1433-483a-c301-349b3cf2b0b1",
        "id": "osNR0vwMFow1"
      },
      "execution_count": null,
      "outputs": [
        {
          "output_type": "stream",
          "name": "stdout",
          "text": [
            "Prediction accuracy: 0.7558\n"
          ]
        }
      ]
    },
    {
      "cell_type": "code",
      "source": [
        "# Confusion matrix\n",
        "cm = confusion_matrix(ls_test_labels, ls_test_pred)\n",
        "labels = [\"Emotion\",\"Info Giving\",\"Info Seeking\",\"Partnership\",\"SDM\"]\n",
        "\n",
        "fig = plt.figure(figsize=(8,8))\n",
        "ax= fig.add_subplot(1,1,1)\n",
        "sns.heatmap(cm, annot=True, cmap=\"Greens\",ax = ax,fmt='g'); #annot=True to annotate cells\n",
        "\n",
        "# labels, title and ticks\n",
        "ax.set_xlabel('Predicted labels');ax.set_ylabel('True labels'); \n",
        "ax.set_title('Confusion Matrix'); \n",
        "ax.xaxis.set_ticklabels(labels); ax.yaxis.set_ticklabels(labels);\n",
        "plt.setp(ax.get_yticklabels(), rotation=30, horizontalalignment='right')\n",
        "plt.setp(ax.get_xticklabels(), rotation=30, horizontalalignment='right')     \n",
        "plt.show()\n",
        "\n",
        "print(classification_report(list(ls_test_labels),list(ls_test_pred),labels=list(labels)))"
      ],
      "metadata": {
        "colab": {
          "base_uri": "https://localhost:8080/",
          "height": 967
        },
        "outputId": "ecbcd527-bb1c-408a-95b6-77da2a5b1122",
        "id": "URD1jh88Fow1"
      },
      "execution_count": null,
      "outputs": [
        {
          "output_type": "display_data",
          "data": {
            "text/plain": [
              "<Figure size 800x800 with 2 Axes>"
            ],
            "image/png": "[encoded data removed]"
          },
          "metadata": {}
        },
        {
          "output_type": "stream",
          "name": "stdout",
          "text": [
            "              precision    recall  f1-score   support\n",
            "\n",
            "     Emotion       0.79      0.69      0.73        16\n",
            " Info Giving       0.72      0.87      0.79        30\n",
            "Info Seeking       0.50      0.36      0.42        14\n",
            " Partnership       0.82      0.82      0.82        17\n",
            "         SDM       1.00      1.00      1.00         9\n",
            "\n",
            "    accuracy                           0.76        86\n",
            "   macro avg       0.77      0.75      0.75        86\n",
            "weighted avg       0.75      0.76      0.75        86\n",
            "\n"
          ]
        }
      ]
    }
  ]
}