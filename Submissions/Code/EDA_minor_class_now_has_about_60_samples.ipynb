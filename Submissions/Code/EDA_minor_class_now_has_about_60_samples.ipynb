{
  "nbformat": 4,
  "nbformat_minor": 0,
  "metadata": {
    "colab": {
      "provenance": [],
      "authorship_tag": "ABX9TyP0jJ40v9yJErmBjwyvGmxe",
      "include_colab_link": true
    },
    "kernelspec": {
      "name": "python3",
      "display_name": "Python 3"
    },
    "language_info": {
      "name": "python"
    }
  },
  "cells": [
    {
      "cell_type": "markdown",
      "metadata": {
        "id": "view-in-github",
        "colab_type": "text"
      },
      "source": [
        "<a href=\"https://colab.research.google.com/github/TheLittleJimmy/CBB750/blob/main/EDA_minor_class_now_has_about_60_samples.ipynb\" target=\"_parent\"><img src=\"https://colab.research.google.com/assets/colab-badge.svg\" alt=\"Open In Colab\"/></a>"
      ]
    },
    {
      "cell_type": "code",
      "execution_count": 1,
      "metadata": {
        "colab": {
          "base_uri": "https://localhost:8080/"
        },
        "id": "xHSuqY3vFtZy",
        "outputId": "f2fa03d4-93d9-4fcb-e66c-9d6f9c2352f8"
      },
      "outputs": [
        {
          "output_type": "stream",
          "name": "stdout",
          "text": [
            "Mounted at /content/drive/\n"
          ]
        }
      ],
      "source": [
        "from google.colab import drive\n",
        "drive.mount('/content/drive/')"
      ]
    },
    {
      "cell_type": "code",
      "source": [
        "data_path='/content/drive/MyDrive/BIS550_CBB750/project/Code by message type.xlsx'"
      ],
      "metadata": {
        "id": "XExsOScDGIh5"
      },
      "execution_count": 2,
      "outputs": []
    },
    {
      "cell_type": "code",
      "source": [
        "import pandas as pd"
      ],
      "metadata": {
        "id": "IxC2YsOrHLVx"
      },
      "execution_count": 3,
      "outputs": []
    },
    {
      "cell_type": "code",
      "source": [
        "IG_P = pd.read_excel(data_path, sheet_name='Info Giving - Patient')\n",
        "IG_C = pd.read_excel(data_path, sheet_name='Info Giving - Clinician')\n",
        "IG_A = pd.read_excel(data_path, sheet_name='Info Giving - Auto')\n",
        "\n",
        "IS_C = pd.read_excel(data_path, sheet_name='Info Seek - Clinician')\n",
        "IS_P = pd.read_excel(data_path, sheet_name='Info Seek - Patient')\n",
        "\n",
        "Emo_P = pd.read_excel(data_path, sheet_name='Emotion - Patient')\n",
        "Emo_C = pd.read_excel(data_path, sheet_name='Emotion - Clinician')\n",
        "\n",
        "P_C = pd.read_excel(data_path, sheet_name='Partnership - Clinician')\n",
        "P_P = pd.read_excel(data_path, sheet_name='Partnership - Patient')\n",
        "\n",
        "SDM_P = pd.read_excel(data_path, sheet_name='SDM - Patient')\n",
        "SDM_C = pd.read_excel(data_path, sheet_name='SDM - Clinician',usecols=[0,1])"
      ],
      "metadata": {
        "id": "VLB5yqunHLjA"
      },
      "execution_count": 4,
      "outputs": []
    },
    {
      "cell_type": "code",
      "source": [
        "# Combine IG_P, IG_C, IG_A into one dataframe\n",
        "IG = pd.concat([IG_P, IG_C, IG_A], axis=0, ignore_index=True)\n",
        "# Combine IS_C, IS_P into one dataframe\n",
        "IS = pd.concat([IS_C, IS_P], axis=0, ignore_index=True)\n",
        "# Combine Emo_P, Emo_C into one dataframe\n",
        "Emo = pd.concat([Emo_P, Emo_C], axis=0, ignore_index=True)\n",
        "# Combine P_C, P_P into one dataframe\n",
        "P = pd.concat([P_C, P_P], axis=0, ignore_index=True)\n",
        "# Combine SDM_C, SDM_P into one dataframe\n",
        "SDM = pd.concat([SDM_C, SDM_P], axis=0, ignore_index=True) # SDM - shared decision making # really small class, need data augmentation"
      ],
      "metadata": {
        "id": "dfjtEqvnHgpZ"
      },
      "execution_count": 5,
      "outputs": []
    },
    {
      "cell_type": "code",
      "source": [
        "Emo.shape"
      ],
      "metadata": {
        "colab": {
          "base_uri": "https://localhost:8080/"
        },
        "id": "i6nCFrfQTB8n",
        "outputId": "9ca9e73c-bfcd-4d0c-9697-2462758ad25f"
      },
      "execution_count": 6,
      "outputs": [
        {
          "output_type": "execute_result",
          "data": {
            "text/plain": [
              "(32, 2)"
            ]
          },
          "metadata": {},
          "execution_count": 6
        }
      ]
    },
    {
      "cell_type": "code",
      "source": [
        "# Add labels to each dataframe\n",
        "IG['Label'] = 'Info Giving'\n",
        "IS['Label'] = 'Info Seeking'\n",
        "Emo['Label'] = 'Emotion'\n",
        "P['Label'] = 'Partnership'\n",
        "SDM['Label'] = 'SDM'\n",
        "# Combine all dataframes into one dataframe\n",
        "df = pd.concat([IG, IS, Emo, P, SDM], axis=0, ignore_index=True)\n",
        "df"
      ],
      "metadata": {
        "colab": {
          "base_uri": "https://localhost:8080/",
          "height": 423
        },
        "id": "JJxpH4drHjxH",
        "outputId": "b3d3cda8-c898-4f5a-a61a-901d6710c09f"
      },
      "execution_count": 7,
      "outputs": [
        {
          "output_type": "execute_result",
          "data": {
            "text/plain": [
              "                                     Quotation Content      Codes        Label\n",
              "0    197\n",
              "I noticed that my medication list has not ...    Patient  Info Giving\n",
              "1    Blood in urine and stool- began yesterday We a...    Patient  Info Giving\n",
              "2    Can someone set up that appointment as I do no...    Patient  Info Giving\n",
              "3    Dear Doctor Lacy I just was told my daughter w...    Patient  Info Giving\n",
              "4    Dear Dr Chiang When I saw you last Thursday( M...    Patient  Info Giving\n",
              "..                                                 ...        ...          ...\n",
              "270  Hi That sounds reasonable I would do the colon...  Clinician          SDM\n",
              "271  Hi Mr It is most likely a radiation side effec...  Clinician          SDM\n",
              "272  Sounds good- I just put in prescription for- n...  Clinician          SDM\n",
              "273  Dr I have not scheduled the colonoscopy as yet...    Patient          SDM\n",
              "274  GH and Comprehensive Metabolic panel blood tes...    Patient          SDM\n",
              "\n",
              "[275 rows x 3 columns]"
            ],
            "text/html": [
              "\n",
              "  <div id=\"df-040b58ba-c216-4aed-a75f-5dff95019492\">\n",
              "    <div class=\"colab-df-container\">\n",
              "      <div>\n",
              "<style scoped>\n",
              "    .dataframe tbody tr th:only-of-type {\n",
              "        vertical-align: middle;\n",
              "    }\n",
              "\n",
              "    .dataframe tbody tr th {\n",
              "        vertical-align: top;\n",
              "    }\n",
              "\n",
              "    .dataframe thead th {\n",
              "        text-align: right;\n",
              "    }\n",
              "</style>\n",
              "<table border=\"1\" class=\"dataframe\">\n",
              "  <thead>\n",
              "    <tr style=\"text-align: right;\">\n",
              "      <th></th>\n",
              "      <th>Quotation Content</th>\n",
              "      <th>Codes</th>\n",
              "      <th>Label</th>\n",
              "    </tr>\n",
              "  </thead>\n",
              "  <tbody>\n",
              "    <tr>\n",
              "      <th>0</th>\n",
              "      <td>197 I noticed that my medication list has not ...</td>\n",
              "      <td>Patient</td>\n",
              "      <td>Info Giving</td>\n",
              "    </tr>\n",
              "    <tr>\n",
              "      <th>1</th>\n",
              "      <td>Blood in urine and stool- began yesterday We a...</td>\n",
              "      <td>Patient</td>\n",
              "      <td>Info Giving</td>\n",
              "    </tr>\n",
              "    <tr>\n",
              "      <th>2</th>\n",
              "      <td>Can someone set up that appointment as I do no...</td>\n",
              "      <td>Patient</td>\n",
              "      <td>Info Giving</td>\n",
              "    </tr>\n",
              "    <tr>\n",
              "      <th>3</th>\n",
              "      <td>Dear Doctor Lacy I just was told my daughter w...</td>\n",
              "      <td>Patient</td>\n",
              "      <td>Info Giving</td>\n",
              "    </tr>\n",
              "    <tr>\n",
              "      <th>4</th>\n",
              "      <td>Dear Dr Chiang When I saw you last Thursday( M...</td>\n",
              "      <td>Patient</td>\n",
              "      <td>Info Giving</td>\n",
              "    </tr>\n",
              "    <tr>\n",
              "      <th>...</th>\n",
              "      <td>...</td>\n",
              "      <td>...</td>\n",
              "      <td>...</td>\n",
              "    </tr>\n",
              "    <tr>\n",
              "      <th>270</th>\n",
              "      <td>Hi That sounds reasonable I would do the colon...</td>\n",
              "      <td>Clinician</td>\n",
              "      <td>SDM</td>\n",
              "    </tr>\n",
              "    <tr>\n",
              "      <th>271</th>\n",
              "      <td>Hi Mr It is most likely a radiation side effec...</td>\n",
              "      <td>Clinician</td>\n",
              "      <td>SDM</td>\n",
              "    </tr>\n",
              "    <tr>\n",
              "      <th>272</th>\n",
              "      <td>Sounds good- I just put in prescription for- n...</td>\n",
              "      <td>Clinician</td>\n",
              "      <td>SDM</td>\n",
              "    </tr>\n",
              "    <tr>\n",
              "      <th>273</th>\n",
              "      <td>Dr I have not scheduled the colonoscopy as yet...</td>\n",
              "      <td>Patient</td>\n",
              "      <td>SDM</td>\n",
              "    </tr>\n",
              "    <tr>\n",
              "      <th>274</th>\n",
              "      <td>GH and Comprehensive Metabolic panel blood tes...</td>\n",
              "      <td>Patient</td>\n",
              "      <td>SDM</td>\n",
              "    </tr>\n",
              "  </tbody>\n",
              "</table>\n",
              "<p>275 rows × 3 columns</p>\n",
              "</div>\n",
              "      <button class=\"colab-df-convert\" onclick=\"convertToInteractive('df-040b58ba-c216-4aed-a75f-5dff95019492')\"\n",
              "              title=\"Convert this dataframe to an interactive table.\"\n",
              "              style=\"display:none;\">\n",
              "        \n",
              "  <svg xmlns=\"http://www.w3.org/2000/svg\" height=\"24px\"viewBox=\"0 0 24 24\"\n",
              "       width=\"24px\">\n",
              "    <path d=\"M0 0h24v24H0V0z\" fill=\"none\"/>\n",
              "    <path d=\"M18.56 5.44l.94 2.06.94-2.06 2.06-.94-2.06-.94-.94-2.06-.94 2.06-2.06.94zm-11 1L8.5 8.5l.94-2.06 2.06-.94-2.06-.94L8.5 2.5l-.94 2.06-2.06.94zm10 10l.94 2.06.94-2.06 2.06-.94-2.06-.94-.94-2.06-.94 2.06-2.06.94z\"/><path d=\"M17.41 7.96l-1.37-1.37c-.4-.4-.92-.59-1.43-.59-.52 0-1.04.2-1.43.59L10.3 9.45l-7.72 7.72c-.78.78-.78 2.05 0 2.83L4 21.41c.39.39.9.59 1.41.59.51 0 1.02-.2 1.41-.59l7.78-7.78 2.81-2.81c.8-.78.8-2.07 0-2.86zM5.41 20L4 18.59l7.72-7.72 1.47 1.35L5.41 20z\"/>\n",
              "  </svg>\n",
              "      </button>\n",
              "      \n",
              "  <style>\n",
              "    .colab-df-container {\n",
              "      display:flex;\n",
              "      flex-wrap:wrap;\n",
              "      gap: 12px;\n",
              "    }\n",
              "\n",
              "    .colab-df-convert {\n",
              "      background-color: #E8F0FE;\n",
              "      border: none;\n",
              "      border-radius: 50%;\n",
              "      cursor: pointer;\n",
              "      display: none;\n",
              "      fill: #1967D2;\n",
              "      height: 32px;\n",
              "      padding: 0 0 0 0;\n",
              "      width: 32px;\n",
              "    }\n",
              "\n",
              "    .colab-df-convert:hover {\n",
              "      background-color: #E2EBFA;\n",
              "      box-shadow: 0px 1px 2px rgba(60, 64, 67, 0.3), 0px 1px 3px 1px rgba(60, 64, 67, 0.15);\n",
              "      fill: #174EA6;\n",
              "    }\n",
              "\n",
              "    [theme=dark] .colab-df-convert {\n",
              "      background-color: #3B4455;\n",
              "      fill: #D2E3FC;\n",
              "    }\n",
              "\n",
              "    [theme=dark] .colab-df-convert:hover {\n",
              "      background-color: #434B5C;\n",
              "      box-shadow: 0px 1px 3px 1px rgba(0, 0, 0, 0.15);\n",
              "      filter: drop-shadow(0px 1px 2px rgba(0, 0, 0, 0.3));\n",
              "      fill: #FFFFFF;\n",
              "    }\n",
              "  </style>\n",
              "\n",
              "      <script>\n",
              "        const buttonEl =\n",
              "          document.querySelector('#df-040b58ba-c216-4aed-a75f-5dff95019492 button.colab-df-convert');\n",
              "        buttonEl.style.display =\n",
              "          google.colab.kernel.accessAllowed ? 'block' : 'none';\n",
              "\n",
              "        async function convertToInteractive(key) {\n",
              "          const element = document.querySelector('#df-040b58ba-c216-4aed-a75f-5dff95019492');\n",
              "          const dataTable =\n",
              "            await google.colab.kernel.invokeFunction('convertToInteractive',\n",
              "                                                     [key], {});\n",
              "          if (!dataTable) return;\n",
              "\n",
              "          const docLinkHtml = 'Like what you see? Visit the ' +\n",
              "            '<a target=\"_blank\" href=https://colab.research.google.com/notebooks/data_table.ipynb>data table notebook</a>'\n",
              "            + ' to learn more about interactive tables.';\n",
              "          element.innerHTML = '';\n",
              "          dataTable['output_type'] = 'display_data';\n",
              "          await google.colab.output.renderOutput(dataTable, element);\n",
              "          const docLink = document.createElement('div');\n",
              "          docLink.innerHTML = docLinkHtml;\n",
              "          element.appendChild(docLink);\n",
              "        }\n",
              "      </script>\n",
              "    </div>\n",
              "  </div>\n",
              "  "
            ]
          },
          "metadata": {},
          "execution_count": 7
        }
      ]
    },
    {
      "cell_type": "code",
      "source": [
        "import nltk\n",
        "nltk.download('wordnet')"
      ],
      "metadata": {
        "colab": {
          "base_uri": "https://localhost:8080/"
        },
        "id": "Qfha7q9-HnGU",
        "outputId": "173167c4-a0de-4d9b-a305-cb424b1893a9"
      },
      "execution_count": 8,
      "outputs": [
        {
          "output_type": "stream",
          "name": "stderr",
          "text": [
            "[nltk_data] Downloading package wordnet to /root/nltk_data...\n"
          ]
        },
        {
          "output_type": "execute_result",
          "data": {
            "text/plain": [
              "True"
            ]
          },
          "metadata": {},
          "execution_count": 8
        }
      ]
    },
    {
      "cell_type": "markdown",
      "source": [
        "## Easy Data Augmentation (EDA)\n",
        "Four operations:  \n",
        "Synonym Replacement (SR): Randomly choose n words from the sentence that are not stop words. Replace each of these words with one of its synonyms chosen at random.  \n",
        "Random Insertion (RI): Find a random synonym of a random word in the sentence that is not a stop word. Insert that synonym into a random position in the sentence. Do this n times.  \n",
        "Random Swap (RS): Randomly choose two words in the sentence and swap their positions. Do this n times.  \n",
        "Random Deletion (RD): Randomly remove each word in the sentence with probability p. \n",
        "\n",
        "For more details see github repo: https://github.com/jasonwei20/eda_nlp\n",
        "\n",
        "default parameters:\n",
        "num_aug (the number of augmented sentences to generate given a sentense) = 9  \n",
        "alpha parameters (percent of words in the sentence that will be changed) = 0.1  \n",
        "alpha parameters include alpha_sr, alpha_rd, alpha_ri, alpha_rs"
      ],
      "metadata": {
        "id": "nSixSjwpXE7X"
      }
    },
    {
      "cell_type": "code",
      "source": [
        "# put messages labeled SDM to a file in the format label\\tsentence\n",
        "f=open(\"sdm.txt\",\"w\")\n",
        "for msg in SDM[\"Quotation Content\"]:\n",
        "  f.write(f\"0\\t{msg.strip()}\\n\")\n",
        "f.close()"
      ],
      "metadata": {
        "id": "vb3VbBcnFhgl"
      },
      "execution_count": 9,
      "outputs": []
    },
    {
      "cell_type": "code",
      "source": [
        "# perform eda using default alpha parameters and num_aug=11, augment.py is downloaded from Wei & Zou's Github\n",
        "%%python /content/drive/MyDrive/BIS550_CBB750/project/augment.py --input=sdm.txt --num_aug=11"
      ],
      "metadata": {
        "colab": {
          "base_uri": "https://localhost:8080/"
        },
        "id": "PmP8ptqQJLix",
        "outputId": "a817f5d2-5093-4131-9230-eb9e427cb87c"
      },
      "execution_count": 10,
      "outputs": [
        {
          "output_type": "stream",
          "name": "stdout",
          "text": [
            "generated augmented sentences with eda for sdm.txt to eda_sdm.txt with num_aug=11\n"
          ]
        },
        {
          "output_type": "stream",
          "name": "stderr",
          "text": [
            "/content/drive/MyDrive/BIS550_CBB750/project/eda.py:177: SyntaxWarning: \"is not\" with a literal. Did you mean \"!=\"?\n",
            "  words = [word for word in words if word is not '']\n"
          ]
        }
      ]
    },
    {
      "cell_type": "code",
      "source": [
        "# take a look at the output and save augmented sentences to a list\n",
        "eda_sdm=[]\n",
        "f=open(\"eda_sdm.txt\",\"r\")\n",
        "for eda_msg in f:\n",
        "  print(eda_msg.strip())\n",
        "  eda_sdm.append(eda_msg.strip().split(\"\\t\")[1])\n",
        "f.close()"
      ],
      "metadata": {
        "id": "cz0B_E3oM3zx",
        "colab": {
          "base_uri": "https://localhost:8080/"
        },
        "outputId": "e6db1d90-3b45-46b1-8b4e-f9dba03c481d"
      },
      "execution_count": 11,
      "outputs": [
        {
          "output_type": "stream",
          "name": "stdout",
          "text": [
            "0\thi that sounds reasonable i would do the colonoscopy more electively when no contract issues are noted best vik\n",
            "0\thi that sounds reasonable i would do unspoilt the colonoscopy more electively when no pressing issues are noted best vik\n",
            "0\thi that sounds reasonable i would do the colonoscopy more electively when no pressing issues cut are noted best vik\n",
            "0\thi that sounds reasonable i would do the colonoscopy more electively when no pressing issues are noted best vik\n",
            "0\thi that sounds reasonable i would do when colonoscopy more electively the no pressing issues are noted best vik\n",
            "0\thow do you do that sounds reasonable i would do the colonoscopy more electively when no pressing issues are noted best vik\n",
            "0\thi that sounds reasonable i would do issues colonoscopy more electively when no pressing the are noted best vik\n",
            "0\thi that sounds reasonable i would do the colonoscopy more electively when no pressing issues are hello noted best vik\n",
            "0\thi that sounds reasonable i would do the colonoscopy more when no pressing issues are noted best vik\n",
            "0\thi that sounds reasonable i would do the colonoscopy more electively when no pressure issues are noted best vik\n",
            "0\tmore that sounds reasonable i would do the colonoscopy hi electively when no pressing issues are noted best vik\n",
            "0\thi that sounds reasonable i would do the colonoscopy more electively when no pressing issues are noted best vik\n",
            "0\thi mr it is most likely a radiotherapy slope effect perhaps worsened by chemo if its only hurting when you swallow i will prescribe you magic mouthwash that i want you to posh and swallow it can number up the gorge before you eat if its heartburn all the time we can try over the return medication first like pepto bismol\n",
            "0\thi mr it is most likely over radiation side effect perhaps worsened by that if its only eat when you swallow i it prescribe pepto magic mouthwash chemo i want you to swish and swallow will can number up the esophagus before you pain if its heartburn all the time we can try a the counter like first medication you bismol\n",
            "0\thi mr it is most likely a radiation side effect like worsened by swallow if its prescribe the when you swallow up will only you magic mouthwash that i want you to over and chemo it can number i the esophagus before you eat if its heartburn all pain time we can try swish the counter medication first perhaps pepto bismol\n",
            "0\thi mr it is most likely a radiotherapy side consequence possibly worsened by chemo if its only pain when you get down i will prescribe you magic mouthwash that i want you to swish and get down it can number up the esophagus before you eat up if its heartburn all the clock time we can try over the counter medication first like pepto bismol\n",
            "0\thi mr it is most likely a radiation side effect worsened by chemo if its only pain when you i will prescribe you magic mouthwash i want you to swish and swallow it number up the esophagus before you eat if its heartburn all the time we can try over the counter medication first like pepto bismol\n",
            "0\thi mr heartburn is its side a radiation likely effect perhaps worsened by chemo if most only pain when you swallow i will prescribe you magic mouthwash that i want you swallow swish and time it can number up the esophagus before you over if its it all the to we can try eat the counter medication first like pepto bismol\n",
            "0\thi mister it is most likely a radiation side outcome perhaps worsened by chemo if its only nuisance when you swallow i will prescribe you magic mouthwash that i want you to swish and swallow it can number up the gullet before you eat if its heartburn all the prison term we can try over the counter medication first the like pepto bismol\n",
            "0\thi mr it is most likely a radiation side effect perhaps worsened by chemo if its only pain comeback when information technology you mister swallow i will prescribe you magic mouthwash that i want you to swish and swallow it can number volition up pain in the neck the esophagus before you eat if its heartburn all the time we can try over upwards the counter medication first like pepto bismol\n",
            "0\thi mr it is most likely a radiation side effect perhaps worsened by chemo if its only pain you swallow i will prescribe you magic mouthwash that want you swish and swallow it can number up the esophagus before you eat if its heartburn all the time we can try the counter medication first like pepto\n",
            "0\thi mr it is most likely a radiation side effect perhaps worsened by chemo if only when you swallow i prescribe you magic mouthwash that i want you swish and swallow it can number esophagus before you eat if its heartburn all the time we can try over the counter medication first like pepto bismol\n",
            "0\thi mr it is most likely volition a radiation side effect perhaps worsened by chemo if its only pain when you swallow i will ended prescribe you magic mouthwash that i want you to swish and swallow away it can number up the esophagus before you eat if its away heartburn all the time we can try over the ahead counter medication first like out pepto bismol\n",
            "0\thi mr it is most likely a radiation side effect perhaps worsened by chemo if its only pain when you swallow i will prescribe you magic mouthwash that i want you to swish and swallow it can number up the esophagus before you eat if its heartburn all the time we can try over the counter medication first like pepto bismol\n",
            "0\tsounds good i just it in numbingsoothing for prescription medication as well do nt need to pick put up if you feel better with pepto\n",
            "0\tsounds good i just put in prescription for numbingsoothing medication as well do need to pick it if you feel better with pepto\n",
            "0\tsounds good i just put in prescription for numbingsoothing medication as well do nt need to pick it up if you feel better with pepto\n",
            "0\tsounds good i just arrange in prescription for numbingsoothing medication as well do nt need to pick it up if you feel effective with pepto\n",
            "0\tinformation technology sounds good i just put in prescription for numbingsoothing medication as well do nt need to pick it up if you feel better act with pepto\n",
            "0\tsounds good i just put in prescription for pepto up as well do nt need to pick it medication if you feel better with numbingsoothing\n",
            "0\tsounds good i just put medication numbingsoothing for prescription in as well do nt need to pick it up if you feel better with pepto\n",
            "0\tsounds good i just put in prescription for numbingsoothing medication as well do nt need to prescription medicine pick ask it up if you feel better with pepto\n",
            "0\tspeech sound sounds good i just put in upwards prescription for numbingsoothing medication as well do nt need to pick it up if you feel better with pepto\n",
            "0\tspeech sound good i just put in prescription for numbingsoothing medication as well do nt need to pick it up if you spirit better with pepto\n",
            "0\tsounds good i just put in prescription for numbingsoothing medication as well do need pick it up if feel better with pepto\n",
            "0\tsounds good i just put in prescription for numbingsoothing medication as well do nt need to pick it up if you feel better with pepto\n",
            "0\tdr i have not scheduled the colonoscopy as yet because in light of some additional spots that have been seen from my recent ctscan and petscan im using time off these issues can we possibly worry colonoscopy once these other issues are resolved im meeting with dr this afternoon to discuss my next steps in treatments of the new spots that were found in my lungs you\n",
            "0\tdr meet i have assure not scheduled the colonoscopy as yet because in light of some additional resoluteness spots that have been seen from my recent ctscan and petscan im using time off to resolve these issues can we converge possibly worry about the colonoscopy once these other potential issues inch are resolved im meeting with dr this afternoon to discuss my next steps in treatments of the new spots that stimulate were found in my lungs thank you\n",
            "0\tdr i have not scheduled the colonoscopy were to can in light of some additional spots that have been seen from my these ctscan and this im using time off to resolve recent issues because we possibly worry about the colonoscopy once these other potential lungs are resolved im meeting with dr in afternoon yet discuss my next steps in treatments of the new spots that as found petscan my issues thank you\n",
            "0\tdr i have not scheduled as yet because in of some additional spots that have seen my and petscan im using time off to resolve these issues can we possibly worry about the colonoscopy once these other potential issues are resolved im meeting with dr this afternoon discuss my steps in treatments of the new spots that were found in my lungs you\n",
            "0\tdr i have not scheduled inch the colonoscopy as yet because in light of some additional spots that have been seen from my recent ctscan and petscan im extra converge using time off to resolve these issues can we succeeding possibly worry about the colonoscopy once these other potential issues are resolved im meeting with dr this afternoon to discuss my next steps maybe in treatments in one case of the new spots that were found in my lungs thank you\n",
            "0\tdr i have not scheduled the colonoscopy as yet because in light of some additional spots that have been seen from embody my point recent ctscan and petscan im using employ time off to resolve these issues can early we possibly worry about the colonoscopy once these other potential issues are resolved im employ meeting with dr this afternoon to discuss set up my next steps sentence in treatments of the new spots that were found in my lungs thank you\n",
            "0\tdr i have not the colonoscopy as yet because in light of some additional spots that have been seen from my recent ctscan and petscan im using time off to resolve these issues can we possibly worry about the colonoscopy once these other potential issues are resolved im with dr this afternoon to discuss my next steps in treatments of the new spots that were in my lungs you\n",
            "0\tdr i have not schedule the colonoscopy as yet because in wanton of some additional spots that have been interpret from my recent ctscan and petscan im utilize time off to resolve these issues can we peradventure worry about the colonoscopy once these other potential issues are decide im meeting with dr this afternoon to discuss my next steps in treatment of the new spots that were found in my lungs thank you\n",
            "0\tdr i have not scheduled the colonoscopy as yet because in light of some extra daub that have been seen from my recent ctscan and petscan im using clock time off to resolve these issues can we possibly care about the colonoscopy once these other potential issues are answer im meeting with dr this afternoon to discuss my next whole step in treatments of the freshly daub that were found in my lungs thank you\n",
            "0\tdr i have and in that colonoscopy found yet because in discuss of some additional we new have been seen from my recent ctscan not petscan im using time off to resolve these issues can spots possibly worry about the colonoscopy once these other potential issues are resolved im meeting with dr this afternoon to light my next steps in treatments of the the spots that were as scheduled my lungs thank you\n",
            "0\tdr i have not schedule the colonoscopy as yet because in light of some additional spots that have been run across from my recent ctscan and petscan im using meter off to resolve these issues can we possibly concern about the colonoscopy once these other potential issues are decide im meeting with dr this afternoon to discuss my next steps in treatments of the unexampled spots that were notice in my lungs thank you\n",
            "0\tdr i have not scheduled the colonoscopy as yet because in light of some additional spots that have been seen from my recent ctscan and petscan im using time off to resolve these issues can we possibly worry about the colonoscopy once these other potential issues are resolved im meeting with dr this afternoon to discuss my next steps in treatments of the new spots that were found in my lungs thank you\n",
            "0\tdr and comprehensive metabolic damage dr range results are all in normal tests with dr exception of the ast liver function being slightly higher than normal range cea test results not yet reported am aug soon appt pm questions for dr remove port can this be scheduled aug you will be a scheduling colonoscopy function dr are there any we evaluation that should be scheduled now follow up scans at may tele med appt with the paty other discussed surgery related nerve panel affecting erection sexual with would dr references provide for appropriate doctors urologist neurologist both for further tests go back to gh discuss with blood the importance medicine and science re getting a flu shot\n",
            "0\tgh upwards and comprehensive metabolic panel blood tests results are all in normal range with the hug drug exception of the ast liver function being slightly higher than normal range cea test results not yet reported am aug aug appt august pm questions for dr remove port can this be scheduled soon you will be scheduling a colonoscopy with formula dr are there any other tests that should be scheduled now follow up scans at may tele angstrom med appt with dr paty we discussed surgery adam related nerve damage affecting erection sexual hard on function would dr provide embody references for comp appropriate doctors urologist neurologist both for further evaluation grow go back to dr discuss with dr the importance medicine and science re skim getting a flu shot\n",
            "0\tgh and comprehensive metabolic panel blood tests results before long are all in normal range with the exception of the ast liver function being slightly higher than normal range cea test results not yet reported am aug aug appt pm questions for dr remove port can this be scheduled soon you will be scheduling a colonoscopy with dr are there any other be tests that should be scheduled now follow embody operating room august up cover steel scans at may tele metabolous med appt with dr paty we discussed surgery related nerve damage affecting erection sexual brain doctor function programming would dr provide references for appropriate doctors urologist neurologist both for further evaluation go revered back to dr discuss with dr the importance medicine and science re getting a flu shot\n",
            "0\tgh and comprehensive metabolic panel evaluation tests further are all in normal range with function exception of the ast liver the being slightly higher than normal range cea test results not yet erection am aug aug appt pm questions for references remove port can doctors science scheduled soon colonoscopy will be scheduling a you re discussed are there any other tests that should be scheduled now follow up scans at may tele med appt with dr paty we dr surgery a nerve damage affecting reported sexual function would dr provide dr for appropriate this urologist neurologist both for results blood go back to dr discuss with dr the importance medicine and be with getting related flu shot\n",
            "0\tgh and comprehensive metabolic panel blood tests results are liver colored all in normal range with before long the exception of the liver colored ast liver function being slightly higher than normal range cea test results not yet reported am aug aug appt pm questions for dr remove port can this transfer brain doctor be scheduled soon you will be scheduling valuation a colonoscopy with dr are there any other cast tests that should be scheduled now follow up scans at may tele med angstrom appt with dr paty we discussed surgery related nerve damage affecting erection sexual function on that point would dr provide references for appropriate doctors urologist neurologist both for further evaluation go back to dr farther discuss with dr the importance hard on medicine and science re getting a flu shot\n",
            "0\tgh and comp metabolic panel blood mental testing results are all in formula rank with the exception of the ast liver colored function being slightly higher than formula rank cea test results not yet reported am aug aug appt premier questions for dr remove port can this be scheduled soon you will be programming a colonoscopy with dr are there any other mental testing that should be scheduled now be up scans at may tele med appt with dr paty we talk over surgery related nerve damage affecting erection sexual function would dr provide references for appropriate doctors urologist neurologist both for further evaluation go vertebral column to dr discuss with dr the importance medical specialty and science re getting a flu shot\n",
            "0\tgh and comp metabolic panel blood tests results are all in pattern range with the exception of the ast liver colored function being slenderly higher than pattern range cea test results not yet reported am aug aug appt pm questions for dr remove port can this be scheduled soon you will be scheduling a colonoscopy with dr are there any other tests that should be scheduled now follow up scans at may tele med appt with dr paty we talk over operation related nerve hurt affecting erection sexual function would dr provide source for seize doctors urologist neurologist both for further evaluation go back to dr discuss with dr the importance medication and science re getting a flu stab\n",
            "0\tgh and comprehensive metabolic panel blood tests results are all in normal range with the exception of the ast liver function being slightly higher than normal range cea test results not yet reported am aug aug appt pm for dr remove port can this be scheduled soon you will be scheduling a colonoscopy with dr are there any other tests that should be scheduled follow up scans at tele med with dr paty we discussed related nerve damage function dr provide for appropriate doctors urologist neurologist both for further evaluation go back to dr discuss with dr the importance medicine and science re a flu shot\n",
            "0\tgh and comprehensive metabolic panel blood tests results are all in normal range tele the exception of up ast liver function being slightly higher than normal range cea test results surgery dr reported am go aug appt pm questions for dr remove port can this affecting scheduled soon you will be scheduling a colonoscopy with dr are there any other to that should be scheduled for follow the scans at be with shot appt with dr paty we discussed not related nerve damage may erection sexual function would dr discuss references for appropriate doctors urologist neurologist both now further evaluation aug back tests yet provide with dr the importance medicine and science re getting a flu med\n",
            "0\tgh and comprehensive metabolic panel tests results all in normal range with the exception the ast function being slightly higher than normal cea test results not yet am aug appt pm questions for remove can be scheduled soon you will be scheduling a colonoscopy with dr are there any other tests that should be scheduled now follow up scans at tele med appt with dr paty we discussed related damage affecting erection sexual function would dr provide references appropriate doctors neurologist both for further evaluation go back to dr discuss with dr the importance medicine and science re getting a flu shot\n",
            "0\tgh and comprehensive metabolous panel blood tests results are all in normal range with the exception of the ast liver function being somewhat higher than normal range cea test results not yet reported am aug aug appt pm questions for dr off port can this be scheduled presently you will be scheduling a colonoscopy with dr are there any other tests that should be scheduled now postdate up scan at may tele med appt with dr paty we talk about operating theatre related nerve damage affecting erection sexual function would dr provide quotation for reserve doctors urologist neurologist both for further evaluation go back to dr discuss with dr the importance music and science re getting a flu shot\n",
            "0\tgh and comprehensive metabolic panel blood tests results are all in normal range with the exception of the ast liver function being slightly higher than normal range cea test results not yet reported am aug aug appt pm questions for dr remove port can this be scheduled soon you will be scheduling a colonoscopy with dr are there any other tests that should be scheduled now follow up scans at may tele med appt with dr paty we discussed surgery related nerve damage affecting erection sexual function would dr provide references for appropriate doctors urologist neurologist both for further evaluation go back to dr discuss with dr the importance medicine and science re getting a flu shot\n"
          ]
        }
      ]
    },
    {
      "cell_type": "code",
      "source": [
        "EDA_SDM=pd.DataFrame(data=zip(*[eda_sdm,[\"SDM\" for i in range(len(eda_sdm))]]),columns=[\"Quotation Content\",\"Label\"])"
      ],
      "metadata": {
        "id": "lTYe3WAhFYO1"
      },
      "execution_count": 12,
      "outputs": []
    },
    {
      "cell_type": "code",
      "source": [
        "Emo.shape"
      ],
      "metadata": {
        "id": "fFx0pUCQkfIE",
        "colab": {
          "base_uri": "https://localhost:8080/"
        },
        "outputId": "ca3e6173-eae2-47bc-ba35-267afe77773b"
      },
      "execution_count": 13,
      "outputs": [
        {
          "output_type": "execute_result",
          "data": {
            "text/plain": [
              "(32, 3)"
            ]
          },
          "metadata": {},
          "execution_count": 13
        }
      ]
    },
    {
      "cell_type": "code",
      "source": [
        "# augment Partnership and Emotion as well\n",
        "\n",
        "f=open(\"partner.txt\",\"w\")\n",
        "for msg in P[\"Quotation Content\"]:\n",
        "  f.write(f\"0\\t{msg.strip()}\\n\")\n",
        "f.close()\n",
        "\n",
        "f=open(\"emotion.txt\",\"w\")\n",
        "for msg in Emo[\"Quotation Content\"]:\n",
        "  f.write(f\"0\\t{msg.strip()}\\n\")\n",
        "f.close()"
      ],
      "metadata": {
        "id": "OKXbgllKVCzm"
      },
      "execution_count": 14,
      "outputs": []
    },
    {
      "cell_type": "code",
      "source": [
        "%%python /content/drive/MyDrive/BIS550_CBB750/project/augment.py --input=partner.txt --num_aug=2"
      ],
      "metadata": {
        "id": "EpNQTfBBkPWW",
        "colab": {
          "base_uri": "https://localhost:8080/"
        },
        "outputId": "38129afa-4b37-49ea-f10a-c14c9b6787c1"
      },
      "execution_count": 16,
      "outputs": [
        {
          "output_type": "stream",
          "name": "stdout",
          "text": [
            "generated augmented sentences with eda for partner.txt to eda_partner.txt with num_aug=2\n"
          ]
        }
      ]
    },
    {
      "cell_type": "code",
      "source": [
        "%%python /content/drive/MyDrive/BIS550_CBB750/project/augment.py --input=emotion.txt --num_aug=1"
      ],
      "metadata": {
        "id": "2mbqzf3qlFno",
        "colab": {
          "base_uri": "https://localhost:8080/"
        },
        "outputId": "de434df9-fa6f-4deb-cb32-7799736e718b"
      },
      "execution_count": 17,
      "outputs": [
        {
          "output_type": "stream",
          "name": "stdout",
          "text": [
            "generated augmented sentences with eda for emotion.txt to eda_emotion.txt with num_aug=1\n"
          ]
        }
      ]
    },
    {
      "cell_type": "code",
      "source": [
        "eda_p=[]\n",
        "f=open(\"eda_partner.txt\",\"r\")\n",
        "for eda_msg in f:\n",
        "  #print(eda_msg.strip())\n",
        "  eda_p.append(eda_msg.strip().split(\"\\t\")[1])\n",
        "f.close()\n",
        "\n",
        "eda_e=[]\n",
        "f=open(\"eda_emotion.txt\",\"r\")\n",
        "for eda_msg in f:\n",
        "  #print(eda_msg.strip())\n",
        "  eda_e.append(eda_msg.strip().split(\"\\t\")[1])\n",
        "f.close()"
      ],
      "metadata": {
        "id": "pFzGKPJDkSZm"
      },
      "execution_count": 18,
      "outputs": []
    },
    {
      "cell_type": "code",
      "source": [
        "EDA_P=pd.DataFrame(data=zip(*[eda_p,[\"Partnership\" for i in range(len(eda_p))]]),columns=[\"Quotation Content\",\"Label\"])\n",
        "EDA_Emo=pd.DataFrame(data=zip(*[eda_e,[\"Emotion\" for i in range(len(eda_e))]]),columns=[\"Quotation Content\",\"Label\"])"
      ],
      "metadata": {
        "id": "FlKvkDv6lKhg"
      },
      "execution_count": 19,
      "outputs": []
    },
    {
      "cell_type": "code",
      "source": [
        "EDA_SDM.shape[0],EDA_P.shape[0],EDA_Emo.shape[0]"
      ],
      "metadata": {
        "id": "GPA4tqkqlbBD",
        "colab": {
          "base_uri": "https://localhost:8080/"
        },
        "outputId": "5b5dfa2b-64b1-47b3-ad63-29ee69d6a16a"
      },
      "execution_count": 20,
      "outputs": [
        {
          "output_type": "execute_result",
          "data": {
            "text/plain": [
              "(60, 54, 64)"
            ]
          },
          "metadata": {},
          "execution_count": 20
        }
      ]
    },
    {
      "cell_type": "code",
      "source": [
        "augmented_df = pd.concat([IG.drop(columns=[\"Codes\"]), IS.drop(columns=[\"Codes\"]), EDA_Emo, EDA_P, EDA_SDM], axis=0, ignore_index=True)"
      ],
      "metadata": {
        "id": "W8aS5VBZl0OD"
      },
      "execution_count": 21,
      "outputs": []
    },
    {
      "cell_type": "code",
      "source": [
        "augmented_df"
      ],
      "metadata": {
        "id": "U18dgljRmnhG",
        "colab": {
          "base_uri": "https://localhost:8080/",
          "height": 423
        },
        "outputId": "d06f77d5-f38f-416d-f808-7d4f87edf748"
      },
      "execution_count": 22,
      "outputs": [
        {
          "output_type": "execute_result",
          "data": {
            "text/plain": [
              "                                     Quotation Content        Label\n",
              "0    197\n",
              "I noticed that my medication list has not ...  Info Giving\n",
              "1    Blood in urine and stool- began yesterday We a...  Info Giving\n",
              "2    Can someone set up that appointment as I do no...  Info Giving\n",
              "3    Dear Doctor Lacy I just was told my daughter w...  Info Giving\n",
              "4    Dear Dr Chiang When I saw you last Thursday( M...  Info Giving\n",
              "..                                                 ...          ...\n",
              "393  gh and comprehensive metabolic panel blood tes...          SDM\n",
              "394  gh and comprehensive metabolic panel blood tes...          SDM\n",
              "395  gh and comprehensive metabolic panel tests res...          SDM\n",
              "396  gh and comprehensive metabolous panel blood te...          SDM\n",
              "397  gh and comprehensive metabolic panel blood tes...          SDM\n",
              "\n",
              "[398 rows x 2 columns]"
            ],
            "text/html": [
              "\n",
              "  <div id=\"df-b76c06ac-a8ab-41d9-83f7-4da173320069\">\n",
              "    <div class=\"colab-df-container\">\n",
              "      <div>\n",
              "<style scoped>\n",
              "    .dataframe tbody tr th:only-of-type {\n",
              "        vertical-align: middle;\n",
              "    }\n",
              "\n",
              "    .dataframe tbody tr th {\n",
              "        vertical-align: top;\n",
              "    }\n",
              "\n",
              "    .dataframe thead th {\n",
              "        text-align: right;\n",
              "    }\n",
              "</style>\n",
              "<table border=\"1\" class=\"dataframe\">\n",
              "  <thead>\n",
              "    <tr style=\"text-align: right;\">\n",
              "      <th></th>\n",
              "      <th>Quotation Content</th>\n",
              "      <th>Label</th>\n",
              "    </tr>\n",
              "  </thead>\n",
              "  <tbody>\n",
              "    <tr>\n",
              "      <th>0</th>\n",
              "      <td>197 I noticed that my medication list has not ...</td>\n",
              "      <td>Info Giving</td>\n",
              "    </tr>\n",
              "    <tr>\n",
              "      <th>1</th>\n",
              "      <td>Blood in urine and stool- began yesterday We a...</td>\n",
              "      <td>Info Giving</td>\n",
              "    </tr>\n",
              "    <tr>\n",
              "      <th>2</th>\n",
              "      <td>Can someone set up that appointment as I do no...</td>\n",
              "      <td>Info Giving</td>\n",
              "    </tr>\n",
              "    <tr>\n",
              "      <th>3</th>\n",
              "      <td>Dear Doctor Lacy I just was told my daughter w...</td>\n",
              "      <td>Info Giving</td>\n",
              "    </tr>\n",
              "    <tr>\n",
              "      <th>4</th>\n",
              "      <td>Dear Dr Chiang When I saw you last Thursday( M...</td>\n",
              "      <td>Info Giving</td>\n",
              "    </tr>\n",
              "    <tr>\n",
              "      <th>...</th>\n",
              "      <td>...</td>\n",
              "      <td>...</td>\n",
              "    </tr>\n",
              "    <tr>\n",
              "      <th>393</th>\n",
              "      <td>gh and comprehensive metabolic panel blood tes...</td>\n",
              "      <td>SDM</td>\n",
              "    </tr>\n",
              "    <tr>\n",
              "      <th>394</th>\n",
              "      <td>gh and comprehensive metabolic panel blood tes...</td>\n",
              "      <td>SDM</td>\n",
              "    </tr>\n",
              "    <tr>\n",
              "      <th>395</th>\n",
              "      <td>gh and comprehensive metabolic panel tests res...</td>\n",
              "      <td>SDM</td>\n",
              "    </tr>\n",
              "    <tr>\n",
              "      <th>396</th>\n",
              "      <td>gh and comprehensive metabolous panel blood te...</td>\n",
              "      <td>SDM</td>\n",
              "    </tr>\n",
              "    <tr>\n",
              "      <th>397</th>\n",
              "      <td>gh and comprehensive metabolic panel blood tes...</td>\n",
              "      <td>SDM</td>\n",
              "    </tr>\n",
              "  </tbody>\n",
              "</table>\n",
              "<p>398 rows × 2 columns</p>\n",
              "</div>\n",
              "      <button class=\"colab-df-convert\" onclick=\"convertToInteractive('df-b76c06ac-a8ab-41d9-83f7-4da173320069')\"\n",
              "              title=\"Convert this dataframe to an interactive table.\"\n",
              "              style=\"display:none;\">\n",
              "        \n",
              "  <svg xmlns=\"http://www.w3.org/2000/svg\" height=\"24px\"viewBox=\"0 0 24 24\"\n",
              "       width=\"24px\">\n",
              "    <path d=\"M0 0h24v24H0V0z\" fill=\"none\"/>\n",
              "    <path d=\"M18.56 5.44l.94 2.06.94-2.06 2.06-.94-2.06-.94-.94-2.06-.94 2.06-2.06.94zm-11 1L8.5 8.5l.94-2.06 2.06-.94-2.06-.94L8.5 2.5l-.94 2.06-2.06.94zm10 10l.94 2.06.94-2.06 2.06-.94-2.06-.94-.94-2.06-.94 2.06-2.06.94z\"/><path d=\"M17.41 7.96l-1.37-1.37c-.4-.4-.92-.59-1.43-.59-.52 0-1.04.2-1.43.59L10.3 9.45l-7.72 7.72c-.78.78-.78 2.05 0 2.83L4 21.41c.39.39.9.59 1.41.59.51 0 1.02-.2 1.41-.59l7.78-7.78 2.81-2.81c.8-.78.8-2.07 0-2.86zM5.41 20L4 18.59l7.72-7.72 1.47 1.35L5.41 20z\"/>\n",
              "  </svg>\n",
              "      </button>\n",
              "      \n",
              "  <style>\n",
              "    .colab-df-container {\n",
              "      display:flex;\n",
              "      flex-wrap:wrap;\n",
              "      gap: 12px;\n",
              "    }\n",
              "\n",
              "    .colab-df-convert {\n",
              "      background-color: #E8F0FE;\n",
              "      border: none;\n",
              "      border-radius: 50%;\n",
              "      cursor: pointer;\n",
              "      display: none;\n",
              "      fill: #1967D2;\n",
              "      height: 32px;\n",
              "      padding: 0 0 0 0;\n",
              "      width: 32px;\n",
              "    }\n",
              "\n",
              "    .colab-df-convert:hover {\n",
              "      background-color: #E2EBFA;\n",
              "      box-shadow: 0px 1px 2px rgba(60, 64, 67, 0.3), 0px 1px 3px 1px rgba(60, 64, 67, 0.15);\n",
              "      fill: #174EA6;\n",
              "    }\n",
              "\n",
              "    [theme=dark] .colab-df-convert {\n",
              "      background-color: #3B4455;\n",
              "      fill: #D2E3FC;\n",
              "    }\n",
              "\n",
              "    [theme=dark] .colab-df-convert:hover {\n",
              "      background-color: #434B5C;\n",
              "      box-shadow: 0px 1px 3px 1px rgba(0, 0, 0, 0.15);\n",
              "      filter: drop-shadow(0px 1px 2px rgba(0, 0, 0, 0.3));\n",
              "      fill: #FFFFFF;\n",
              "    }\n",
              "  </style>\n",
              "\n",
              "      <script>\n",
              "        const buttonEl =\n",
              "          document.querySelector('#df-b76c06ac-a8ab-41d9-83f7-4da173320069 button.colab-df-convert');\n",
              "        buttonEl.style.display =\n",
              "          google.colab.kernel.accessAllowed ? 'block' : 'none';\n",
              "\n",
              "        async function convertToInteractive(key) {\n",
              "          const element = document.querySelector('#df-b76c06ac-a8ab-41d9-83f7-4da173320069');\n",
              "          const dataTable =\n",
              "            await google.colab.kernel.invokeFunction('convertToInteractive',\n",
              "                                                     [key], {});\n",
              "          if (!dataTable) return;\n",
              "\n",
              "          const docLinkHtml = 'Like what you see? Visit the ' +\n",
              "            '<a target=\"_blank\" href=https://colab.research.google.com/notebooks/data_table.ipynb>data table notebook</a>'\n",
              "            + ' to learn more about interactive tables.';\n",
              "          element.innerHTML = '';\n",
              "          dataTable['output_type'] = 'display_data';\n",
              "          await google.colab.output.renderOutput(dataTable, element);\n",
              "          const docLink = document.createElement('div');\n",
              "          docLink.innerHTML = docLinkHtml;\n",
              "          element.appendChild(docLink);\n",
              "        }\n",
              "      </script>\n",
              "    </div>\n",
              "  </div>\n",
              "  "
            ]
          },
          "metadata": {},
          "execution_count": 22
        }
      ]
    },
    {
      "cell_type": "code",
      "source": [
        "augmented_df.to_csv(\"augmented_data.csv\")"
      ],
      "metadata": {
        "id": "L5SZ7ZlUmqf-"
      },
      "execution_count": 23,
      "outputs": []
    },
    {
      "cell_type": "markdown",
      "source": [
        "TODO:\n",
        "\n",
        "Feature extraction\n",
        "\n",
        "Wordnet vs UMLS"
      ],
      "metadata": {
        "id": "LpgzffJCRBLx"
      }
    },
    {
      "cell_type": "code",
      "source": [
        "IG[\"Quotation Content\"][0]"
      ],
      "metadata": {
        "id": "wD5pwUls7F29"
      },
      "execution_count": null,
      "outputs": []
    },
    {
      "cell_type": "code",
      "source": [
        "from nltk.tokenize import word_tokenize\n",
        "nltk.download('punkt')\n",
        "#word_tokenize(IG[\"Quotation Content\"][0])"
      ],
      "metadata": {
        "id": "HcI7USuq7pvR"
      },
      "execution_count": null,
      "outputs": []
    },
    {
      "cell_type": "code",
      "source": [
        "from nltk.tokenize import sent_tokenize\n",
        "sent_tokenize(IG[\"Quotation Content\"][0])"
      ],
      "metadata": {
        "id": "6z5vircK91ct"
      },
      "execution_count": null,
      "outputs": []
    },
    {
      "cell_type": "code",
      "source": [
        "from nltk.tokenize.punkt import PunktSentenceTokenizer\n",
        "pst = PunktSentenceTokenizer()\n",
        "pst.tokenize(IG[\"Quotation Content\"][0])"
      ],
      "metadata": {
        "id": "PkJ4rAUjJl9Z"
      },
      "execution_count": null,
      "outputs": []
    },
    {
      "cell_type": "code",
      "source": [
        "tokenizer = nltk.data.load('tokenizers/punkt/english.pickle')\n",
        "sentences = tokenizer.tokenize(IG[\"Quotation Content\"][0])\n",
        "\n",
        "# Print segmented sentences\n",
        "for sentence in sentences:\n",
        "    print(sentence)"
      ],
      "metadata": {
        "id": "JkVtQq2e8Hf7"
      },
      "execution_count": null,
      "outputs": []
    },
    {
      "cell_type": "code",
      "source": [
        "%pip install transformers\n"
      ],
      "metadata": {
        "id": "I_mzll81ASa7"
      },
      "execution_count": null,
      "outputs": []
    },
    {
      "cell_type": "code",
      "source": [
        "from transformers import AutoTokenizer\n",
        "\n",
        "# Load pre-trained tokenizer\n",
        "tokenizer = AutoTokenizer.from_pretrained('bert-base-uncased')\n",
        "\n",
        "# Define unpunctuated text\n",
        "text = \"HeisgoingtothemarkettobuygroceriesShewenttotheparkandplayedwithherfriends\"\n",
        "\n",
        "# Use tokenizer to segment sentences\n",
        "sentences = tokenizer.tokenize(text, add_special_tokens=False)\n",
        "\n",
        "# Merge adjacent tokens that belong to the same sentence\n",
        "merged_sentences = []\n",
        "current_sentence = \"\"\n",
        "for token in sentences:\n",
        "    current_sentence += token\n",
        "    if token.endswith(\".\") or token.endswith(\"?\") or token.endswith(\"!\"):\n",
        "        merged_sentences.append(current_sentence)\n",
        "        current_sentence = \"\"\n",
        "\n",
        "# Print segmented sentences\n",
        "for sentence in merged_sentences:\n",
        "    print(sentence)\n"
      ],
      "metadata": {
        "id": "Jzli-Md7_0cr"
      },
      "execution_count": null,
      "outputs": []
    },
    {
      "cell_type": "code",
      "source": [
        "merged_sentences"
      ],
      "metadata": {
        "id": "wqeFTML4AfcR"
      },
      "execution_count": null,
      "outputs": []
    }
  ]
}