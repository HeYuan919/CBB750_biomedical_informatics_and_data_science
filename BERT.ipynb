{
  "nbformat": 4,
  "nbformat_minor": 0,
  "metadata": {
    "colab": {
      "provenance": []
    },
    "kernelspec": {
      "name": "python3",
      "display_name": "Python 3"
    },
    "language_info": {
      "name": "python"
    },
    "accelerator": "GPU",
    "gpuClass": "standard"
  },
  "cells": [
    {
      "cell_type": "markdown",
      "source": [
        "### Experiment Settings"
      ],
      "metadata": {
        "id": "vAIuPDnYgGqS"
      }
    },
    {
      "cell_type": "code",
      "source": [
        "epochs = 5\n",
        "max_len = 100"
      ],
      "metadata": {
        "id": "dBal155-TaAM"
      },
      "execution_count": 147,
      "outputs": []
    },
    {
      "cell_type": "code",
      "source": [
        "# Experiment_name\n",
        "experiment_name = 'basline_entire_dataset'\n",
        "\n",
        "# Naming: model\n",
        "model_path = '/content/drive/My Drive/CBB-750/Final Project/model/' + experiment_name + '.pt'\n",
        "print(model_path)\n",
        "\n",
        "# Naming: training history\n",
        "training_df_path = '/content/drive/My Drive/CBB-750/Final Project/history/' + experiment_name + '.csv'\n",
        "print(training_df_path)"
      ],
      "metadata": {
        "colab": {
          "base_uri": "https://localhost:8080/",
          "height": 0
        },
        "id": "v5yea0rWgKe8",
        "outputId": "f7b05deb-3f81-4b98-c60d-2ef8b7c5b4de"
      },
      "execution_count": 2,
      "outputs": [
        {
          "output_type": "stream",
          "name": "stdout",
          "text": [
            "/content/drive/My Drive/CBB-750/Final Project/model/basline_entire_dataset.pt\n",
            "/content/drive/My Drive/CBB-750/Final Project/history/basline_entire_dataset.csv\n"
          ]
        }
      ]
    },
    {
      "cell_type": "markdown",
      "source": [
        "### GPU"
      ],
      "metadata": {
        "id": "GV9W56IQdUze"
      }
    },
    {
      "cell_type": "code",
      "execution_count": 3,
      "metadata": {
        "colab": {
          "base_uri": "https://localhost:8080/",
          "height": 0
        },
        "id": "4iAhaxpMItsj",
        "outputId": "cceb8bc4-8aef-4a73-92bf-37f3c52a9a9d"
      },
      "outputs": [
        {
          "output_type": "stream",
          "name": "stdout",
          "text": [
            "Found GPU at: /device:GPU:0\n"
          ]
        }
      ],
      "source": [
        "# verify GPU availability\n",
        "import tensorflow as tf\n",
        "\n",
        "device_name = tf.test.gpu_device_name()\n",
        "if device_name != '/device:GPU:0':\n",
        "  raise SystemError('GPU device not found')\n",
        "print('Found GPU at: {}'.format(device_name))"
      ]
    },
    {
      "cell_type": "code",
      "source": [
        "# mount Google Drive \n",
        "from google.colab import drive\n",
        "drive.mount('/content/drive')"
      ],
      "metadata": {
        "colab": {
          "base_uri": "https://localhost:8080/",
          "height": 0
        },
        "id": "V9GGa0UJJG8h",
        "outputId": "36462aa3-772b-4c01-9c90-ab3816b885ff"
      },
      "execution_count": 4,
      "outputs": [
        {
          "output_type": "stream",
          "name": "stdout",
          "text": [
            "Mounted at /content/drive\n"
          ]
        }
      ]
    },
    {
      "cell_type": "markdown",
      "source": [
        "### Read Dataset"
      ],
      "metadata": {
        "id": "R_wwS-W_dYhH"
      }
    },
    {
      "cell_type": "code",
      "source": [
        "# load the file into a dataframe\n",
        "import pandas as pd\n",
        "import numpy as np\n",
        "df = pd.read_excel('/content/drive/My Drive/CBB-750/Final Project/data.xlsx') \n",
        "df"
      ],
      "metadata": {
        "colab": {
          "base_uri": "https://localhost:8080/",
          "height": 424
        },
        "id": "jNVjqLWlJMUp",
        "outputId": "603efaf8-9059-40b4-c392-e1d5302df5c3"
      },
      "execution_count": 6,
      "outputs": [
        {
          "output_type": "execute_result",
          "data": {
            "text/plain": [
              "                                     Quotation Content               Codes\n",
              "0    197\n",
              "I noticed that my medication list has not ...  Information-Giving\n",
              "1    Blood in urine and stool- began yesterday We a...  Information-Giving\n",
              "2    Can someone set up that appointment as I do no...  Information-Giving\n",
              "3    Dear Doctor Lacy I just was told my daughter w...  Information-Giving\n",
              "4    Dear Dr Chiang When I saw you last Thursday( M...  Information-Giving\n",
              "..                                                 ...                 ...\n",
              "256  Thank you for the update I will speak to the t...         Partnership\n",
              "257               Yes:) I will have put in lab orders\n",
              "         Partnership\n",
              "258  Only 4 left Has renewal been sent in How can w...         Partnership\n",
              "259  Dear Dr Chiang When I saw you last Thursday( M...         Partnership\n",
              "260  I had my blood testing done yesterday at the i...         Partnership\n",
              "\n",
              "[261 rows x 2 columns]"
            ],
            "text/html": [
              "\n",
              "  <div id=\"df-1912f65e-92eb-45ba-86b4-34758f935ccf\">\n",
              "    <div class=\"colab-df-container\">\n",
              "      <div>\n",
              "<style scoped>\n",
              "    .dataframe tbody tr th:only-of-type {\n",
              "        vertical-align: middle;\n",
              "    }\n",
              "\n",
              "    .dataframe tbody tr th {\n",
              "        vertical-align: top;\n",
              "    }\n",
              "\n",
              "    .dataframe thead th {\n",
              "        text-align: right;\n",
              "    }\n",
              "</style>\n",
              "<table border=\"1\" class=\"dataframe\">\n",
              "  <thead>\n",
              "    <tr style=\"text-align: right;\">\n",
              "      <th></th>\n",
              "      <th>Quotation Content</th>\n",
              "      <th>Codes</th>\n",
              "    </tr>\n",
              "  </thead>\n",
              "  <tbody>\n",
              "    <tr>\n",
              "      <th>0</th>\n",
              "      <td>197 I noticed that my medication list has not ...</td>\n",
              "      <td>Information-Giving</td>\n",
              "    </tr>\n",
              "    <tr>\n",
              "      <th>1</th>\n",
              "      <td>Blood in urine and stool- began yesterday We a...</td>\n",
              "      <td>Information-Giving</td>\n",
              "    </tr>\n",
              "    <tr>\n",
              "      <th>2</th>\n",
              "      <td>Can someone set up that appointment as I do no...</td>\n",
              "      <td>Information-Giving</td>\n",
              "    </tr>\n",
              "    <tr>\n",
              "      <th>3</th>\n",
              "      <td>Dear Doctor Lacy I just was told my daughter w...</td>\n",
              "      <td>Information-Giving</td>\n",
              "    </tr>\n",
              "    <tr>\n",
              "      <th>4</th>\n",
              "      <td>Dear Dr Chiang When I saw you last Thursday( M...</td>\n",
              "      <td>Information-Giving</td>\n",
              "    </tr>\n",
              "    <tr>\n",
              "      <th>...</th>\n",
              "      <td>...</td>\n",
              "      <td>...</td>\n",
              "    </tr>\n",
              "    <tr>\n",
              "      <th>256</th>\n",
              "      <td>Thank you for the update I will speak to the t...</td>\n",
              "      <td>Partnership</td>\n",
              "    </tr>\n",
              "    <tr>\n",
              "      <th>257</th>\n",
              "      <td>Yes:) I will have put in lab orders</td>\n",
              "      <td>Partnership</td>\n",
              "    </tr>\n",
              "    <tr>\n",
              "      <th>258</th>\n",
              "      <td>Only 4 left Has renewal been sent in How can w...</td>\n",
              "      <td>Partnership</td>\n",
              "    </tr>\n",
              "    <tr>\n",
              "      <th>259</th>\n",
              "      <td>Dear Dr Chiang When I saw you last Thursday( M...</td>\n",
              "      <td>Partnership</td>\n",
              "    </tr>\n",
              "    <tr>\n",
              "      <th>260</th>\n",
              "      <td>I had my blood testing done yesterday at the i...</td>\n",
              "      <td>Partnership</td>\n",
              "    </tr>\n",
              "  </tbody>\n",
              "</table>\n",
              "<p>261 rows × 2 columns</p>\n",
              "</div>\n",
              "      <button class=\"colab-df-convert\" onclick=\"convertToInteractive('df-1912f65e-92eb-45ba-86b4-34758f935ccf')\"\n",
              "              title=\"Convert this dataframe to an interactive table.\"\n",
              "              style=\"display:none;\">\n",
              "        \n",
              "  <svg xmlns=\"http://www.w3.org/2000/svg\" height=\"24px\"viewBox=\"0 0 24 24\"\n",
              "       width=\"24px\">\n",
              "    <path d=\"M0 0h24v24H0V0z\" fill=\"none\"/>\n",
              "    <path d=\"M18.56 5.44l.94 2.06.94-2.06 2.06-.94-2.06-.94-.94-2.06-.94 2.06-2.06.94zm-11 1L8.5 8.5l.94-2.06 2.06-.94-2.06-.94L8.5 2.5l-.94 2.06-2.06.94zm10 10l.94 2.06.94-2.06 2.06-.94-2.06-.94-.94-2.06-.94 2.06-2.06.94z\"/><path d=\"M17.41 7.96l-1.37-1.37c-.4-.4-.92-.59-1.43-.59-.52 0-1.04.2-1.43.59L10.3 9.45l-7.72 7.72c-.78.78-.78 2.05 0 2.83L4 21.41c.39.39.9.59 1.41.59.51 0 1.02-.2 1.41-.59l7.78-7.78 2.81-2.81c.8-.78.8-2.07 0-2.86zM5.41 20L4 18.59l7.72-7.72 1.47 1.35L5.41 20z\"/>\n",
              "  </svg>\n",
              "      </button>\n",
              "      \n",
              "  <style>\n",
              "    .colab-df-container {\n",
              "      display:flex;\n",
              "      flex-wrap:wrap;\n",
              "      gap: 12px;\n",
              "    }\n",
              "\n",
              "    .colab-df-convert {\n",
              "      background-color: #E8F0FE;\n",
              "      border: none;\n",
              "      border-radius: 50%;\n",
              "      cursor: pointer;\n",
              "      display: none;\n",
              "      fill: #1967D2;\n",
              "      height: 32px;\n",
              "      padding: 0 0 0 0;\n",
              "      width: 32px;\n",
              "    }\n",
              "\n",
              "    .colab-df-convert:hover {\n",
              "      background-color: #E2EBFA;\n",
              "      box-shadow: 0px 1px 2px rgba(60, 64, 67, 0.3), 0px 1px 3px 1px rgba(60, 64, 67, 0.15);\n",
              "      fill: #174EA6;\n",
              "    }\n",
              "\n",
              "    [theme=dark] .colab-df-convert {\n",
              "      background-color: #3B4455;\n",
              "      fill: #D2E3FC;\n",
              "    }\n",
              "\n",
              "    [theme=dark] .colab-df-convert:hover {\n",
              "      background-color: #434B5C;\n",
              "      box-shadow: 0px 1px 3px 1px rgba(0, 0, 0, 0.15);\n",
              "      filter: drop-shadow(0px 1px 2px rgba(0, 0, 0, 0.3));\n",
              "      fill: #FFFFFF;\n",
              "    }\n",
              "  </style>\n",
              "\n",
              "      <script>\n",
              "        const buttonEl =\n",
              "          document.querySelector('#df-1912f65e-92eb-45ba-86b4-34758f935ccf button.colab-df-convert');\n",
              "        buttonEl.style.display =\n",
              "          google.colab.kernel.accessAllowed ? 'block' : 'none';\n",
              "\n",
              "        async function convertToInteractive(key) {\n",
              "          const element = document.querySelector('#df-1912f65e-92eb-45ba-86b4-34758f935ccf');\n",
              "          const dataTable =\n",
              "            await google.colab.kernel.invokeFunction('convertToInteractive',\n",
              "                                                     [key], {});\n",
              "          if (!dataTable) return;\n",
              "\n",
              "          const docLinkHtml = 'Like what you see? Visit the ' +\n",
              "            '<a target=\"_blank\" href=https://colab.research.google.com/notebooks/data_table.ipynb>data table notebook</a>'\n",
              "            + ' to learn more about interactive tables.';\n",
              "          element.innerHTML = '';\n",
              "          dataTable['output_type'] = 'display_data';\n",
              "          await google.colab.output.renderOutput(dataTable, element);\n",
              "          const docLink = document.createElement('div');\n",
              "          docLink.innerHTML = docLinkHtml;\n",
              "          element.appendChild(docLink);\n",
              "        }\n",
              "      </script>\n",
              "    </div>\n",
              "  </div>\n",
              "  "
            ]
          },
          "metadata": {},
          "execution_count": 6
        }
      ]
    },
    {
      "cell_type": "code",
      "source": [
        "df"
      ],
      "metadata": {
        "colab": {
          "base_uri": "https://localhost:8080/",
          "height": 424
        },
        "id": "ri9qUPakNWTJ",
        "outputId": "4c91a820-a74d-420f-fab5-c4cc66c971f6"
      },
      "execution_count": 7,
      "outputs": [
        {
          "output_type": "execute_result",
          "data": {
            "text/plain": [
              "                                     Quotation Content               Codes\n",
              "0    197\n",
              "I noticed that my medication list has not ...  Information-Giving\n",
              "1    Blood in urine and stool- began yesterday We a...  Information-Giving\n",
              "2    Can someone set up that appointment as I do no...  Information-Giving\n",
              "3    Dear Doctor Lacy I just was told my daughter w...  Information-Giving\n",
              "4    Dear Dr Chiang When I saw you last Thursday( M...  Information-Giving\n",
              "..                                                 ...                 ...\n",
              "256  Thank you for the update I will speak to the t...         Partnership\n",
              "257               Yes:) I will have put in lab orders\n",
              "         Partnership\n",
              "258  Only 4 left Has renewal been sent in How can w...         Partnership\n",
              "259  Dear Dr Chiang When I saw you last Thursday( M...         Partnership\n",
              "260  I had my blood testing done yesterday at the i...         Partnership\n",
              "\n",
              "[261 rows x 2 columns]"
            ],
            "text/html": [
              "\n",
              "  <div id=\"df-d18c4092-0169-40b6-b71f-60530b8e9edc\">\n",
              "    <div class=\"colab-df-container\">\n",
              "      <div>\n",
              "<style scoped>\n",
              "    .dataframe tbody tr th:only-of-type {\n",
              "        vertical-align: middle;\n",
              "    }\n",
              "\n",
              "    .dataframe tbody tr th {\n",
              "        vertical-align: top;\n",
              "    }\n",
              "\n",
              "    .dataframe thead th {\n",
              "        text-align: right;\n",
              "    }\n",
              "</style>\n",
              "<table border=\"1\" class=\"dataframe\">\n",
              "  <thead>\n",
              "    <tr style=\"text-align: right;\">\n",
              "      <th></th>\n",
              "      <th>Quotation Content</th>\n",
              "      <th>Codes</th>\n",
              "    </tr>\n",
              "  </thead>\n",
              "  <tbody>\n",
              "    <tr>\n",
              "      <th>0</th>\n",
              "      <td>197 I noticed that my medication list has not ...</td>\n",
              "      <td>Information-Giving</td>\n",
              "    </tr>\n",
              "    <tr>\n",
              "      <th>1</th>\n",
              "      <td>Blood in urine and stool- began yesterday We a...</td>\n",
              "      <td>Information-Giving</td>\n",
              "    </tr>\n",
              "    <tr>\n",
              "      <th>2</th>\n",
              "      <td>Can someone set up that appointment as I do no...</td>\n",
              "      <td>Information-Giving</td>\n",
              "    </tr>\n",
              "    <tr>\n",
              "      <th>3</th>\n",
              "      <td>Dear Doctor Lacy I just was told my daughter w...</td>\n",
              "      <td>Information-Giving</td>\n",
              "    </tr>\n",
              "    <tr>\n",
              "      <th>4</th>\n",
              "      <td>Dear Dr Chiang When I saw you last Thursday( M...</td>\n",
              "      <td>Information-Giving</td>\n",
              "    </tr>\n",
              "    <tr>\n",
              "      <th>...</th>\n",
              "      <td>...</td>\n",
              "      <td>...</td>\n",
              "    </tr>\n",
              "    <tr>\n",
              "      <th>256</th>\n",
              "      <td>Thank you for the update I will speak to the t...</td>\n",
              "      <td>Partnership</td>\n",
              "    </tr>\n",
              "    <tr>\n",
              "      <th>257</th>\n",
              "      <td>Yes:) I will have put in lab orders</td>\n",
              "      <td>Partnership</td>\n",
              "    </tr>\n",
              "    <tr>\n",
              "      <th>258</th>\n",
              "      <td>Only 4 left Has renewal been sent in How can w...</td>\n",
              "      <td>Partnership</td>\n",
              "    </tr>\n",
              "    <tr>\n",
              "      <th>259</th>\n",
              "      <td>Dear Dr Chiang When I saw you last Thursday( M...</td>\n",
              "      <td>Partnership</td>\n",
              "    </tr>\n",
              "    <tr>\n",
              "      <th>260</th>\n",
              "      <td>I had my blood testing done yesterday at the i...</td>\n",
              "      <td>Partnership</td>\n",
              "    </tr>\n",
              "  </tbody>\n",
              "</table>\n",
              "<p>261 rows × 2 columns</p>\n",
              "</div>\n",
              "      <button class=\"colab-df-convert\" onclick=\"convertToInteractive('df-d18c4092-0169-40b6-b71f-60530b8e9edc')\"\n",
              "              title=\"Convert this dataframe to an interactive table.\"\n",
              "              style=\"display:none;\">\n",
              "        \n",
              "  <svg xmlns=\"http://www.w3.org/2000/svg\" height=\"24px\"viewBox=\"0 0 24 24\"\n",
              "       width=\"24px\">\n",
              "    <path d=\"M0 0h24v24H0V0z\" fill=\"none\"/>\n",
              "    <path d=\"M18.56 5.44l.94 2.06.94-2.06 2.06-.94-2.06-.94-.94-2.06-.94 2.06-2.06.94zm-11 1L8.5 8.5l.94-2.06 2.06-.94-2.06-.94L8.5 2.5l-.94 2.06-2.06.94zm10 10l.94 2.06.94-2.06 2.06-.94-2.06-.94-.94-2.06-.94 2.06-2.06.94z\"/><path d=\"M17.41 7.96l-1.37-1.37c-.4-.4-.92-.59-1.43-.59-.52 0-1.04.2-1.43.59L10.3 9.45l-7.72 7.72c-.78.78-.78 2.05 0 2.83L4 21.41c.39.39.9.59 1.41.59.51 0 1.02-.2 1.41-.59l7.78-7.78 2.81-2.81c.8-.78.8-2.07 0-2.86zM5.41 20L4 18.59l7.72-7.72 1.47 1.35L5.41 20z\"/>\n",
              "  </svg>\n",
              "      </button>\n",
              "      \n",
              "  <style>\n",
              "    .colab-df-container {\n",
              "      display:flex;\n",
              "      flex-wrap:wrap;\n",
              "      gap: 12px;\n",
              "    }\n",
              "\n",
              "    .colab-df-convert {\n",
              "      background-color: #E8F0FE;\n",
              "      border: none;\n",
              "      border-radius: 50%;\n",
              "      cursor: pointer;\n",
              "      display: none;\n",
              "      fill: #1967D2;\n",
              "      height: 32px;\n",
              "      padding: 0 0 0 0;\n",
              "      width: 32px;\n",
              "    }\n",
              "\n",
              "    .colab-df-convert:hover {\n",
              "      background-color: #E2EBFA;\n",
              "      box-shadow: 0px 1px 2px rgba(60, 64, 67, 0.3), 0px 1px 3px 1px rgba(60, 64, 67, 0.15);\n",
              "      fill: #174EA6;\n",
              "    }\n",
              "\n",
              "    [theme=dark] .colab-df-convert {\n",
              "      background-color: #3B4455;\n",
              "      fill: #D2E3FC;\n",
              "    }\n",
              "\n",
              "    [theme=dark] .colab-df-convert:hover {\n",
              "      background-color: #434B5C;\n",
              "      box-shadow: 0px 1px 3px 1px rgba(0, 0, 0, 0.15);\n",
              "      filter: drop-shadow(0px 1px 2px rgba(0, 0, 0, 0.3));\n",
              "      fill: #FFFFFF;\n",
              "    }\n",
              "  </style>\n",
              "\n",
              "      <script>\n",
              "        const buttonEl =\n",
              "          document.querySelector('#df-d18c4092-0169-40b6-b71f-60530b8e9edc button.colab-df-convert');\n",
              "        buttonEl.style.display =\n",
              "          google.colab.kernel.accessAllowed ? 'block' : 'none';\n",
              "\n",
              "        async function convertToInteractive(key) {\n",
              "          const element = document.querySelector('#df-d18c4092-0169-40b6-b71f-60530b8e9edc');\n",
              "          const dataTable =\n",
              "            await google.colab.kernel.invokeFunction('convertToInteractive',\n",
              "                                                     [key], {});\n",
              "          if (!dataTable) return;\n",
              "\n",
              "          const docLinkHtml = 'Like what you see? Visit the ' +\n",
              "            '<a target=\"_blank\" href=https://colab.research.google.com/notebooks/data_table.ipynb>data table notebook</a>'\n",
              "            + ' to learn more about interactive tables.';\n",
              "          element.innerHTML = '';\n",
              "          dataTable['output_type'] = 'display_data';\n",
              "          await google.colab.output.renderOutput(dataTable, element);\n",
              "          const docLink = document.createElement('div');\n",
              "          docLink.innerHTML = docLinkHtml;\n",
              "          element.appendChild(docLink);\n",
              "        }\n",
              "      </script>\n",
              "    </div>\n",
              "  </div>\n",
              "  "
            ]
          },
          "metadata": {},
          "execution_count": 7
        }
      ]
    },
    {
      "cell_type": "code",
      "source": [
        "# import package and torch\n",
        "!pip install --upgrade packaging --quiet\n",
        "!pip install torch --quiet\n",
        "import torch\n",
        "\n",
        "assert torch.cuda.is_available()\n",
        "\n",
        "# Tell torch to use GPU\n",
        "device = torch.device(\"cuda\")\n",
        "print('Running GPU: {}'.format(torch.cuda.get_device_name()))"
      ],
      "metadata": {
        "colab": {
          "base_uri": "https://localhost:8080/",
          "height": 0
        },
        "id": "LTUrRlUeK17Q",
        "outputId": "e5d0f77b-3ba0-4b94-c37d-55088e902397"
      },
      "execution_count": 8,
      "outputs": [
        {
          "output_type": "stream",
          "name": "stdout",
          "text": [
            "\u001b[?25l     \u001b[90m━━━━━━━━━━━━━━━━━━━━━━━━━━━━━━━━━━━━━━━━\u001b[0m \u001b[32m0.0/48.9 kB\u001b[0m \u001b[31m?\u001b[0m eta \u001b[36m-:--:--\u001b[0m\r\u001b[2K     \u001b[90m━━━━━━━━━━━━━━━━━━━━━━━━━━━━━━━━━━━━━━━━\u001b[0m \u001b[32m48.9/48.9 kB\u001b[0m \u001b[31m2.8 MB/s\u001b[0m eta \u001b[36m0:00:00\u001b[0m\n",
            "\u001b[?25hRunning GPU: Tesla T4\n"
          ]
        }
      ]
    },
    {
      "cell_type": "code",
      "source": [
        "possible_labels = df.Codes.unique()\n",
        "\n",
        "label_dict = {}\n",
        "for index, possible_label in enumerate(possible_labels):\n",
        "    label_dict[possible_label] = index\n",
        "label_dict"
      ],
      "metadata": {
        "colab": {
          "base_uri": "https://localhost:8080/",
          "height": 0
        },
        "id": "dDlHKDzgN0kT",
        "outputId": "bc353137-a70c-441e-9513-8604d0dadbb4"
      },
      "execution_count": 9,
      "outputs": [
        {
          "output_type": "execute_result",
          "data": {
            "text/plain": [
              "{'Information-Giving': 0,\n",
              " 'Information-Seeking': 1,\n",
              " 'Emotion': 2,\n",
              " 'Partnership': 3}"
            ]
          },
          "metadata": {},
          "execution_count": 9
        }
      ]
    },
    {
      "cell_type": "code",
      "source": [
        "df['label'] = df.Codes.replace(label_dict)\n",
        "df['text'] = df['Quotation Content']"
      ],
      "metadata": {
        "id": "AtpJFcr0OLcf"
      },
      "execution_count": 10,
      "outputs": []
    },
    {
      "cell_type": "code",
      "source": [
        "df.head()\n"
      ],
      "metadata": {
        "colab": {
          "base_uri": "https://localhost:8080/",
          "height": 206
        },
        "id": "30Q7Z_8qawZt",
        "outputId": "3eb31a16-dc01-4861-e131-6a6358f7cffe"
      },
      "execution_count": 11,
      "outputs": [
        {
          "output_type": "execute_result",
          "data": {
            "text/plain": [
              "                                   Quotation Content               Codes  \\\n",
              "0  197\n",
              "I noticed that my medication list has not ...  Information-Giving   \n",
              "1  Blood in urine and stool- began yesterday We a...  Information-Giving   \n",
              "2  Can someone set up that appointment as I do no...  Information-Giving   \n",
              "3  Dear Doctor Lacy I just was told my daughter w...  Information-Giving   \n",
              "4  Dear Dr Chiang When I saw you last Thursday( M...  Information-Giving   \n",
              "\n",
              "   label                                               text  \n",
              "0      0  197\n",
              "I noticed that my medication list has not ...  \n",
              "1      0  Blood in urine and stool- began yesterday We a...  \n",
              "2      0  Can someone set up that appointment as I do no...  \n",
              "3      0  Dear Doctor Lacy I just was told my daughter w...  \n",
              "4      0  Dear Dr Chiang When I saw you last Thursday( M...  "
            ],
            "text/html": [
              "\n",
              "  <div id=\"df-2130f44d-36d7-465b-ae94-4ace30dc9dd2\">\n",
              "    <div class=\"colab-df-container\">\n",
              "      <div>\n",
              "<style scoped>\n",
              "    .dataframe tbody tr th:only-of-type {\n",
              "        vertical-align: middle;\n",
              "    }\n",
              "\n",
              "    .dataframe tbody tr th {\n",
              "        vertical-align: top;\n",
              "    }\n",
              "\n",
              "    .dataframe thead th {\n",
              "        text-align: right;\n",
              "    }\n",
              "</style>\n",
              "<table border=\"1\" class=\"dataframe\">\n",
              "  <thead>\n",
              "    <tr style=\"text-align: right;\">\n",
              "      <th></th>\n",
              "      <th>Quotation Content</th>\n",
              "      <th>Codes</th>\n",
              "      <th>label</th>\n",
              "      <th>text</th>\n",
              "    </tr>\n",
              "  </thead>\n",
              "  <tbody>\n",
              "    <tr>\n",
              "      <th>0</th>\n",
              "      <td>197 I noticed that my medication list has not ...</td>\n",
              "      <td>Information-Giving</td>\n",
              "      <td>0</td>\n",
              "      <td>197 I noticed that my medication list has not ...</td>\n",
              "    </tr>\n",
              "    <tr>\n",
              "      <th>1</th>\n",
              "      <td>Blood in urine and stool- began yesterday We a...</td>\n",
              "      <td>Information-Giving</td>\n",
              "      <td>0</td>\n",
              "      <td>Blood in urine and stool- began yesterday We a...</td>\n",
              "    </tr>\n",
              "    <tr>\n",
              "      <th>2</th>\n",
              "      <td>Can someone set up that appointment as I do no...</td>\n",
              "      <td>Information-Giving</td>\n",
              "      <td>0</td>\n",
              "      <td>Can someone set up that appointment as I do no...</td>\n",
              "    </tr>\n",
              "    <tr>\n",
              "      <th>3</th>\n",
              "      <td>Dear Doctor Lacy I just was told my daughter w...</td>\n",
              "      <td>Information-Giving</td>\n",
              "      <td>0</td>\n",
              "      <td>Dear Doctor Lacy I just was told my daughter w...</td>\n",
              "    </tr>\n",
              "    <tr>\n",
              "      <th>4</th>\n",
              "      <td>Dear Dr Chiang When I saw you last Thursday( M...</td>\n",
              "      <td>Information-Giving</td>\n",
              "      <td>0</td>\n",
              "      <td>Dear Dr Chiang When I saw you last Thursday( M...</td>\n",
              "    </tr>\n",
              "  </tbody>\n",
              "</table>\n",
              "</div>\n",
              "      <button class=\"colab-df-convert\" onclick=\"convertToInteractive('df-2130f44d-36d7-465b-ae94-4ace30dc9dd2')\"\n",
              "              title=\"Convert this dataframe to an interactive table.\"\n",
              "              style=\"display:none;\">\n",
              "        \n",
              "  <svg xmlns=\"http://www.w3.org/2000/svg\" height=\"24px\"viewBox=\"0 0 24 24\"\n",
              "       width=\"24px\">\n",
              "    <path d=\"M0 0h24v24H0V0z\" fill=\"none\"/>\n",
              "    <path d=\"M18.56 5.44l.94 2.06.94-2.06 2.06-.94-2.06-.94-.94-2.06-.94 2.06-2.06.94zm-11 1L8.5 8.5l.94-2.06 2.06-.94-2.06-.94L8.5 2.5l-.94 2.06-2.06.94zm10 10l.94 2.06.94-2.06 2.06-.94-2.06-.94-.94-2.06-.94 2.06-2.06.94z\"/><path d=\"M17.41 7.96l-1.37-1.37c-.4-.4-.92-.59-1.43-.59-.52 0-1.04.2-1.43.59L10.3 9.45l-7.72 7.72c-.78.78-.78 2.05 0 2.83L4 21.41c.39.39.9.59 1.41.59.51 0 1.02-.2 1.41-.59l7.78-7.78 2.81-2.81c.8-.78.8-2.07 0-2.86zM5.41 20L4 18.59l7.72-7.72 1.47 1.35L5.41 20z\"/>\n",
              "  </svg>\n",
              "      </button>\n",
              "      \n",
              "  <style>\n",
              "    .colab-df-container {\n",
              "      display:flex;\n",
              "      flex-wrap:wrap;\n",
              "      gap: 12px;\n",
              "    }\n",
              "\n",
              "    .colab-df-convert {\n",
              "      background-color: #E8F0FE;\n",
              "      border: none;\n",
              "      border-radius: 50%;\n",
              "      cursor: pointer;\n",
              "      display: none;\n",
              "      fill: #1967D2;\n",
              "      height: 32px;\n",
              "      padding: 0 0 0 0;\n",
              "      width: 32px;\n",
              "    }\n",
              "\n",
              "    .colab-df-convert:hover {\n",
              "      background-color: #E2EBFA;\n",
              "      box-shadow: 0px 1px 2px rgba(60, 64, 67, 0.3), 0px 1px 3px 1px rgba(60, 64, 67, 0.15);\n",
              "      fill: #174EA6;\n",
              "    }\n",
              "\n",
              "    [theme=dark] .colab-df-convert {\n",
              "      background-color: #3B4455;\n",
              "      fill: #D2E3FC;\n",
              "    }\n",
              "\n",
              "    [theme=dark] .colab-df-convert:hover {\n",
              "      background-color: #434B5C;\n",
              "      box-shadow: 0px 1px 3px 1px rgba(0, 0, 0, 0.15);\n",
              "      filter: drop-shadow(0px 1px 2px rgba(0, 0, 0, 0.3));\n",
              "      fill: #FFFFFF;\n",
              "    }\n",
              "  </style>\n",
              "\n",
              "      <script>\n",
              "        const buttonEl =\n",
              "          document.querySelector('#df-2130f44d-36d7-465b-ae94-4ace30dc9dd2 button.colab-df-convert');\n",
              "        buttonEl.style.display =\n",
              "          google.colab.kernel.accessAllowed ? 'block' : 'none';\n",
              "\n",
              "        async function convertToInteractive(key) {\n",
              "          const element = document.querySelector('#df-2130f44d-36d7-465b-ae94-4ace30dc9dd2');\n",
              "          const dataTable =\n",
              "            await google.colab.kernel.invokeFunction('convertToInteractive',\n",
              "                                                     [key], {});\n",
              "          if (!dataTable) return;\n",
              "\n",
              "          const docLinkHtml = 'Like what you see? Visit the ' +\n",
              "            '<a target=\"_blank\" href=https://colab.research.google.com/notebooks/data_table.ipynb>data table notebook</a>'\n",
              "            + ' to learn more about interactive tables.';\n",
              "          element.innerHTML = '';\n",
              "          dataTable['output_type'] = 'display_data';\n",
              "          await google.colab.output.renderOutput(dataTable, element);\n",
              "          const docLink = document.createElement('div');\n",
              "          docLink.innerHTML = docLinkHtml;\n",
              "          element.appendChild(docLink);\n",
              "        }\n",
              "      </script>\n",
              "    </div>\n",
              "  </div>\n",
              "  "
            ]
          },
          "metadata": {},
          "execution_count": 11
        }
      ]
    },
    {
      "cell_type": "code",
      "source": [
        "import seaborn as sns\n",
        "sns.histplot(df['label'])"
      ],
      "metadata": {
        "colab": {
          "base_uri": "https://localhost:8080/",
          "height": 467
        },
        "id": "yTGiLORnbpT0",
        "outputId": "5e6b0932-c84f-4c82-df5b-8db104e316dd"
      },
      "execution_count": 12,
      "outputs": [
        {
          "output_type": "execute_result",
          "data": {
            "text/plain": [
              "<Axes: xlabel='label', ylabel='Count'>"
            ]
          },
          "metadata": {},
          "execution_count": 12
        },
        {
          "output_type": "display_data",
          "data": {
            "text/plain": [
              "<Figure size 640x480 with 1 Axes>"
            ],
            "image/png": "[encoded data removed]"
          },
          "metadata": {}
        }
      ]
    },
    {
      "cell_type": "markdown",
      "source": [
        "### Data Split"
      ],
      "metadata": {
        "id": "sT4Hryc0dOU9"
      }
    },
    {
      "cell_type": "code",
      "source": [
        "from sklearn.model_selection import train_test_split\n",
        "\n",
        "df_train, df_rem = train_test_split(df,\n",
        "                                    test_size=0.3,\n",
        "                                    random_state=1,\n",
        "                                    stratify=df['label'])\n",
        "\n",
        "df_val, df_test = train_test_split(df_rem, test_size=0.5, random_state=1,\n",
        "                                    stratify=df_rem['label'])\n"
      ],
      "metadata": {
        "id": "GR5qgAJsaBGa"
      },
      "execution_count": 148,
      "outputs": []
    },
    {
      "cell_type": "code",
      "source": [
        "for item in df_train, df_val, df_test:\n",
        "    print('Shape: {}'.format(item.shape))\n",
        "\n",
        "# Show df_train class distribution    \n",
        "sns.histplot(df_train['label'])"
      ],
      "metadata": {
        "colab": {
          "base_uri": "https://localhost:8080/",
          "height": 520
        },
        "id": "qJ7-McZfeEGz",
        "outputId": "92bed468-c670-4e56-a60e-3d4ffc696c28"
      },
      "execution_count": 149,
      "outputs": [
        {
          "output_type": "stream",
          "name": "stdout",
          "text": [
            "Shape: (182, 4)\n",
            "Shape: (39, 4)\n",
            "Shape: (40, 4)\n"
          ]
        },
        {
          "output_type": "execute_result",
          "data": {
            "text/plain": [
              "<Axes: xlabel='label', ylabel='Count'>"
            ]
          },
          "metadata": {},
          "execution_count": 149
        },
        {
          "output_type": "display_data",
          "data": {
            "text/plain": [
              "<Figure size 640x480 with 1 Axes>"
            ],
            "image/png": "[encoded data removed]"
          },
          "metadata": {}
        }
      ]
    },
    {
      "cell_type": "markdown",
      "source": [
        "### Tokenization"
      ],
      "metadata": {
        "id": "hkVZZ6M4eVZW"
      }
    },
    {
      "cell_type": "code",
      "source": [
        "from transformers import BertTokenizer\n",
        "\n",
        "# Load BERT tokenizer\n",
        "model_name = 'bert-base-uncased'\n",
        "tokenizer = BertTokenizer.from_pretrained(model_name, \n",
        "                                          do_lower_case=True)"
      ],
      "metadata": {
        "id": "s9J6BxEveZnN"
      },
      "execution_count": 150,
      "outputs": []
    },
    {
      "cell_type": "code",
      "source": [
        "def get_encoded_dict(df):\n",
        "    input_ids = []\n",
        "    attention_mask = []\n",
        "\n",
        "    for text in df['Quotation Content']:\n",
        "        encoded = tokenizer.encode_plus(text,\n",
        "                                        add_special_tokens=True,\n",
        "                                        padding='max_length',\n",
        "                                        return_attention_mask=True,\n",
        "                                        max_length=max_len,\n",
        "                                        return_tensors='pt',\n",
        "                                        truncation=True)\n",
        "\n",
        "        input_ids.append(encoded['input_ids'])\n",
        "        attention_mask.append(encoded['attention_mask'])\n",
        "        \n",
        "    return input_ids, attention_mask"
      ],
      "metadata": {
        "id": "3rWggzcqe4dC"
      },
      "execution_count": 151,
      "outputs": []
    },
    {
      "cell_type": "code",
      "source": [
        "# Cat lists to tensors for TensorDataset\n",
        "def get_tensors(input_ids, attention_mask):\n",
        "    \n",
        "    input_ids = torch.cat(input_ids, dim=0)\n",
        "    attention_mask = torch.cat(attention_mask, dim=0)\n",
        "    \n",
        "    return input_ids, attention_mask"
      ],
      "metadata": {
        "id": "e_ewHQfue9Ov"
      },
      "execution_count": 152,
      "outputs": []
    },
    {
      "cell_type": "code",
      "source": [
        "# Import tools for Dataloader\n",
        "from torch.utils.data import TensorDataset,DataLoader,RandomSampler,SequentialSampler\n",
        "\n",
        "# Convert df to DataLoader\n",
        "def get_dataloader(df, batch_size=32):\n",
        "    temp_ids, temp_masks = get_encoded_dict(df)\n",
        "    \n",
        "    # Convert to tensors\n",
        "    temp_ids, temp_masks = get_tensors(temp_ids, temp_masks)\n",
        "    temp_labels = torch.tensor(df['label'].values)\n",
        "    \n",
        "    # Generate dataset\n",
        "    temp_dataset = TensorDataset(temp_ids,\n",
        "                                 temp_masks,\n",
        "                                 temp_labels)\n",
        "    \n",
        "    # Generate dataloader\n",
        "    temp_dataloader = DataLoader(temp_dataset,\n",
        "                                 batch_size=batch_size,\n",
        "                                 sampler=RandomSampler(temp_dataset))\n",
        "    \n",
        "    return temp_dataloader"
      ],
      "metadata": {
        "id": "d37A0qvJfFEb"
      },
      "execution_count": 153,
      "outputs": []
    },
    {
      "cell_type": "code",
      "source": [
        "# Get dataloader for all dataframes\n",
        "train_dataloader = get_dataloader(df_train)\n",
        "val_dataloader = get_dataloader(df_val)\n",
        "test_dataloader = get_dataloader(df_test)\n"
      ],
      "metadata": {
        "id": "83SFwZlGfI51"
      },
      "execution_count": 154,
      "outputs": []
    },
    {
      "cell_type": "markdown",
      "source": [
        "### Import BERT"
      ],
      "metadata": {
        "id": "GklnEiyPgZXL"
      }
    },
    {
      "cell_type": "code",
      "source": [
        "from transformers import BertForSequenceClassification, AdamW\n",
        "\n",
        "model = BertForSequenceClassification.from_pretrained(model_name,\n",
        "                                                      num_labels=len(label_dict),\n",
        "                                                      output_attentions=False,\n",
        "                                                      output_hidden_states=False)\n",
        "\n",
        "# Tell mode to use CUDA\n",
        "model.cuda()"
      ],
      "metadata": {
        "colab": {
          "base_uri": "https://localhost:8080/",
          "height": 0
        },
        "id": "zXH_XcUHfcuT",
        "outputId": "2185eb45-8dfa-47f2-d09c-80fac3f129ca"
      },
      "execution_count": 155,
      "outputs": [
        {
          "output_type": "stream",
          "name": "stderr",
          "text": [
            "Some weights of the model checkpoint at bert-base-uncased were not used when initializing BertForSequenceClassification: ['cls.seq_relationship.bias', 'cls.predictions.transform.dense.bias', 'cls.seq_relationship.weight', 'cls.predictions.decoder.weight', 'cls.predictions.transform.dense.weight', 'cls.predictions.transform.LayerNorm.weight', 'cls.predictions.transform.LayerNorm.bias', 'cls.predictions.bias']\n",
            "- This IS expected if you are initializing BertForSequenceClassification from the checkpoint of a model trained on another task or with another architecture (e.g. initializing a BertForSequenceClassification model from a BertForPreTraining model).\n",
            "- This IS NOT expected if you are initializing BertForSequenceClassification from the checkpoint of a model that you expect to be exactly identical (initializing a BertForSequenceClassification model from a BertForSequenceClassification model).\n",
            "Some weights of BertForSequenceClassification were not initialized from the model checkpoint at bert-base-uncased and are newly initialized: ['classifier.bias', 'classifier.weight']\n",
            "You should probably TRAIN this model on a down-stream task to be able to use it for predictions and inference.\n"
          ]
        },
        {
          "output_type": "execute_result",
          "data": {
            "text/plain": [
              "BertForSequenceClassification(\n",
              "  (bert): BertModel(\n",
              "    (embeddings): BertEmbeddings(\n",
              "      (word_embeddings): Embedding(30522, 768, padding_idx=0)\n",
              "      (position_embeddings): Embedding(512, 768)\n",
              "      (token_type_embeddings): Embedding(2, 768)\n",
              "      (LayerNorm): LayerNorm((768,), eps=1e-12, elementwise_affine=True)\n",
              "      (dropout): Dropout(p=0.1, inplace=False)\n",
              "    )\n",
              "    (encoder): BertEncoder(\n",
              "      (layer): ModuleList(\n",
              "        (0-11): 12 x BertLayer(\n",
              "          (attention): BertAttention(\n",
              "            (self): BertSelfAttention(\n",
              "              (query): Linear(in_features=768, out_features=768, bias=True)\n",
              "              (key): Linear(in_features=768, out_features=768, bias=True)\n",
              "              (value): Linear(in_features=768, out_features=768, bias=True)\n",
              "              (dropout): Dropout(p=0.1, inplace=False)\n",
              "            )\n",
              "            (output): BertSelfOutput(\n",
              "              (dense): Linear(in_features=768, out_features=768, bias=True)\n",
              "              (LayerNorm): LayerNorm((768,), eps=1e-12, elementwise_affine=True)\n",
              "              (dropout): Dropout(p=0.1, inplace=False)\n",
              "            )\n",
              "          )\n",
              "          (intermediate): BertIntermediate(\n",
              "            (dense): Linear(in_features=768, out_features=3072, bias=True)\n",
              "            (intermediate_act_fn): GELUActivation()\n",
              "          )\n",
              "          (output): BertOutput(\n",
              "            (dense): Linear(in_features=3072, out_features=768, bias=True)\n",
              "            (LayerNorm): LayerNorm((768,), eps=1e-12, elementwise_affine=True)\n",
              "            (dropout): Dropout(p=0.1, inplace=False)\n",
              "          )\n",
              "        )\n",
              "      )\n",
              "    )\n",
              "    (pooler): BertPooler(\n",
              "      (dense): Linear(in_features=768, out_features=768, bias=True)\n",
              "      (activation): Tanh()\n",
              "    )\n",
              "  )\n",
              "  (dropout): Dropout(p=0.1, inplace=False)\n",
              "  (classifier): Linear(in_features=768, out_features=4, bias=True)\n",
              ")"
            ]
          },
          "metadata": {},
          "execution_count": 155
        }
      ]
    },
    {
      "cell_type": "code",
      "source": [
        "# Configuring optimizer\n",
        "optimizer = AdamW(model.parameters(),\n",
        "                  lr = 3e-5)"
      ],
      "metadata": {
        "colab": {
          "base_uri": "https://localhost:8080/",
          "height": 0
        },
        "id": "Ydbp3BThg7v5",
        "outputId": "57f5c7f9-f2f6-4a70-9197-4ac3803fdb27"
      },
      "execution_count": 156,
      "outputs": [
        {
          "output_type": "stream",
          "name": "stderr",
          "text": [
            "/usr/local/lib/python3.9/dist-packages/transformers/optimization.py:391: FutureWarning: This implementation of AdamW is deprecated and will be removed in a future version. Use the PyTorch implementation torch.optim.AdamW instead, or set `no_deprecation_warning=True` to disable this warning\n",
            "  warnings.warn(\n"
          ]
        }
      ]
    },
    {
      "cell_type": "code",
      "source": [
        "# Configuring scheduler\n",
        "from transformers import get_linear_schedule_with_warmup\n",
        "\n",
        "# Total steps: number of batchers * epochs\n",
        "total_steps = len(train_dataloader) * epochs\n",
        "\n",
        "# Set up the scheduler\n",
        "scheduler = get_linear_schedule_with_warmup(optimizer,\n",
        "                                            num_warmup_steps=10,\n",
        "                                            num_training_steps=total_steps)"
      ],
      "metadata": {
        "id": "XRt4vkG4g9h4"
      },
      "execution_count": 157,
      "outputs": []
    },
    {
      "cell_type": "markdown",
      "source": [
        "### Training"
      ],
      "metadata": {
        "id": "sai3WlK6hCQ9"
      }
    },
    {
      "cell_type": "code",
      "source": [
        "# Import materics\n",
        "from sklearn.metrics import accuracy_score, confusion_matrix, classification_report\n",
        "\n",
        "import time"
      ],
      "metadata": {
        "id": "IrsrmlLtg_JC"
      },
      "execution_count": 158,
      "outputs": []
    },
    {
      "cell_type": "code",
      "source": [
        "# Reset history lists\n",
        "training_stats = []\n",
        "\n",
        "for epoch_i in range(epochs):\n",
        "    \n",
        "    # timer_start\n",
        "    epoch_t0 = time.time()\n",
        "    \n",
        "    print('【EPOCH: {}/ {}】'.format(epoch_i+1, epochs))\n",
        "    print('Trainig Phase')\n",
        "    \n",
        "    # Set training mode\n",
        "    model.train()\n",
        "    \n",
        "    # Reset training loss\n",
        "    total_training_loss = 0\n",
        "    \n",
        "    # Batch and forward\n",
        "    for batch in train_dataloader:\n",
        "        b_input_ids = batch[0].to(device)\n",
        "        b_masks = batch[1].to(device)\n",
        "        b_labels = batch[2].to(device)\n",
        "    \n",
        "        # Reset gradients before \n",
        "        model.zero_grad()\n",
        "        \n",
        "        # Forward pass\n",
        "        res = model(b_input_ids,\n",
        "                    token_type_ids=None,\n",
        "                    attention_mask=b_masks,\n",
        "                    return_dict=True,\n",
        "                    labels=b_labels)\n",
        "        \n",
        "        loss = res.loss\n",
        "        logits = res.logits\n",
        "        \n",
        "        # sumup training loss\n",
        "        total_training_loss += loss.item()\n",
        "        \n",
        "        # backpropagation\n",
        "        loss.backward()\n",
        "        \n",
        "        # Clip the norm of the gradients to 1.0.\n",
        "        # This is to help prevent the \"exploding gradients\" problem.\n",
        "        torch.nn.utils.clip_grad_norm_(model.parameters(), 1.0)\n",
        "        \n",
        "        # update optimizer and scheduler\n",
        "        optimizer.step()\n",
        "        scheduler.step()\n",
        "        \n",
        "    # averrage loss\n",
        "    avg_train_loss = total_training_loss/len(train_dataloader)\n",
        "    print(\"  Average training loss: {0:.4f}\".format(avg_train_loss))\n",
        "    \n",
        "    \n",
        "    # validation\n",
        "    print('Validation Phase')\n",
        "    \n",
        "    # Reset validation loss\n",
        "    total_val_loss = 0\n",
        "    \n",
        "    # Set up lists\n",
        "    ls_val_logits = []\n",
        "    ls_val_labels = []\n",
        "\n",
        "    # Get batchs from val_dataloader\n",
        "    for batch in val_dataloader:\n",
        "        b_input_ids = batch[0].to(device)\n",
        "        b_masks = batch[1].to(device)\n",
        "        b_labels = batch[2].to(device)\n",
        "\n",
        "        # No need to calculate gradients\n",
        "        with torch.no_grad():\n",
        "\n",
        "            res = model(b_input_ids,\n",
        "                        token_type_ids=None,\n",
        "                        attention_mask=b_masks,\n",
        "                        labels=b_labels,\n",
        "                        return_dict=True)\n",
        "\n",
        "        val_loss = res.loss\n",
        "        val_logits = res.logits\n",
        "        total_val_loss += val_loss.item()\n",
        "\n",
        "        # Convert logitis to numpy format\n",
        "        val_logits = np.argmax(val_logits.cpu().detach().numpy(), axis=1)\n",
        "        val_labels = b_labels.cpu().detach().numpy()\n",
        "\n",
        "        # Append data to the lists\n",
        "        for logit in val_logits:\n",
        "            ls_val_logits.append(logit)\n",
        "\n",
        "        for label in val_labels:\n",
        "            ls_val_labels.append(label)\n",
        "    \n",
        "    # Get accuracy score and val_loss\n",
        "    acc = accuracy_score(ls_val_logits, ls_val_labels)\n",
        "    avg_val_loss = total_val_loss/len(val_dataloader)\n",
        "    \n",
        "    # Print out validation performance\n",
        "    print('  Average validation loss: {:.4f}'.format(avg_val_loss))\n",
        "    print('  Validation accruacy: {:.4f}'.format(acc))\n",
        "    \n",
        "    \n",
        "    # timer_end\n",
        "    epoch_time_spent = time.time() - epoch_t0\n",
        "    print('  Time spent on the epoch: {:.2f}'.format(epoch_time_spent))\n",
        "    print('\\n')\n",
        "    \n",
        "    # Recording training stats\n",
        "    training_stats.append(\n",
        "        {\n",
        "            'Epoch': epoch_i+1,\n",
        "            'train_loss': avg_train_loss,\n",
        "            'val_loss': avg_val_loss,\n",
        "            'val_acc': acc,\n",
        "            'time_spent': epoch_time_spent\n",
        "        })"
      ],
      "metadata": {
        "colab": {
          "base_uri": "https://localhost:8080/",
          "height": 0
        },
        "id": "j8Yb3JCAQOlu",
        "outputId": "4989ea9d-dbbb-4329-8011-36e4c4b2c791"
      },
      "execution_count": 159,
      "outputs": [
        {
          "output_type": "stream",
          "name": "stdout",
          "text": [
            "【EPOCH: 1/ 5】\n",
            "Trainig Phase\n",
            "  Average training loss: 1.3621\n",
            "Validation Phase\n",
            "  Average validation loss: 1.3381\n",
            "  Validation accruacy: 0.5128\n",
            "  Time spent on the epoch: 3.23\n",
            "\n",
            "\n",
            "【EPOCH: 2/ 5】\n",
            "Trainig Phase\n",
            "  Average training loss: 1.1869\n",
            "Validation Phase\n",
            "  Average validation loss: 1.1265\n",
            "  Validation accruacy: 0.6154\n",
            "  Time spent on the epoch: 3.25\n",
            "\n",
            "\n",
            "【EPOCH: 3/ 5】\n",
            "Trainig Phase\n",
            "  Average training loss: 1.0255\n",
            "Validation Phase\n",
            "  Average validation loss: 1.0854\n",
            "  Validation accruacy: 0.6154\n",
            "  Time spent on the epoch: 3.27\n",
            "\n",
            "\n",
            "【EPOCH: 4/ 5】\n",
            "Trainig Phase\n",
            "  Average training loss: 0.9889\n",
            "Validation Phase\n",
            "  Average validation loss: 0.9762\n",
            "  Validation accruacy: 0.5897\n",
            "  Time spent on the epoch: 3.30\n",
            "\n",
            "\n",
            "【EPOCH: 5/ 5】\n",
            "Trainig Phase\n",
            "  Average training loss: 0.9127\n",
            "Validation Phase\n",
            "  Average validation loss: 0.8895\n",
            "  Validation accruacy: 0.6154\n",
            "  Time spent on the epoch: 3.32\n",
            "\n",
            "\n"
          ]
        }
      ]
    },
    {
      "cell_type": "markdown",
      "source": [
        "### Training performance"
      ],
      "metadata": {
        "id": "BxwuwLu3hVd6"
      }
    },
    {
      "cell_type": "code",
      "source": [
        "train_loss = []\n",
        "val_loss = []\n",
        "val_acc = []\n",
        "time_spent = []\n",
        "\n",
        "for i in range(len(training_stats)):\n",
        "    train_loss.append(training_stats[i]['train_loss'])\n",
        "    val_loss.append(training_stats[i]['val_loss'])\n",
        "    val_acc.append(training_stats[i]['val_acc'])\n",
        "    time_spent.append(training_stats[i]['time_spent'])"
      ],
      "metadata": {
        "id": "8VkWT0rphVAq"
      },
      "execution_count": 160,
      "outputs": []
    },
    {
      "cell_type": "code",
      "source": [
        "# Print time spent\n",
        "print('Time spent on training {} epochs: {:.0f}'.format(epochs, np.sum(time_spent)/60) + ' minutes')\n",
        "\n",
        "# Plotting\n",
        "import matplotlib.pyplot as plt\n",
        "\n",
        "plt.figure(figsize=(10,3))\n",
        "\n",
        "plt.subplot(1,2,1)\n",
        "plt.plot(train_loss)\n",
        "plt.plot(val_loss)\n",
        "plt.title('loss')\n",
        "\n",
        "plt.subplot(1,2,2)\n",
        "plt.plot(val_acc, color='red', linestyle='--')\n",
        "plt.title('accuracy')"
      ],
      "metadata": {
        "colab": {
          "base_uri": "https://localhost:8080/",
          "height": 350
        },
        "id": "01e0r935hZ7D",
        "outputId": "b7dd669a-c56f-4fcf-a989-76d54e45bc96"
      },
      "execution_count": 161,
      "outputs": [
        {
          "output_type": "stream",
          "name": "stdout",
          "text": [
            "Time spent on training 5 epochs: 0 minutes\n"
          ]
        },
        {
          "output_type": "execute_result",
          "data": {
            "text/plain": [
              "Text(0.5, 1.0, 'accuracy')"
            ]
          },
          "metadata": {},
          "execution_count": 161
        },
        {
          "output_type": "display_data",
          "data": {
            "text/plain": [
              "<Figure size 1000x300 with 2 Axes>"
            ],
            "image/png": "[encoded data removed]"
          },
          "metadata": {}
        }
      ]
    },
    {
      "cell_type": "code",
      "source": [
        "torch.save(model.state_dict(), model_path)"
      ],
      "metadata": {
        "id": "tHg6mXLAhhY6"
      },
      "execution_count": 162,
      "outputs": []
    },
    {
      "cell_type": "markdown",
      "source": [
        "### Perform on the test data"
      ],
      "metadata": {
        "id": "rVvGpgTjiHlW"
      }
    },
    {
      "cell_type": "code",
      "source": [
        "# Prepare df_test for prediction\n",
        "t_input_ids, t_attention_mask = get_encoded_dict(df_test)\n",
        "t_input_ids, t_attention_mask = get_tensors(t_input_ids, t_attention_mask)\n",
        "\n",
        "# Prepare dataset and dataloader\n",
        "test_dataset = TensorDataset(t_input_ids, t_attention_mask)\n",
        "test_dataloader = DataLoader(test_dataset,\n",
        "                             batch_size=32,\n",
        "                             sampler=SequentialSampler(test_dataset))\n",
        "\n",
        "# Show dataloader length\n",
        "print('Number of batches in the dataloader: {}'.format(len(test_dataloader)))"
      ],
      "metadata": {
        "colab": {
          "base_uri": "https://localhost:8080/",
          "height": 0
        },
        "id": "vX251h7EQyxP",
        "outputId": "03e65747-e23d-42fe-c1b0-7500bd6025d6"
      },
      "execution_count": 163,
      "outputs": [
        {
          "output_type": "stream",
          "name": "stdout",
          "text": [
            "Number of batches in the dataloader: 2\n"
          ]
        }
      ]
    },
    {
      "cell_type": "code",
      "source": [
        "# Setup lists for predictions and labels\n",
        "ls_test_pred = []\n",
        "\n",
        "# Get batchs from test_dataloader\n",
        "for batch in test_dataloader:\n",
        "    b_input_ids = batch[0].to(device)\n",
        "    b_masks = batch[1].to(device)\n",
        "    \n",
        "    with torch.no_grad():\n",
        "\n",
        "        res = model(b_input_ids,\n",
        "                    attention_mask=b_masks,\n",
        "                    return_dict=True)\n",
        "\n",
        "        test_logits = res.logits\n",
        "        test_logits = np.argmax(test_logits.cpu().detach().numpy(), axis=1)\n",
        "        \n",
        "        for pred in test_logits:\n",
        "            ls_test_pred.append(pred)"
      ],
      "metadata": {
        "id": "VdopUv0pQ7SA"
      },
      "execution_count": 164,
      "outputs": []
    },
    {
      "cell_type": "code",
      "source": [
        "# Set up list of test labels\n",
        "ls_test_labels = df_test['Codes'].values\n",
        "rev_subs = { v:k for k,v in label_dict.items()}\n",
        "ls_test_pred = [rev_subs.get(item,item)  for item in ls_test_pred]\n",
        "# Get accuracy score and val_loss\n",
        "acc = accuracy_score(ls_test_pred, ls_test_labels)\n",
        "print('Prediction accuracy: {:.4f}'.format(acc))"
      ],
      "metadata": {
        "colab": {
          "base_uri": "https://localhost:8080/",
          "height": 0
        },
        "id": "cUru9t0HiIg9",
        "outputId": "45c16e73-5534-4963-b199-533afc2c5489"
      },
      "execution_count": 165,
      "outputs": [
        {
          "output_type": "stream",
          "name": "stdout",
          "text": [
            "Prediction accuracy: 0.5750\n"
          ]
        }
      ]
    },
    {
      "cell_type": "code",
      "source": [
        "# Confusion matrix\n",
        "cm = confusion_matrix(ls_test_pred, ls_test_labels)\n",
        "\n",
        "fig = plt.figure(figsize=(8,8))\n",
        "ax= fig.add_subplot(1,1,1)\n",
        "sns.heatmap(cm, annot=True, cmap=\"Greens\",ax = ax,fmt='g'); #annot=True to annotate cells\n",
        "\n",
        "# labels, title and ticks\n",
        "ax.set_xlabel('Predicted labels');ax.set_ylabel('True labels'); \n",
        "ax.set_title('Confusion Matrix'); \n",
        "ax.xaxis.set_ticklabels(labels); ax.yaxis.set_ticklabels(labels);\n",
        "plt.setp(ax.get_yticklabels(), rotation=30, horizontalalignment='right')\n",
        "plt.setp(ax.get_xticklabels(), rotation=30, horizontalalignment='right')     \n",
        "plt.show()\n",
        "print(classification_report(ls_test_labels,ls_test_pred,labels=labels))"
      ],
      "metadata": {
        "colab": {
          "base_uri": "https://localhost:8080/",
          "height": 1000
        },
        "id": "lOlkxFEuRQN_",
        "outputId": "5f3cde21-3eaa-49b9-d5ab-082f769ea275"
      },
      "execution_count": 167,
      "outputs": [
        {
          "output_type": "display_data",
          "data": {
            "text/plain": [
              "<Figure size 800x800 with 2 Axes>"
            ],
            "image/png": "[encoded data removed]"
          },
          "metadata": {}
        },
        {
          "output_type": "stream",
          "name": "stdout",
          "text": [
            "                     precision    recall  f1-score   support\n",
            "\n",
            " Information-Giving       0.59      0.96      0.73        24\n",
            "Information-Seeking       0.00      0.00      0.00         9\n",
            "            Emotion       0.00      0.00      0.00         5\n",
            "        Partnership       0.00      0.00      0.00         2\n",
            "\n",
            "           accuracy                           0.57        40\n",
            "          macro avg       0.15      0.24      0.18        40\n",
            "       weighted avg       0.35      0.57      0.44        40\n",
            "\n"
          ]
        },
        {
          "output_type": "stream",
          "name": "stderr",
          "text": [
            "/usr/local/lib/python3.9/dist-packages/sklearn/metrics/_classification.py:1344: UndefinedMetricWarning: Precision and F-score are ill-defined and being set to 0.0 in labels with no predicted samples. Use `zero_division` parameter to control this behavior.\n",
            "  _warn_prf(average, modifier, msg_start, len(result))\n",
            "/usr/local/lib/python3.9/dist-packages/sklearn/metrics/_classification.py:1344: UndefinedMetricWarning: Precision and F-score are ill-defined and being set to 0.0 in labels with no predicted samples. Use `zero_division` parameter to control this behavior.\n",
            "  _warn_prf(average, modifier, msg_start, len(result))\n",
            "/usr/local/lib/python3.9/dist-packages/sklearn/metrics/_classification.py:1344: UndefinedMetricWarning: Precision and F-score are ill-defined and being set to 0.0 in labels with no predicted samples. Use `zero_division` parameter to control this behavior.\n",
            "  _warn_prf(average, modifier, msg_start, len(result))\n"
          ]
        }
      ]
    }
  ]
}